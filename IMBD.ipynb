{
 "cells": [
  {
   "attachments": {},
   "cell_type": "markdown",
   "metadata": {},
   "source": [
    "# Import Libraries & Font & File"
   ]
  },
  {
   "cell_type": "code",
   "execution_count": 2,
   "metadata": {},
   "outputs": [],
   "source": [
    "import numpy as np\n",
    "import pandas as pd\n",
    "import matplotlib.pyplot as plt\n",
    "import matplotlib as mpl\n",
    "import seaborn as sns\n",
    "import plotly.express as px"
   ]
  },
  {
   "cell_type": "code",
   "execution_count": 3,
   "metadata": {},
   "outputs": [],
   "source": [
    "plt.rc('font', family='Arial Unicode MS') # For MacOS\n",
    "mpl.rcParams['axes.unicode_minus'] = False  "
   ]
  },
  {
   "cell_type": "code",
   "execution_count": 21,
   "metadata": {},
   "outputs": [],
   "source": [
    "#Bring file into the notebook\n",
    "idg = pd.read_csv('/Users/dtive/Documents/GitHub/Kaggle/IMBD/contentDataGenre.csv')\n",
    "idp = pd.read_csv('/Users/dtive/Documents/GitHub/Kaggle/IMBD/contentDataPrime.csv')\n",
    "idr = pd.read_csv('/Users/dtive/Documents/GitHub/Kaggle/IMBD/contentDataRegion.csv')"
   ]
  },
  {
   "cell_type": "code",
   "execution_count": 22,
   "metadata": {},
   "outputs": [
    {
     "name": "stdout",
     "output_type": "stream",
     "text": [
      "<class 'pandas.core.frame.DataFrame'>\n",
      "RangeIndex: 219213 entries, 0 to 219212\n",
      "Data columns (total 2 columns):\n",
      " #   Column  Non-Null Count   Dtype \n",
      "---  ------  --------------   ----- \n",
      " 0   dataId  219213 non-null  int64 \n",
      " 1   genre   219213 non-null  object\n",
      "dtypes: int64(1), object(1)\n",
      "memory usage: 3.3+ MB\n"
     ]
    }
   ],
   "source": [
    "#Analyze the heads of the data\n",
    "idg.info()"
   ]
  },
  {
   "cell_type": "code",
   "execution_count": 23,
   "metadata": {},
   "outputs": [
    {
     "data": {
      "text/html": [
       "<div>\n",
       "<style scoped>\n",
       "    .dataframe tbody tr th:only-of-type {\n",
       "        vertical-align: middle;\n",
       "    }\n",
       "\n",
       "    .dataframe tbody tr th {\n",
       "        vertical-align: top;\n",
       "    }\n",
       "\n",
       "    .dataframe thead th {\n",
       "        text-align: right;\n",
       "    }\n",
       "</style>\n",
       "<table border=\"1\" class=\"dataframe\">\n",
       "  <thead>\n",
       "    <tr style=\"text-align: right;\">\n",
       "      <th></th>\n",
       "      <th>dataId</th>\n",
       "      <th>contentType</th>\n",
       "      <th>title</th>\n",
       "      <th>length</th>\n",
       "      <th>releaseYear</th>\n",
       "      <th>endYear</th>\n",
       "      <th>votes</th>\n",
       "      <th>rating</th>\n",
       "      <th>gross</th>\n",
       "      <th>certificate</th>\n",
       "      <th>description</th>\n",
       "    </tr>\n",
       "  </thead>\n",
       "  <tbody>\n",
       "    <tr>\n",
       "      <th>0</th>\n",
       "      <td>102795</td>\n",
       "      <td>movie</td>\n",
       "      <td>Ratha Kanneer</td>\n",
       "      <td>154</td>\n",
       "      <td>1954</td>\n",
       "      <td>-1</td>\n",
       "      <td>349</td>\n",
       "      <td>8.5</td>\n",
       "      <td>-1</td>\n",
       "      <td>NaN</td>\n",
       "      <td>The story revolves around Mohanasundaram, a re...</td>\n",
       "    </tr>\n",
       "    <tr>\n",
       "      <th>1</th>\n",
       "      <td>102796</td>\n",
       "      <td>movie</td>\n",
       "      <td>All Star Comedy Jam</td>\n",
       "      <td>89</td>\n",
       "      <td>-1</td>\n",
       "      <td>-1</td>\n",
       "      <td>349</td>\n",
       "      <td>7.5</td>\n",
       "      <td>-1</td>\n",
       "      <td>Not Rated</td>\n",
       "      <td>The Original King of Comedy and Shaquille O'Ne...</td>\n",
       "    </tr>\n",
       "    <tr>\n",
       "      <th>2</th>\n",
       "      <td>102797</td>\n",
       "      <td>movie</td>\n",
       "      <td>Faces of Death: Fact or Fiction?</td>\n",
       "      <td>54</td>\n",
       "      <td>-1</td>\n",
       "      <td>-1</td>\n",
       "      <td>349</td>\n",
       "      <td>2.9</td>\n",
       "      <td>-1</td>\n",
       "      <td>Unrated</td>\n",
       "      <td>Add a Plot\\n</td>\n",
       "    </tr>\n",
       "    <tr>\n",
       "      <th>3</th>\n",
       "      <td>102798</td>\n",
       "      <td>movie</td>\n",
       "      <td>Don't Look</td>\n",
       "      <td>71</td>\n",
       "      <td>2018</td>\n",
       "      <td>-1</td>\n",
       "      <td>349</td>\n",
       "      <td>2.8</td>\n",
       "      <td>-1</td>\n",
       "      <td>NaN</td>\n",
       "      <td>In the tradition of classic horror movies, \"Do...</td>\n",
       "    </tr>\n",
       "    <tr>\n",
       "      <th>4</th>\n",
       "      <td>102799</td>\n",
       "      <td>movie</td>\n",
       "      <td>The Escape from Auschwitz</td>\n",
       "      <td>80</td>\n",
       "      <td>2020</td>\n",
       "      <td>-1</td>\n",
       "      <td>349</td>\n",
       "      <td>1.7</td>\n",
       "      <td>-1</td>\n",
       "      <td>TV-MA</td>\n",
       "      <td>After capturing Kazimierz Piechowski at the Hu...</td>\n",
       "    </tr>\n",
       "  </tbody>\n",
       "</table>\n",
       "</div>"
      ],
      "text/plain": [
       "   dataId contentType                             title length  releaseYear  \\\n",
       "0  102795       movie                     Ratha Kanneer    154         1954   \n",
       "1  102796       movie               All Star Comedy Jam     89           -1   \n",
       "2  102797       movie  Faces of Death: Fact or Fiction?     54           -1   \n",
       "3  102798       movie                        Don't Look     71         2018   \n",
       "4  102799       movie         The Escape from Auschwitz     80         2020   \n",
       "\n",
       "   endYear  votes  rating  gross certificate  \\\n",
       "0       -1    349     8.5     -1         NaN   \n",
       "1       -1    349     7.5     -1   Not Rated   \n",
       "2       -1    349     2.9     -1     Unrated   \n",
       "3       -1    349     2.8     -1         NaN   \n",
       "4       -1    349     1.7     -1       TV-MA   \n",
       "\n",
       "                                         description  \n",
       "0  The story revolves around Mohanasundaram, a re...  \n",
       "1  The Original King of Comedy and Shaquille O'Ne...  \n",
       "2                                       Add a Plot\\n  \n",
       "3  In the tradition of classic horror movies, \"Do...  \n",
       "4  After capturing Kazimierz Piechowski at the Hu...  "
      ]
     },
     "execution_count": 23,
     "metadata": {},
     "output_type": "execute_result"
    }
   ],
   "source": [
    "idp.head()"
   ]
  },
  {
   "cell_type": "code",
   "execution_count": 24,
   "metadata": {},
   "outputs": [],
   "source": [
    "#change certificate null values to 'Not Rated'\n",
    "idp['certificate'].fillna('Not Rated', inplace=True)\n"
   ]
  },
  {
   "cell_type": "code",
   "execution_count": 25,
   "metadata": {},
   "outputs": [
    {
     "name": "stdout",
     "output_type": "stream",
     "text": [
      "<class 'pandas.core.frame.DataFrame'>\n",
      "RangeIndex: 127932 entries, 0 to 127931\n",
      "Data columns (total 2 columns):\n",
      " #   Column  Non-Null Count   Dtype \n",
      "---  ------  --------------   ----- \n",
      " 0   dataId  127932 non-null  int64 \n",
      " 1   region  127932 non-null  object\n",
      "dtypes: int64(1), object(1)\n",
      "memory usage: 2.0+ MB\n"
     ]
    }
   ],
   "source": [
    "idr.info()"
   ]
  },
  {
   "cell_type": "code",
   "execution_count": 53,
   "metadata": {},
   "outputs": [],
   "source": [
    "#join idg, idp, idr\n",
    "id = idg.merge(idp, on='dataId', how='left')\n",
    "id = id.merge(idr, on='dataId', how='left')\n",
    "\n"
   ]
  },
  {
   "cell_type": "code",
   "execution_count": 27,
   "metadata": {},
   "outputs": [
    {
     "data": {
      "text/html": [
       "<div>\n",
       "<style scoped>\n",
       "    .dataframe tbody tr th:only-of-type {\n",
       "        vertical-align: middle;\n",
       "    }\n",
       "\n",
       "    .dataframe tbody tr th {\n",
       "        vertical-align: top;\n",
       "    }\n",
       "\n",
       "    .dataframe thead th {\n",
       "        text-align: right;\n",
       "    }\n",
       "</style>\n",
       "<table border=\"1\" class=\"dataframe\">\n",
       "  <thead>\n",
       "    <tr style=\"text-align: right;\">\n",
       "      <th></th>\n",
       "      <th>dataId</th>\n",
       "      <th>genre</th>\n",
       "      <th>contentType</th>\n",
       "      <th>title</th>\n",
       "      <th>length</th>\n",
       "      <th>releaseYear</th>\n",
       "      <th>endYear</th>\n",
       "      <th>votes</th>\n",
       "      <th>rating</th>\n",
       "      <th>gross</th>\n",
       "      <th>certificate</th>\n",
       "      <th>description</th>\n",
       "      <th>region</th>\n",
       "    </tr>\n",
       "  </thead>\n",
       "  <tbody>\n",
       "    <tr>\n",
       "      <th>0</th>\n",
       "      <td>102795</td>\n",
       "      <td>Drama</td>\n",
       "      <td>movie</td>\n",
       "      <td>Ratha Kanneer</td>\n",
       "      <td>154</td>\n",
       "      <td>1954</td>\n",
       "      <td>-1</td>\n",
       "      <td>349</td>\n",
       "      <td>8.5</td>\n",
       "      <td>-1</td>\n",
       "      <td>Not Rated</td>\n",
       "      <td>The story revolves around Mohanasundaram, a re...</td>\n",
       "      <td>India</td>\n",
       "    </tr>\n",
       "    <tr>\n",
       "      <th>1</th>\n",
       "      <td>102796</td>\n",
       "      <td>Documentary</td>\n",
       "      <td>movie</td>\n",
       "      <td>All Star Comedy Jam</td>\n",
       "      <td>89</td>\n",
       "      <td>-1</td>\n",
       "      <td>-1</td>\n",
       "      <td>349</td>\n",
       "      <td>7.5</td>\n",
       "      <td>-1</td>\n",
       "      <td>Not Rated</td>\n",
       "      <td>The Original King of Comedy and Shaquille O'Ne...</td>\n",
       "      <td>United States</td>\n",
       "    </tr>\n",
       "    <tr>\n",
       "      <th>2</th>\n",
       "      <td>102796</td>\n",
       "      <td>Comedy</td>\n",
       "      <td>movie</td>\n",
       "      <td>All Star Comedy Jam</td>\n",
       "      <td>89</td>\n",
       "      <td>-1</td>\n",
       "      <td>-1</td>\n",
       "      <td>349</td>\n",
       "      <td>7.5</td>\n",
       "      <td>-1</td>\n",
       "      <td>Not Rated</td>\n",
       "      <td>The Original King of Comedy and Shaquille O'Ne...</td>\n",
       "      <td>United States</td>\n",
       "    </tr>\n",
       "    <tr>\n",
       "      <th>3</th>\n",
       "      <td>102797</td>\n",
       "      <td>Documentary</td>\n",
       "      <td>movie</td>\n",
       "      <td>Faces of Death: Fact or Fiction?</td>\n",
       "      <td>54</td>\n",
       "      <td>-1</td>\n",
       "      <td>-1</td>\n",
       "      <td>349</td>\n",
       "      <td>2.9</td>\n",
       "      <td>-1</td>\n",
       "      <td>Unrated</td>\n",
       "      <td>Add a Plot\\n</td>\n",
       "      <td>United States</td>\n",
       "    </tr>\n",
       "    <tr>\n",
       "      <th>4</th>\n",
       "      <td>102797</td>\n",
       "      <td>Horror</td>\n",
       "      <td>movie</td>\n",
       "      <td>Faces of Death: Fact or Fiction?</td>\n",
       "      <td>54</td>\n",
       "      <td>-1</td>\n",
       "      <td>-1</td>\n",
       "      <td>349</td>\n",
       "      <td>2.9</td>\n",
       "      <td>-1</td>\n",
       "      <td>Unrated</td>\n",
       "      <td>Add a Plot\\n</td>\n",
       "      <td>United States</td>\n",
       "    </tr>\n",
       "    <tr>\n",
       "      <th>...</th>\n",
       "      <td>...</td>\n",
       "      <td>...</td>\n",
       "      <td>...</td>\n",
       "      <td>...</td>\n",
       "      <td>...</td>\n",
       "      <td>...</td>\n",
       "      <td>...</td>\n",
       "      <td>...</td>\n",
       "      <td>...</td>\n",
       "      <td>...</td>\n",
       "      <td>...</td>\n",
       "      <td>...</td>\n",
       "      <td>...</td>\n",
       "    </tr>\n",
       "    <tr>\n",
       "      <th>279473</th>\n",
       "      <td>500</td>\n",
       "      <td>Sci-Fi</td>\n",
       "      <td>movie</td>\n",
       "      <td>I, Robot</td>\n",
       "      <td>115</td>\n",
       "      <td>2004</td>\n",
       "      <td>-1</td>\n",
       "      <td>549787</td>\n",
       "      <td>7.1</td>\n",
       "      <td>144800000</td>\n",
       "      <td>PG-13</td>\n",
       "      <td>In 2035, a technophobic cop investigates a cri...</td>\n",
       "      <td>Germany</td>\n",
       "    </tr>\n",
       "    <tr>\n",
       "      <th>279474</th>\n",
       "      <td>0</td>\n",
       "      <td>Drama</td>\n",
       "      <td>movie</td>\n",
       "      <td>The Shawshank Redemption</td>\n",
       "      <td>142</td>\n",
       "      <td>1994</td>\n",
       "      <td>-1</td>\n",
       "      <td>2715939</td>\n",
       "      <td>9.3</td>\n",
       "      <td>28340000</td>\n",
       "      <td>R</td>\n",
       "      <td>Over the course of several years, two convicts...</td>\n",
       "      <td>United States</td>\n",
       "    </tr>\n",
       "    <tr>\n",
       "      <th>279475</th>\n",
       "      <td>0</td>\n",
       "      <td>Drama</td>\n",
       "      <td>movie</td>\n",
       "      <td>The Shawshank Redemption</td>\n",
       "      <td>142</td>\n",
       "      <td>1994</td>\n",
       "      <td>-1</td>\n",
       "      <td>2715939</td>\n",
       "      <td>9.3</td>\n",
       "      <td>28340000</td>\n",
       "      <td>R</td>\n",
       "      <td>Over the course of several years, two convicts...</td>\n",
       "      <td>United States</td>\n",
       "    </tr>\n",
       "    <tr>\n",
       "      <th>279476</th>\n",
       "      <td>0</td>\n",
       "      <td>Drama</td>\n",
       "      <td>movie</td>\n",
       "      <td>The Shawshank Redemption</td>\n",
       "      <td>142</td>\n",
       "      <td>1994</td>\n",
       "      <td>-1</td>\n",
       "      <td>2715939</td>\n",
       "      <td>9.3</td>\n",
       "      <td>28340000</td>\n",
       "      <td>R</td>\n",
       "      <td>Over the course of several years, two convicts...</td>\n",
       "      <td>United States</td>\n",
       "    </tr>\n",
       "    <tr>\n",
       "      <th>279477</th>\n",
       "      <td>0</td>\n",
       "      <td>Drama</td>\n",
       "      <td>movie</td>\n",
       "      <td>The Shawshank Redemption</td>\n",
       "      <td>142</td>\n",
       "      <td>1994</td>\n",
       "      <td>-1</td>\n",
       "      <td>2715939</td>\n",
       "      <td>9.3</td>\n",
       "      <td>28340000</td>\n",
       "      <td>R</td>\n",
       "      <td>Over the course of several years, two convicts...</td>\n",
       "      <td>United States</td>\n",
       "    </tr>\n",
       "  </tbody>\n",
       "</table>\n",
       "<p>279478 rows × 13 columns</p>\n",
       "</div>"
      ],
      "text/plain": [
       "        dataId        genre contentType                             title  \\\n",
       "0       102795        Drama       movie                     Ratha Kanneer   \n",
       "1       102796  Documentary       movie               All Star Comedy Jam   \n",
       "2       102796       Comedy       movie               All Star Comedy Jam   \n",
       "3       102797  Documentary       movie  Faces of Death: Fact or Fiction?   \n",
       "4       102797       Horror       movie  Faces of Death: Fact or Fiction?   \n",
       "...        ...          ...         ...                               ...   \n",
       "279473     500       Sci-Fi       movie                          I, Robot   \n",
       "279474       0        Drama       movie          The Shawshank Redemption   \n",
       "279475       0        Drama       movie          The Shawshank Redemption   \n",
       "279476       0        Drama       movie          The Shawshank Redemption   \n",
       "279477       0        Drama       movie          The Shawshank Redemption   \n",
       "\n",
       "       length  releaseYear  endYear    votes  rating      gross certificate  \\\n",
       "0         154         1954       -1      349     8.5         -1   Not Rated   \n",
       "1          89           -1       -1      349     7.5         -1   Not Rated   \n",
       "2          89           -1       -1      349     7.5         -1   Not Rated   \n",
       "3          54           -1       -1      349     2.9         -1     Unrated   \n",
       "4          54           -1       -1      349     2.9         -1     Unrated   \n",
       "...       ...          ...      ...      ...     ...        ...         ...   \n",
       "279473    115         2004       -1   549787     7.1  144800000       PG-13   \n",
       "279474    142         1994       -1  2715939     9.3   28340000           R   \n",
       "279475    142         1994       -1  2715939     9.3   28340000           R   \n",
       "279476    142         1994       -1  2715939     9.3   28340000           R   \n",
       "279477    142         1994       -1  2715939     9.3   28340000           R   \n",
       "\n",
       "                                              description         region  \n",
       "0       The story revolves around Mohanasundaram, a re...          India  \n",
       "1       The Original King of Comedy and Shaquille O'Ne...  United States  \n",
       "2       The Original King of Comedy and Shaquille O'Ne...  United States  \n",
       "3                                            Add a Plot\\n  United States  \n",
       "4                                            Add a Plot\\n  United States  \n",
       "...                                                   ...            ...  \n",
       "279473  In 2035, a technophobic cop investigates a cri...        Germany  \n",
       "279474  Over the course of several years, two convicts...  United States  \n",
       "279475  Over the course of several years, two convicts...  United States  \n",
       "279476  Over the course of several years, two convicts...  United States  \n",
       "279477  Over the course of several years, two convicts...  United States  \n",
       "\n",
       "[279478 rows x 13 columns]"
      ]
     },
     "execution_count": 27,
     "metadata": {},
     "output_type": "execute_result"
    }
   ],
   "source": [
    "id"
   ]
  },
  {
   "cell_type": "code",
   "execution_count": 55,
   "metadata": {},
   "outputs": [
    {
     "data": {
      "text/plain": [
       "True    219213\n",
       "Name: dataId, dtype: int64"
      ]
     },
     "execution_count": 55,
     "metadata": {},
     "output_type": "execute_result"
    }
   ],
   "source": [
    "#find overlapping data\n",
    "idg['dataId'].isin(idp['dataId']).value_counts()\n"
   ]
  },
  {
   "cell_type": "code",
   "execution_count": 56,
   "metadata": {},
   "outputs": [],
   "source": [
    "#leave only one of the overlapping data\n",
    "id = id.drop_duplicates(subset=['dataId'], keep='first')\n"
   ]
  },
  {
   "cell_type": "code",
   "execution_count": 65,
   "metadata": {},
   "outputs": [
    {
     "data": {
      "text/html": [
       "<div>\n",
       "<style scoped>\n",
       "    .dataframe tbody tr th:only-of-type {\n",
       "        vertical-align: middle;\n",
       "    }\n",
       "\n",
       "    .dataframe tbody tr th {\n",
       "        vertical-align: top;\n",
       "    }\n",
       "\n",
       "    .dataframe thead th {\n",
       "        text-align: right;\n",
       "    }\n",
       "</style>\n",
       "<table border=\"1\" class=\"dataframe\">\n",
       "  <thead>\n",
       "    <tr style=\"text-align: right;\">\n",
       "      <th></th>\n",
       "      <th>dataId</th>\n",
       "      <th>genre</th>\n",
       "      <th>contentType</th>\n",
       "      <th>title</th>\n",
       "      <th>length</th>\n",
       "      <th>releaseYear</th>\n",
       "      <th>endYear</th>\n",
       "      <th>votes</th>\n",
       "      <th>rating</th>\n",
       "      <th>gross</th>\n",
       "      <th>certificate</th>\n",
       "      <th>description</th>\n",
       "      <th>region</th>\n",
       "    </tr>\n",
       "  </thead>\n",
       "  <tbody>\n",
       "    <tr>\n",
       "      <th>0</th>\n",
       "      <td>102795</td>\n",
       "      <td>Drama</td>\n",
       "      <td>movie</td>\n",
       "      <td>Ratha Kanneer</td>\n",
       "      <td>154</td>\n",
       "      <td>1954</td>\n",
       "      <td>-1</td>\n",
       "      <td>349</td>\n",
       "      <td>8.5</td>\n",
       "      <td>-1</td>\n",
       "      <td>Not Rated</td>\n",
       "      <td>The story revolves around Mohanasundaram, a re...</td>\n",
       "      <td>India</td>\n",
       "    </tr>\n",
       "    <tr>\n",
       "      <th>1</th>\n",
       "      <td>102796</td>\n",
       "      <td>Documentary</td>\n",
       "      <td>movie</td>\n",
       "      <td>All Star Comedy Jam</td>\n",
       "      <td>89</td>\n",
       "      <td>-1</td>\n",
       "      <td>-1</td>\n",
       "      <td>349</td>\n",
       "      <td>7.5</td>\n",
       "      <td>-1</td>\n",
       "      <td>Not Rated</td>\n",
       "      <td>The Original King of Comedy and Shaquille O'Ne...</td>\n",
       "      <td>United States</td>\n",
       "    </tr>\n",
       "    <tr>\n",
       "      <th>3</th>\n",
       "      <td>102797</td>\n",
       "      <td>Documentary</td>\n",
       "      <td>movie</td>\n",
       "      <td>Faces of Death: Fact or Fiction?</td>\n",
       "      <td>54</td>\n",
       "      <td>-1</td>\n",
       "      <td>-1</td>\n",
       "      <td>349</td>\n",
       "      <td>2.9</td>\n",
       "      <td>-1</td>\n",
       "      <td>Unrated</td>\n",
       "      <td>Add a Plot\\n</td>\n",
       "      <td>United States</td>\n",
       "    </tr>\n",
       "    <tr>\n",
       "      <th>5</th>\n",
       "      <td>102798</td>\n",
       "      <td>Horror</td>\n",
       "      <td>movie</td>\n",
       "      <td>Don't Look</td>\n",
       "      <td>71</td>\n",
       "      <td>2018</td>\n",
       "      <td>-1</td>\n",
       "      <td>349</td>\n",
       "      <td>2.8</td>\n",
       "      <td>-1</td>\n",
       "      <td>Not Rated</td>\n",
       "      <td>In the tradition of classic horror movies, \"Do...</td>\n",
       "      <td>United States</td>\n",
       "    </tr>\n",
       "    <tr>\n",
       "      <th>6</th>\n",
       "      <td>102799</td>\n",
       "      <td>Drama</td>\n",
       "      <td>movie</td>\n",
       "      <td>The Escape from Auschwitz</td>\n",
       "      <td>80</td>\n",
       "      <td>2020</td>\n",
       "      <td>-1</td>\n",
       "      <td>349</td>\n",
       "      <td>1.7</td>\n",
       "      <td>-1</td>\n",
       "      <td>TV-MA</td>\n",
       "      <td>After capturing Kazimierz Piechowski at the Hu...</td>\n",
       "      <td>United Kingdom</td>\n",
       "    </tr>\n",
       "    <tr>\n",
       "      <th>...</th>\n",
       "      <td>...</td>\n",
       "      <td>...</td>\n",
       "      <td>...</td>\n",
       "      <td>...</td>\n",
       "      <td>...</td>\n",
       "      <td>...</td>\n",
       "      <td>...</td>\n",
       "      <td>...</td>\n",
       "      <td>...</td>\n",
       "      <td>...</td>\n",
       "      <td>...</td>\n",
       "      <td>...</td>\n",
       "      <td>...</td>\n",
       "    </tr>\n",
       "    <tr>\n",
       "      <th>279450</th>\n",
       "      <td>496</td>\n",
       "      <td>Action</td>\n",
       "      <td>tvSeries</td>\n",
       "      <td>Titans</td>\n",
       "      <td>45</td>\n",
       "      <td>2018</td>\n",
       "      <td>2023</td>\n",
       "      <td>104123</td>\n",
       "      <td>7.5</td>\n",
       "      <td>-1</td>\n",
       "      <td>TV-MA</td>\n",
       "      <td>A team of young superheroes combat evil and ot...</td>\n",
       "      <td>United States</td>\n",
       "    </tr>\n",
       "    <tr>\n",
       "      <th>279453</th>\n",
       "      <td>497</td>\n",
       "      <td>Drama</td>\n",
       "      <td>tvSeries</td>\n",
       "      <td>The Man in the High Castle</td>\n",
       "      <td>60</td>\n",
       "      <td>2015</td>\n",
       "      <td>2019</td>\n",
       "      <td>103828</td>\n",
       "      <td>7.9</td>\n",
       "      <td>-1</td>\n",
       "      <td>TV-MA</td>\n",
       "      <td>In a dystopian America dominated by Nazi Germa...</td>\n",
       "      <td>United States</td>\n",
       "    </tr>\n",
       "    <tr>\n",
       "      <th>279462</th>\n",
       "      <td>498</td>\n",
       "      <td>Action</td>\n",
       "      <td>tvSeries</td>\n",
       "      <td>Justified</td>\n",
       "      <td>44</td>\n",
       "      <td>2010</td>\n",
       "      <td>2015</td>\n",
       "      <td>103427</td>\n",
       "      <td>8.6</td>\n",
       "      <td>-1</td>\n",
       "      <td>TV-MA</td>\n",
       "      <td>U.S. Marshal Raylan Givens is reassigned from ...</td>\n",
       "      <td>United States</td>\n",
       "    </tr>\n",
       "    <tr>\n",
       "      <th>279465</th>\n",
       "      <td>499</td>\n",
       "      <td>Comedy</td>\n",
       "      <td>tvSeries</td>\n",
       "      <td>Misfits</td>\n",
       "      <td>60</td>\n",
       "      <td>2009</td>\n",
       "      <td>2013</td>\n",
       "      <td>103121</td>\n",
       "      <td>8.2</td>\n",
       "      <td>-1</td>\n",
       "      <td>TV-MA</td>\n",
       "      <td>A group of young offenders doing community ser...</td>\n",
       "      <td>United Kingdom</td>\n",
       "    </tr>\n",
       "    <tr>\n",
       "      <th>279468</th>\n",
       "      <td>500</td>\n",
       "      <td>Action</td>\n",
       "      <td>movie</td>\n",
       "      <td>I, Robot</td>\n",
       "      <td>115</td>\n",
       "      <td>2004</td>\n",
       "      <td>-1</td>\n",
       "      <td>549787</td>\n",
       "      <td>7.1</td>\n",
       "      <td>144800000</td>\n",
       "      <td>PG-13</td>\n",
       "      <td>In 2035, a technophobic cop investigates a cri...</td>\n",
       "      <td>United States</td>\n",
       "    </tr>\n",
       "  </tbody>\n",
       "</table>\n",
       "<p>101604 rows × 13 columns</p>\n",
       "</div>"
      ],
      "text/plain": [
       "        dataId        genre contentType                             title  \\\n",
       "0       102795        Drama       movie                     Ratha Kanneer   \n",
       "1       102796  Documentary       movie               All Star Comedy Jam   \n",
       "3       102797  Documentary       movie  Faces of Death: Fact or Fiction?   \n",
       "5       102798       Horror       movie                        Don't Look   \n",
       "6       102799        Drama       movie         The Escape from Auschwitz   \n",
       "...        ...          ...         ...                               ...   \n",
       "279450     496       Action    tvSeries                            Titans   \n",
       "279453     497        Drama    tvSeries        The Man in the High Castle   \n",
       "279462     498       Action    tvSeries                         Justified   \n",
       "279465     499       Comedy    tvSeries                           Misfits   \n",
       "279468     500       Action       movie                          I, Robot   \n",
       "\n",
       "       length  releaseYear  endYear   votes  rating      gross certificate  \\\n",
       "0         154         1954       -1     349     8.5         -1   Not Rated   \n",
       "1          89           -1       -1     349     7.5         -1   Not Rated   \n",
       "3          54           -1       -1     349     2.9         -1     Unrated   \n",
       "5          71         2018       -1     349     2.8         -1   Not Rated   \n",
       "6          80         2020       -1     349     1.7         -1       TV-MA   \n",
       "...       ...          ...      ...     ...     ...        ...         ...   \n",
       "279450     45         2018     2023  104123     7.5         -1       TV-MA   \n",
       "279453     60         2015     2019  103828     7.9         -1       TV-MA   \n",
       "279462     44         2010     2015  103427     8.6         -1       TV-MA   \n",
       "279465     60         2009     2013  103121     8.2         -1       TV-MA   \n",
       "279468    115         2004       -1  549787     7.1  144800000       PG-13   \n",
       "\n",
       "                                              description          region  \n",
       "0       The story revolves around Mohanasundaram, a re...           India  \n",
       "1       The Original King of Comedy and Shaquille O'Ne...   United States  \n",
       "3                                            Add a Plot\\n   United States  \n",
       "5       In the tradition of classic horror movies, \"Do...   United States  \n",
       "6       After capturing Kazimierz Piechowski at the Hu...  United Kingdom  \n",
       "...                                                   ...             ...  \n",
       "279450  A team of young superheroes combat evil and ot...   United States  \n",
       "279453  In a dystopian America dominated by Nazi Germa...   United States  \n",
       "279462  U.S. Marshal Raylan Givens is reassigned from ...   United States  \n",
       "279465  A group of young offenders doing community ser...  United Kingdom  \n",
       "279468  In 2035, a technophobic cop investigates a cri...   United States  \n",
       "\n",
       "[101604 rows x 13 columns]"
      ]
     },
     "execution_count": 65,
     "metadata": {},
     "output_type": "execute_result"
    }
   ],
   "source": [
    "id"
   ]
  },
  {
   "cell_type": "code",
   "execution_count": 75,
   "metadata": {},
   "outputs": [
    {
     "data": {
      "text/html": [
       "<div>\n",
       "<style scoped>\n",
       "    .dataframe tbody tr th:only-of-type {\n",
       "        vertical-align: middle;\n",
       "    }\n",
       "\n",
       "    .dataframe tbody tr th {\n",
       "        vertical-align: top;\n",
       "    }\n",
       "\n",
       "    .dataframe thead th {\n",
       "        text-align: right;\n",
       "    }\n",
       "</style>\n",
       "<table border=\"1\" class=\"dataframe\">\n",
       "  <thead>\n",
       "    <tr style=\"text-align: right;\">\n",
       "      <th></th>\n",
       "      <th>dataId</th>\n",
       "      <th>genre</th>\n",
       "      <th>contentType</th>\n",
       "      <th>title</th>\n",
       "      <th>length</th>\n",
       "      <th>releaseYear</th>\n",
       "      <th>endYear</th>\n",
       "      <th>votes</th>\n",
       "      <th>rating</th>\n",
       "      <th>gross</th>\n",
       "      <th>certificate</th>\n",
       "      <th>description</th>\n",
       "      <th>region</th>\n",
       "    </tr>\n",
       "  </thead>\n",
       "  <tbody>\n",
       "    <tr>\n",
       "      <th>113688</th>\n",
       "      <td>58539</td>\n",
       "      <td>Drama</td>\n",
       "      <td>tvSeries</td>\n",
       "      <td>Orgoglio</td>\n",
       "      <td>100</td>\n",
       "      <td>2004</td>\n",
       "      <td>2006</td>\n",
       "      <td>104</td>\n",
       "      <td>7.4</td>\n",
       "      <td>-1</td>\n",
       "      <td>Not Rated</td>\n",
       "      <td>1912. The dramatic love story between Anna Obr...</td>\n",
       "      <td>Italy</td>\n",
       "    </tr>\n",
       "    <tr>\n",
       "      <th>113692</th>\n",
       "      <td>58541</td>\n",
       "      <td>Animation</td>\n",
       "      <td>tvSeries</td>\n",
       "      <td>Willa's Wild Life</td>\n",
       "      <td>-1</td>\n",
       "      <td>2008</td>\n",
       "      <td>2011</td>\n",
       "      <td>104</td>\n",
       "      <td>7.9</td>\n",
       "      <td>-1</td>\n",
       "      <td>TV-Y7</td>\n",
       "      <td>A young girl's backyard is home to a variety o...</td>\n",
       "      <td>Canada</td>\n",
       "    </tr>\n",
       "    <tr>\n",
       "      <th>113701</th>\n",
       "      <td>58545</td>\n",
       "      <td>Animation</td>\n",
       "      <td>tvSeries</td>\n",
       "      <td>Super Chicken</td>\n",
       "      <td>-1</td>\n",
       "      <td>1967</td>\n",
       "      <td>1969</td>\n",
       "      <td>104</td>\n",
       "      <td>8.1</td>\n",
       "      <td>-1</td>\n",
       "      <td>Not Rated</td>\n",
       "      <td>Super Chicken is an animated cartoon segment t...</td>\n",
       "      <td>United States</td>\n",
       "    </tr>\n",
       "    <tr>\n",
       "      <th>113705</th>\n",
       "      <td>58547</td>\n",
       "      <td>Action</td>\n",
       "      <td>tvSeries</td>\n",
       "      <td>A Divisão</td>\n",
       "      <td>40</td>\n",
       "      <td>2019</td>\n",
       "      <td>2023</td>\n",
       "      <td>104</td>\n",
       "      <td>8.0</td>\n",
       "      <td>-1</td>\n",
       "      <td>Not Rated</td>\n",
       "      <td>In 1997, Rio de Janeiro was shaken by a wave o...</td>\n",
       "      <td>Brazil</td>\n",
       "    </tr>\n",
       "    <tr>\n",
       "      <th>113709</th>\n",
       "      <td>58549</td>\n",
       "      <td>Drama</td>\n",
       "      <td>tvSeries</td>\n",
       "      <td>Ki Kore Bolbo Tomay</td>\n",
       "      <td>22</td>\n",
       "      <td>2019</td>\n",
       "      <td>2021</td>\n",
       "      <td>104</td>\n",
       "      <td>7.8</td>\n",
       "      <td>-1</td>\n",
       "      <td>Not Rated</td>\n",
       "      <td>Ki Kore Bolbo Tomay is a Bengali drama series ...</td>\n",
       "      <td>India</td>\n",
       "    </tr>\n",
       "    <tr>\n",
       "      <th>...</th>\n",
       "      <td>...</td>\n",
       "      <td>...</td>\n",
       "      <td>...</td>\n",
       "      <td>...</td>\n",
       "      <td>...</td>\n",
       "      <td>...</td>\n",
       "      <td>...</td>\n",
       "      <td>...</td>\n",
       "      <td>...</td>\n",
       "      <td>...</td>\n",
       "      <td>...</td>\n",
       "      <td>...</td>\n",
       "      <td>...</td>\n",
       "    </tr>\n",
       "    <tr>\n",
       "      <th>279446</th>\n",
       "      <td>494</td>\n",
       "      <td>Comedy</td>\n",
       "      <td>tvSeries</td>\n",
       "      <td>My Name Is Earl</td>\n",
       "      <td>22</td>\n",
       "      <td>2005</td>\n",
       "      <td>2009</td>\n",
       "      <td>105347</td>\n",
       "      <td>7.8</td>\n",
       "      <td>-1</td>\n",
       "      <td>TV-14</td>\n",
       "      <td>A ne'er do well wins $100,000 in the lottery a...</td>\n",
       "      <td>United States</td>\n",
       "    </tr>\n",
       "    <tr>\n",
       "      <th>279450</th>\n",
       "      <td>496</td>\n",
       "      <td>Action</td>\n",
       "      <td>tvSeries</td>\n",
       "      <td>Titans</td>\n",
       "      <td>45</td>\n",
       "      <td>2018</td>\n",
       "      <td>2023</td>\n",
       "      <td>104123</td>\n",
       "      <td>7.5</td>\n",
       "      <td>-1</td>\n",
       "      <td>TV-MA</td>\n",
       "      <td>A team of young superheroes combat evil and ot...</td>\n",
       "      <td>United States</td>\n",
       "    </tr>\n",
       "    <tr>\n",
       "      <th>279453</th>\n",
       "      <td>497</td>\n",
       "      <td>Drama</td>\n",
       "      <td>tvSeries</td>\n",
       "      <td>The Man in the High Castle</td>\n",
       "      <td>60</td>\n",
       "      <td>2015</td>\n",
       "      <td>2019</td>\n",
       "      <td>103828</td>\n",
       "      <td>7.9</td>\n",
       "      <td>-1</td>\n",
       "      <td>TV-MA</td>\n",
       "      <td>In a dystopian America dominated by Nazi Germa...</td>\n",
       "      <td>United States</td>\n",
       "    </tr>\n",
       "    <tr>\n",
       "      <th>279462</th>\n",
       "      <td>498</td>\n",
       "      <td>Action</td>\n",
       "      <td>tvSeries</td>\n",
       "      <td>Justified</td>\n",
       "      <td>44</td>\n",
       "      <td>2010</td>\n",
       "      <td>2015</td>\n",
       "      <td>103427</td>\n",
       "      <td>8.6</td>\n",
       "      <td>-1</td>\n",
       "      <td>TV-MA</td>\n",
       "      <td>U.S. Marshal Raylan Givens is reassigned from ...</td>\n",
       "      <td>United States</td>\n",
       "    </tr>\n",
       "    <tr>\n",
       "      <th>279465</th>\n",
       "      <td>499</td>\n",
       "      <td>Comedy</td>\n",
       "      <td>tvSeries</td>\n",
       "      <td>Misfits</td>\n",
       "      <td>60</td>\n",
       "      <td>2009</td>\n",
       "      <td>2013</td>\n",
       "      <td>103121</td>\n",
       "      <td>8.2</td>\n",
       "      <td>-1</td>\n",
       "      <td>TV-MA</td>\n",
       "      <td>A group of young offenders doing community ser...</td>\n",
       "      <td>United Kingdom</td>\n",
       "    </tr>\n",
       "  </tbody>\n",
       "</table>\n",
       "<p>10269 rows × 13 columns</p>\n",
       "</div>"
      ],
      "text/plain": [
       "        dataId      genre contentType                       title length  \\\n",
       "113688   58539      Drama    tvSeries                    Orgoglio    100   \n",
       "113692   58541  Animation    tvSeries           Willa's Wild Life     -1   \n",
       "113701   58545  Animation    tvSeries               Super Chicken     -1   \n",
       "113705   58547     Action    tvSeries                   A Divisão     40   \n",
       "113709   58549      Drama    tvSeries         Ki Kore Bolbo Tomay     22   \n",
       "...        ...        ...         ...                         ...    ...   \n",
       "279446     494     Comedy    tvSeries             My Name Is Earl     22   \n",
       "279450     496     Action    tvSeries                      Titans     45   \n",
       "279453     497      Drama    tvSeries  The Man in the High Castle     60   \n",
       "279462     498     Action    tvSeries                   Justified     44   \n",
       "279465     499     Comedy    tvSeries                     Misfits     60   \n",
       "\n",
       "        releaseYear  endYear   votes  rating  gross certificate  \\\n",
       "113688         2004     2006     104     7.4     -1   Not Rated   \n",
       "113692         2008     2011     104     7.9     -1       TV-Y7   \n",
       "113701         1967     1969     104     8.1     -1   Not Rated   \n",
       "113705         2019     2023     104     8.0     -1   Not Rated   \n",
       "113709         2019     2021     104     7.8     -1   Not Rated   \n",
       "...             ...      ...     ...     ...    ...         ...   \n",
       "279446         2005     2009  105347     7.8     -1       TV-14   \n",
       "279450         2018     2023  104123     7.5     -1       TV-MA   \n",
       "279453         2015     2019  103828     7.9     -1       TV-MA   \n",
       "279462         2010     2015  103427     8.6     -1       TV-MA   \n",
       "279465         2009     2013  103121     8.2     -1       TV-MA   \n",
       "\n",
       "                                              description          region  \n",
       "113688  1912. The dramatic love story between Anna Obr...           Italy  \n",
       "113692  A young girl's backyard is home to a variety o...          Canada  \n",
       "113701  Super Chicken is an animated cartoon segment t...   United States  \n",
       "113705  In 1997, Rio de Janeiro was shaken by a wave o...          Brazil  \n",
       "113709  Ki Kore Bolbo Tomay is a Bengali drama series ...           India  \n",
       "...                                                   ...             ...  \n",
       "279446  A ne'er do well wins $100,000 in the lottery a...   United States  \n",
       "279450  A team of young superheroes combat evil and ot...   United States  \n",
       "279453  In a dystopian America dominated by Nazi Germa...   United States  \n",
       "279462  U.S. Marshal Raylan Givens is reassigned from ...   United States  \n",
       "279465  A group of young offenders doing community ser...  United Kingdom  \n",
       "\n",
       "[10269 rows x 13 columns]"
      ]
     },
     "execution_count": 75,
     "metadata": {},
     "output_type": "execute_result"
    }
   ],
   "source": [
    "#find all release year which is not -1\n",
    "id1 = id[id['releaseYear'] != -1]\n",
    "#gind all end year which is not -1\n",
    "id2 = id1[id1['endYear'] != -1]\n",
    "#only tvseries\n",
    "id3 = id2[id2['contentType'] == 'tvSeries']\n",
    "id3"
   ]
  },
  {
   "cell_type": "code",
   "execution_count": 112,
   "metadata": {},
   "outputs": [
    {
     "data": {
      "application/vnd.plotly.v1+json": {
       "config": {
        "plotlyServerURL": "https://plot.ly"
       },
       "data": [
        {
         "hovertemplate": "<b>%{hovertext}</b><br><br>duration=%{x}<br>mean=%{y}<br>count=%{marker.color}<extra></extra>",
         "hovertext": [
          1,
          2,
          3,
          4,
          5,
          6,
          7,
          8,
          9,
          10,
          11,
          12,
          13,
          14,
          15,
          16,
          17,
          18,
          19,
          20,
          21,
          22,
          23,
          24,
          25,
          26,
          27,
          28,
          29,
          30,
          31,
          32,
          33,
          34,
          35,
          36,
          37,
          38,
          39,
          40,
          41,
          42,
          43,
          44,
          45,
          46,
          47,
          48,
          51,
          54,
          57,
          58,
          60,
          65,
          66
         ],
         "legendgroup": "",
         "marker": {
          "color": [
           3667,
           1942,
           1220,
           821,
           581,
           392,
           299,
           218,
           178,
           125,
           96,
           100,
           70,
           64,
           65,
           43,
           41,
           28,
           33,
           32,
           29,
           19,
           16,
           23,
           18,
           19,
           10,
           8,
           12,
           12,
           8,
           13,
           5,
           5,
           7,
           6,
           6,
           2,
           2,
           2,
           4,
           5,
           1,
           3,
           2,
           3,
           2,
           3,
           1,
           2,
           2,
           1,
           1,
           1,
           1
          ],
          "coloraxis": "coloraxis",
          "size": [
           3667,
           1942,
           1220,
           821,
           581,
           392,
           299,
           218,
           178,
           125,
           96,
           100,
           70,
           64,
           65,
           43,
           41,
           28,
           33,
           32,
           29,
           19,
           16,
           23,
           18,
           19,
           10,
           8,
           12,
           12,
           8,
           13,
           5,
           5,
           7,
           6,
           6,
           2,
           2,
           2,
           4,
           5,
           1,
           3,
           2,
           3,
           2,
           3,
           1,
           2,
           2,
           1,
           1,
           1,
           1
          ],
          "sizemode": "area",
          "sizeref": 1.0186111111111111,
          "symbol": "circle"
         },
         "mode": "markers",
         "name": "",
         "orientation": "v",
         "showlegend": false,
         "type": "scatter",
         "x": [
          1,
          2,
          3,
          4,
          5,
          6,
          7,
          8,
          9,
          10,
          11,
          12,
          13,
          14,
          15,
          16,
          17,
          18,
          19,
          20,
          21,
          22,
          23,
          24,
          25,
          26,
          27,
          28,
          29,
          30,
          31,
          32,
          33,
          34,
          35,
          36,
          37,
          38,
          39,
          40,
          41,
          42,
          43,
          44,
          45,
          46,
          47,
          48,
          51,
          54,
          57,
          58,
          60,
          65,
          66
         ],
         "xaxis": "x",
         "y": [
          6.921270793564221,
          6.926622039134912,
          7.036065573770492,
          7.06163215590743,
          7.182960413080895,
          7.2125,
          7.117056856187291,
          7.142660550458715,
          6.972471910112359,
          7.1496,
          6.770833333333333,
          6.837000000000001,
          7.067142857142857,
          6.821875,
          7.258461538461539,
          6.823255813953488,
          6.882926829268293,
          6.764285714285714,
          6.942424242424242,
          6.909375,
          6.4206896551724135,
          7.326315789473684,
          7.11875,
          6.756521739130435,
          6.35,
          7.389473684210526,
          6.93,
          7.5375,
          7.133333333333333,
          6.958333333333333,
          6.6625,
          6.523076923076923,
          7.9799999999999995,
          6.1,
          6.8999999999999995,
          7.033333333333334,
          7.466666666666666,
          6.15,
          6.15,
          7.5,
          6.8,
          7.24,
          8.4,
          6.633333333333333,
          7.4,
          7.266666666666667,
          7.6499999999999995,
          7.433333333333333,
          7.5,
          7.15,
          7.05,
          6.9,
          8.9,
          8.1,
          7
         ],
         "yaxis": "y"
        }
       ],
       "layout": {
        "coloraxis": {
         "colorbar": {
          "title": {
           "text": "count"
          }
         },
         "colorscale": [
          [
           0,
           "#0d0887"
          ],
          [
           0.1111111111111111,
           "#46039f"
          ],
          [
           0.2222222222222222,
           "#7201a8"
          ],
          [
           0.3333333333333333,
           "#9c179e"
          ],
          [
           0.4444444444444444,
           "#bd3786"
          ],
          [
           0.5555555555555556,
           "#d8576b"
          ],
          [
           0.6666666666666666,
           "#ed7953"
          ],
          [
           0.7777777777777778,
           "#fb9f3a"
          ],
          [
           0.8888888888888888,
           "#fdca26"
          ],
          [
           1,
           "#f0f921"
          ]
         ]
        },
        "legend": {
         "itemsizing": "constant",
         "tracegroupgap": 0
        },
        "margin": {
         "t": 60
        },
        "plot_bgcolor": "rgba(0,0,0,0)",
        "template": {
         "data": {
          "bar": [
           {
            "error_x": {
             "color": "#2a3f5f"
            },
            "error_y": {
             "color": "#2a3f5f"
            },
            "marker": {
             "line": {
              "color": "#E5ECF6",
              "width": 0.5
             },
             "pattern": {
              "fillmode": "overlay",
              "size": 10,
              "solidity": 0.2
             }
            },
            "type": "bar"
           }
          ],
          "barpolar": [
           {
            "marker": {
             "line": {
              "color": "#E5ECF6",
              "width": 0.5
             },
             "pattern": {
              "fillmode": "overlay",
              "size": 10,
              "solidity": 0.2
             }
            },
            "type": "barpolar"
           }
          ],
          "carpet": [
           {
            "aaxis": {
             "endlinecolor": "#2a3f5f",
             "gridcolor": "white",
             "linecolor": "white",
             "minorgridcolor": "white",
             "startlinecolor": "#2a3f5f"
            },
            "baxis": {
             "endlinecolor": "#2a3f5f",
             "gridcolor": "white",
             "linecolor": "white",
             "minorgridcolor": "white",
             "startlinecolor": "#2a3f5f"
            },
            "type": "carpet"
           }
          ],
          "choropleth": [
           {
            "colorbar": {
             "outlinewidth": 0,
             "ticks": ""
            },
            "type": "choropleth"
           }
          ],
          "contour": [
           {
            "colorbar": {
             "outlinewidth": 0,
             "ticks": ""
            },
            "colorscale": [
             [
              0,
              "#0d0887"
             ],
             [
              0.1111111111111111,
              "#46039f"
             ],
             [
              0.2222222222222222,
              "#7201a8"
             ],
             [
              0.3333333333333333,
              "#9c179e"
             ],
             [
              0.4444444444444444,
              "#bd3786"
             ],
             [
              0.5555555555555556,
              "#d8576b"
             ],
             [
              0.6666666666666666,
              "#ed7953"
             ],
             [
              0.7777777777777778,
              "#fb9f3a"
             ],
             [
              0.8888888888888888,
              "#fdca26"
             ],
             [
              1,
              "#f0f921"
             ]
            ],
            "type": "contour"
           }
          ],
          "contourcarpet": [
           {
            "colorbar": {
             "outlinewidth": 0,
             "ticks": ""
            },
            "type": "contourcarpet"
           }
          ],
          "heatmap": [
           {
            "colorbar": {
             "outlinewidth": 0,
             "ticks": ""
            },
            "colorscale": [
             [
              0,
              "#0d0887"
             ],
             [
              0.1111111111111111,
              "#46039f"
             ],
             [
              0.2222222222222222,
              "#7201a8"
             ],
             [
              0.3333333333333333,
              "#9c179e"
             ],
             [
              0.4444444444444444,
              "#bd3786"
             ],
             [
              0.5555555555555556,
              "#d8576b"
             ],
             [
              0.6666666666666666,
              "#ed7953"
             ],
             [
              0.7777777777777778,
              "#fb9f3a"
             ],
             [
              0.8888888888888888,
              "#fdca26"
             ],
             [
              1,
              "#f0f921"
             ]
            ],
            "type": "heatmap"
           }
          ],
          "heatmapgl": [
           {
            "colorbar": {
             "outlinewidth": 0,
             "ticks": ""
            },
            "colorscale": [
             [
              0,
              "#0d0887"
             ],
             [
              0.1111111111111111,
              "#46039f"
             ],
             [
              0.2222222222222222,
              "#7201a8"
             ],
             [
              0.3333333333333333,
              "#9c179e"
             ],
             [
              0.4444444444444444,
              "#bd3786"
             ],
             [
              0.5555555555555556,
              "#d8576b"
             ],
             [
              0.6666666666666666,
              "#ed7953"
             ],
             [
              0.7777777777777778,
              "#fb9f3a"
             ],
             [
              0.8888888888888888,
              "#fdca26"
             ],
             [
              1,
              "#f0f921"
             ]
            ],
            "type": "heatmapgl"
           }
          ],
          "histogram": [
           {
            "marker": {
             "pattern": {
              "fillmode": "overlay",
              "size": 10,
              "solidity": 0.2
             }
            },
            "type": "histogram"
           }
          ],
          "histogram2d": [
           {
            "colorbar": {
             "outlinewidth": 0,
             "ticks": ""
            },
            "colorscale": [
             [
              0,
              "#0d0887"
             ],
             [
              0.1111111111111111,
              "#46039f"
             ],
             [
              0.2222222222222222,
              "#7201a8"
             ],
             [
              0.3333333333333333,
              "#9c179e"
             ],
             [
              0.4444444444444444,
              "#bd3786"
             ],
             [
              0.5555555555555556,
              "#d8576b"
             ],
             [
              0.6666666666666666,
              "#ed7953"
             ],
             [
              0.7777777777777778,
              "#fb9f3a"
             ],
             [
              0.8888888888888888,
              "#fdca26"
             ],
             [
              1,
              "#f0f921"
             ]
            ],
            "type": "histogram2d"
           }
          ],
          "histogram2dcontour": [
           {
            "colorbar": {
             "outlinewidth": 0,
             "ticks": ""
            },
            "colorscale": [
             [
              0,
              "#0d0887"
             ],
             [
              0.1111111111111111,
              "#46039f"
             ],
             [
              0.2222222222222222,
              "#7201a8"
             ],
             [
              0.3333333333333333,
              "#9c179e"
             ],
             [
              0.4444444444444444,
              "#bd3786"
             ],
             [
              0.5555555555555556,
              "#d8576b"
             ],
             [
              0.6666666666666666,
              "#ed7953"
             ],
             [
              0.7777777777777778,
              "#fb9f3a"
             ],
             [
              0.8888888888888888,
              "#fdca26"
             ],
             [
              1,
              "#f0f921"
             ]
            ],
            "type": "histogram2dcontour"
           }
          ],
          "mesh3d": [
           {
            "colorbar": {
             "outlinewidth": 0,
             "ticks": ""
            },
            "type": "mesh3d"
           }
          ],
          "parcoords": [
           {
            "line": {
             "colorbar": {
              "outlinewidth": 0,
              "ticks": ""
             }
            },
            "type": "parcoords"
           }
          ],
          "pie": [
           {
            "automargin": true,
            "type": "pie"
           }
          ],
          "scatter": [
           {
            "fillpattern": {
             "fillmode": "overlay",
             "size": 10,
             "solidity": 0.2
            },
            "type": "scatter"
           }
          ],
          "scatter3d": [
           {
            "line": {
             "colorbar": {
              "outlinewidth": 0,
              "ticks": ""
             }
            },
            "marker": {
             "colorbar": {
              "outlinewidth": 0,
              "ticks": ""
             }
            },
            "type": "scatter3d"
           }
          ],
          "scattercarpet": [
           {
            "marker": {
             "colorbar": {
              "outlinewidth": 0,
              "ticks": ""
             }
            },
            "type": "scattercarpet"
           }
          ],
          "scattergeo": [
           {
            "marker": {
             "colorbar": {
              "outlinewidth": 0,
              "ticks": ""
             }
            },
            "type": "scattergeo"
           }
          ],
          "scattergl": [
           {
            "marker": {
             "colorbar": {
              "outlinewidth": 0,
              "ticks": ""
             }
            },
            "type": "scattergl"
           }
          ],
          "scattermapbox": [
           {
            "marker": {
             "colorbar": {
              "outlinewidth": 0,
              "ticks": ""
             }
            },
            "type": "scattermapbox"
           }
          ],
          "scatterpolar": [
           {
            "marker": {
             "colorbar": {
              "outlinewidth": 0,
              "ticks": ""
             }
            },
            "type": "scatterpolar"
           }
          ],
          "scatterpolargl": [
           {
            "marker": {
             "colorbar": {
              "outlinewidth": 0,
              "ticks": ""
             }
            },
            "type": "scatterpolargl"
           }
          ],
          "scatterternary": [
           {
            "marker": {
             "colorbar": {
              "outlinewidth": 0,
              "ticks": ""
             }
            },
            "type": "scatterternary"
           }
          ],
          "surface": [
           {
            "colorbar": {
             "outlinewidth": 0,
             "ticks": ""
            },
            "colorscale": [
             [
              0,
              "#0d0887"
             ],
             [
              0.1111111111111111,
              "#46039f"
             ],
             [
              0.2222222222222222,
              "#7201a8"
             ],
             [
              0.3333333333333333,
              "#9c179e"
             ],
             [
              0.4444444444444444,
              "#bd3786"
             ],
             [
              0.5555555555555556,
              "#d8576b"
             ],
             [
              0.6666666666666666,
              "#ed7953"
             ],
             [
              0.7777777777777778,
              "#fb9f3a"
             ],
             [
              0.8888888888888888,
              "#fdca26"
             ],
             [
              1,
              "#f0f921"
             ]
            ],
            "type": "surface"
           }
          ],
          "table": [
           {
            "cells": {
             "fill": {
              "color": "#EBF0F8"
             },
             "line": {
              "color": "white"
             }
            },
            "header": {
             "fill": {
              "color": "#C8D4E3"
             },
             "line": {
              "color": "white"
             }
            },
            "type": "table"
           }
          ]
         },
         "layout": {
          "annotationdefaults": {
           "arrowcolor": "#2a3f5f",
           "arrowhead": 0,
           "arrowwidth": 1
          },
          "autotypenumbers": "strict",
          "coloraxis": {
           "colorbar": {
            "outlinewidth": 0,
            "ticks": ""
           }
          },
          "colorscale": {
           "diverging": [
            [
             0,
             "#8e0152"
            ],
            [
             0.1,
             "#c51b7d"
            ],
            [
             0.2,
             "#de77ae"
            ],
            [
             0.3,
             "#f1b6da"
            ],
            [
             0.4,
             "#fde0ef"
            ],
            [
             0.5,
             "#f7f7f7"
            ],
            [
             0.6,
             "#e6f5d0"
            ],
            [
             0.7,
             "#b8e186"
            ],
            [
             0.8,
             "#7fbc41"
            ],
            [
             0.9,
             "#4d9221"
            ],
            [
             1,
             "#276419"
            ]
           ],
           "sequential": [
            [
             0,
             "#0d0887"
            ],
            [
             0.1111111111111111,
             "#46039f"
            ],
            [
             0.2222222222222222,
             "#7201a8"
            ],
            [
             0.3333333333333333,
             "#9c179e"
            ],
            [
             0.4444444444444444,
             "#bd3786"
            ],
            [
             0.5555555555555556,
             "#d8576b"
            ],
            [
             0.6666666666666666,
             "#ed7953"
            ],
            [
             0.7777777777777778,
             "#fb9f3a"
            ],
            [
             0.8888888888888888,
             "#fdca26"
            ],
            [
             1,
             "#f0f921"
            ]
           ],
           "sequentialminus": [
            [
             0,
             "#0d0887"
            ],
            [
             0.1111111111111111,
             "#46039f"
            ],
            [
             0.2222222222222222,
             "#7201a8"
            ],
            [
             0.3333333333333333,
             "#9c179e"
            ],
            [
             0.4444444444444444,
             "#bd3786"
            ],
            [
             0.5555555555555556,
             "#d8576b"
            ],
            [
             0.6666666666666666,
             "#ed7953"
            ],
            [
             0.7777777777777778,
             "#fb9f3a"
            ],
            [
             0.8888888888888888,
             "#fdca26"
            ],
            [
             1,
             "#f0f921"
            ]
           ]
          },
          "colorway": [
           "#636efa",
           "#EF553B",
           "#00cc96",
           "#ab63fa",
           "#FFA15A",
           "#19d3f3",
           "#FF6692",
           "#B6E880",
           "#FF97FF",
           "#FECB52"
          ],
          "font": {
           "color": "#2a3f5f"
          },
          "geo": {
           "bgcolor": "white",
           "lakecolor": "white",
           "landcolor": "#E5ECF6",
           "showlakes": true,
           "showland": true,
           "subunitcolor": "white"
          },
          "hoverlabel": {
           "align": "left"
          },
          "hovermode": "closest",
          "mapbox": {
           "style": "light"
          },
          "paper_bgcolor": "white",
          "plot_bgcolor": "#E5ECF6",
          "polar": {
           "angularaxis": {
            "gridcolor": "white",
            "linecolor": "white",
            "ticks": ""
           },
           "bgcolor": "#E5ECF6",
           "radialaxis": {
            "gridcolor": "white",
            "linecolor": "white",
            "ticks": ""
           }
          },
          "scene": {
           "xaxis": {
            "backgroundcolor": "#E5ECF6",
            "gridcolor": "white",
            "gridwidth": 2,
            "linecolor": "white",
            "showbackground": true,
            "ticks": "",
            "zerolinecolor": "white"
           },
           "yaxis": {
            "backgroundcolor": "#E5ECF6",
            "gridcolor": "white",
            "gridwidth": 2,
            "linecolor": "white",
            "showbackground": true,
            "ticks": "",
            "zerolinecolor": "white"
           },
           "zaxis": {
            "backgroundcolor": "#E5ECF6",
            "gridcolor": "white",
            "gridwidth": 2,
            "linecolor": "white",
            "showbackground": true,
            "ticks": "",
            "zerolinecolor": "white"
           }
          },
          "shapedefaults": {
           "line": {
            "color": "#2a3f5f"
           }
          },
          "ternary": {
           "aaxis": {
            "gridcolor": "white",
            "linecolor": "white",
            "ticks": ""
           },
           "baxis": {
            "gridcolor": "white",
            "linecolor": "white",
            "ticks": ""
           },
           "bgcolor": "#E5ECF6",
           "caxis": {
            "gridcolor": "white",
            "linecolor": "white",
            "ticks": ""
           }
          },
          "title": {
           "x": 0.05
          },
          "xaxis": {
           "automargin": true,
           "gridcolor": "white",
           "linecolor": "white",
           "ticks": "",
           "title": {
            "standoff": 15
           },
           "zerolinecolor": "white",
           "zerolinewidth": 2
          },
          "yaxis": {
           "automargin": true,
           "gridcolor": "white",
           "linecolor": "white",
           "ticks": "",
           "title": {
            "standoff": 15
           },
           "zerolinecolor": "white",
           "zerolinewidth": 2
          }
         }
        },
        "xaxis": {
         "anchor": "y",
         "domain": [
          0,
          1
         ],
         "title": {
          "text": "duration"
         }
        },
        "yaxis": {
         "anchor": "x",
         "domain": [
          0,
          1
         ],
         "title": {
          "text": "mean"
         }
        }
       }
      }
     },
     "metadata": {},
     "output_type": "display_data"
    }
   ],
   "source": [
    "#make new column 'duration' by subtracting endYear from releaseYear\n",
    "id3['duration'] = id3['endYear'] - id3['releaseYear']\n",
    "id3\n",
    "#decending order of duration\n",
    "id3.sort_values(by='duration', ascending=False)\n",
    "#find average rating of per duration and include how many data in each duration\n",
    "id3_durat = id3.groupby('duration')['rating'].agg(['mean', 'count'])\n",
    "#reset index of id3_durat\n",
    "id3_durat = id3_durat.reset_index()\n",
    "#make bubble chart of id3_durat\n",
    "fig = px.scatter(id3_durat, x='duration', y='mean', size='count', color='count', hover_name='duration', size_max=60)\n",
    "#remove background\n",
    "fig.update_layout(plot_bgcolor='rgba(0,0,0,0)')\n",
    "fig.show()\n"
   ]
  },
  {
   "cell_type": "code",
   "execution_count": null,
   "metadata": {},
   "outputs": [],
   "source": [
    "#do not abbreviate the columns\n",
    "pd.set_option('display.max_columns', None)\n",
    "sy"
   ]
  }
 ],
 "metadata": {
  "kernelspec": {
   "display_name": "Python 3",
   "language": "python",
   "name": "python3"
  },
  "language_info": {
   "codemirror_mode": {
    "name": "ipython",
    "version": 3
   },
   "file_extension": ".py",
   "mimetype": "text/x-python",
   "name": "python",
   "nbconvert_exporter": "python",
   "pygments_lexer": "ipython3",
   "version": "3.11.2"
  },
  "orig_nbformat": 4
 },
 "nbformat": 4,
 "nbformat_minor": 2
}
