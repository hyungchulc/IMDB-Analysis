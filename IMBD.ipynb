{
 "cells": [
  {
   "attachments": {},
   "cell_type": "markdown",
   "metadata": {},
   "source": [
    "# Import Libraries & Font & File"
   ]
  },
  {
   "cell_type": "code",
   "execution_count": 1,
   "metadata": {},
   "outputs": [],
   "source": [
    "import numpy as np\n",
    "import pandas as pd\n",
    "import matplotlib.pyplot as plt\n",
    "import matplotlib as mpl\n",
    "import seaborn as sns\n",
    "import plotly.express as px"
   ]
  },
  {
   "cell_type": "code",
   "execution_count": 2,
   "metadata": {},
   "outputs": [],
   "source": [
    "plt.rc('font', family='Arial Unicode MS') # For MacOS\n",
    "mpl.rcParams['axes.unicode_minus'] = False  "
   ]
  },
  {
   "cell_type": "code",
   "execution_count": 3,
   "metadata": {},
   "outputs": [],
   "source": [
    "#Bring file into the notebook\n",
    "idg = pd.read_csv('/Users/dtive/Documents/GitHub/Kaggle/IMDB-Analysis/data/contentDataGenre.csv')\n",
    "idp = pd.read_csv('/Users/dtive/Documents/GitHub/Kaggle/IMDB-Analysis/data/contentDataPrime.csv')\n",
    "idr = pd.read_csv('/Users/dtive/Documents/GitHub/Kaggle/IMDB-Analysis/data/contentDataRegion.csv')"
   ]
  },
  {
   "cell_type": "code",
   "execution_count": 4,
   "metadata": {},
   "outputs": [
    {
     "data": {
      "image/png": "[encoded data removed]",
      "text/plain": [
       "<Figure size 400x100 with 1 Axes>"
      ]
     },
     "metadata": {},
     "output_type": "display_data"
    }
   ],
   "source": [
    "#imdb & Youtube color palette\n",
    "imdb_palette = ['#deb522','#fcf7f7','#0c0b00','#128bb5']\n",
    "\n",
    "#show netflix color palette\n",
    "sns.palplot(imdb_palette)\n"
   ]
  },
  {
   "cell_type": "code",
   "execution_count": 5,
   "metadata": {},
   "outputs": [
    {
     "name": "stdout",
     "output_type": "stream",
     "text": [
      "<class 'pandas.core.frame.DataFrame'>\n",
      "RangeIndex: 219213 entries, 0 to 219212\n",
      "Data columns (total 2 columns):\n",
      " #   Column  Non-Null Count   Dtype \n",
      "---  ------  --------------   ----- \n",
      " 0   dataId  219213 non-null  int64 \n",
      " 1   genre   219213 non-null  object\n",
      "dtypes: int64(1), object(1)\n",
      "memory usage: 3.3+ MB\n"
     ]
    }
   ],
   "source": [
    "#Analyze the heads of the data\n",
    "idg.info()"
   ]
  },
  {
   "cell_type": "code",
   "execution_count": 6,
   "metadata": {},
   "outputs": [
    {
     "data": {
      "text/html": [
       "<div>\n",
       "<style scoped>\n",
       "    .dataframe tbody tr th:only-of-type {\n",
       "        vertical-align: middle;\n",
       "    }\n",
       "\n",
       "    .dataframe tbody tr th {\n",
       "        vertical-align: top;\n",
       "    }\n",
       "\n",
       "    .dataframe thead th {\n",
       "        text-align: right;\n",
       "    }\n",
       "</style>\n",
       "<table border=\"1\" class=\"dataframe\">\n",
       "  <thead>\n",
       "    <tr style=\"text-align: right;\">\n",
       "      <th></th>\n",
       "      <th>dataId</th>\n",
       "      <th>contentType</th>\n",
       "      <th>title</th>\n",
       "      <th>length</th>\n",
       "      <th>releaseYear</th>\n",
       "      <th>endYear</th>\n",
       "      <th>votes</th>\n",
       "      <th>rating</th>\n",
       "      <th>gross</th>\n",
       "      <th>certificate</th>\n",
       "      <th>description</th>\n",
       "    </tr>\n",
       "  </thead>\n",
       "  <tbody>\n",
       "    <tr>\n",
       "      <th>0</th>\n",
       "      <td>102795</td>\n",
       "      <td>movie</td>\n",
       "      <td>Ratha Kanneer</td>\n",
       "      <td>154</td>\n",
       "      <td>1954</td>\n",
       "      <td>-1</td>\n",
       "      <td>349</td>\n",
       "      <td>8.5</td>\n",
       "      <td>-1</td>\n",
       "      <td>NaN</td>\n",
       "      <td>The story revolves around Mohanasundaram, a re...</td>\n",
       "    </tr>\n",
       "    <tr>\n",
       "      <th>1</th>\n",
       "      <td>102796</td>\n",
       "      <td>movie</td>\n",
       "      <td>All Star Comedy Jam</td>\n",
       "      <td>89</td>\n",
       "      <td>-1</td>\n",
       "      <td>-1</td>\n",
       "      <td>349</td>\n",
       "      <td>7.5</td>\n",
       "      <td>-1</td>\n",
       "      <td>Not Rated</td>\n",
       "      <td>The Original King of Comedy and Shaquille O'Ne...</td>\n",
       "    </tr>\n",
       "    <tr>\n",
       "      <th>2</th>\n",
       "      <td>102797</td>\n",
       "      <td>movie</td>\n",
       "      <td>Faces of Death: Fact or Fiction?</td>\n",
       "      <td>54</td>\n",
       "      <td>-1</td>\n",
       "      <td>-1</td>\n",
       "      <td>349</td>\n",
       "      <td>2.9</td>\n",
       "      <td>-1</td>\n",
       "      <td>Unrated</td>\n",
       "      <td>Add a Plot\\n</td>\n",
       "    </tr>\n",
       "    <tr>\n",
       "      <th>3</th>\n",
       "      <td>102798</td>\n",
       "      <td>movie</td>\n",
       "      <td>Don't Look</td>\n",
       "      <td>71</td>\n",
       "      <td>2018</td>\n",
       "      <td>-1</td>\n",
       "      <td>349</td>\n",
       "      <td>2.8</td>\n",
       "      <td>-1</td>\n",
       "      <td>NaN</td>\n",
       "      <td>In the tradition of classic horror movies, \"Do...</td>\n",
       "    </tr>\n",
       "    <tr>\n",
       "      <th>4</th>\n",
       "      <td>102799</td>\n",
       "      <td>movie</td>\n",
       "      <td>The Escape from Auschwitz</td>\n",
       "      <td>80</td>\n",
       "      <td>2020</td>\n",
       "      <td>-1</td>\n",
       "      <td>349</td>\n",
       "      <td>1.7</td>\n",
       "      <td>-1</td>\n",
       "      <td>TV-MA</td>\n",
       "      <td>After capturing Kazimierz Piechowski at the Hu...</td>\n",
       "    </tr>\n",
       "  </tbody>\n",
       "</table>\n",
       "</div>"
      ],
      "text/plain": [
       "   dataId contentType                             title length  releaseYear  \\\n",
       "0  102795       movie                     Ratha Kanneer    154         1954   \n",
       "1  102796       movie               All Star Comedy Jam     89           -1   \n",
       "2  102797       movie  Faces of Death: Fact or Fiction?     54           -1   \n",
       "3  102798       movie                        Don't Look     71         2018   \n",
       "4  102799       movie         The Escape from Auschwitz     80         2020   \n",
       "\n",
       "   endYear  votes  rating  gross certificate  \\\n",
       "0       -1    349     8.5     -1         NaN   \n",
       "1       -1    349     7.5     -1   Not Rated   \n",
       "2       -1    349     2.9     -1     Unrated   \n",
       "3       -1    349     2.8     -1         NaN   \n",
       "4       -1    349     1.7     -1       TV-MA   \n",
       "\n",
       "                                         description  \n",
       "0  The story revolves around Mohanasundaram, a re...  \n",
       "1  The Original King of Comedy and Shaquille O'Ne...  \n",
       "2                                       Add a Plot\\n  \n",
       "3  In the tradition of classic horror movies, \"Do...  \n",
       "4  After capturing Kazimierz Piechowski at the Hu...  "
      ]
     },
     "execution_count": 6,
     "metadata": {},
     "output_type": "execute_result"
    }
   ],
   "source": [
    "idp.head()"
   ]
  },
  {
   "cell_type": "code",
   "execution_count": 7,
   "metadata": {},
   "outputs": [],
   "source": [
    "#change certificate null values to 'Not Rated'\n",
    "idp['certificate'].fillna('Not Rated', inplace=True)\n"
   ]
  },
  {
   "cell_type": "code",
   "execution_count": 8,
   "metadata": {},
   "outputs": [
    {
     "name": "stdout",
     "output_type": "stream",
     "text": [
      "<class 'pandas.core.frame.DataFrame'>\n",
      "RangeIndex: 127932 entries, 0 to 127931\n",
      "Data columns (total 2 columns):\n",
      " #   Column  Non-Null Count   Dtype \n",
      "---  ------  --------------   ----- \n",
      " 0   dataId  127932 non-null  int64 \n",
      " 1   region  127932 non-null  object\n",
      "dtypes: int64(1), object(1)\n",
      "memory usage: 2.0+ MB\n"
     ]
    }
   ],
   "source": [
    "idr.info()"
   ]
  },
  {
   "cell_type": "code",
   "execution_count": 9,
   "metadata": {},
   "outputs": [],
   "source": [
    "#join idg, idp, idr\n",
    "id = idg.merge(idp, on='dataId', how='left')\n",
    "id = id.merge(idr, on='dataId', how='left')\n",
    "\n"
   ]
  },
  {
   "cell_type": "code",
   "execution_count": 10,
   "metadata": {},
   "outputs": [
    {
     "data": {
      "text/html": [
       "<div>\n",
       "<style scoped>\n",
       "    .dataframe tbody tr th:only-of-type {\n",
       "        vertical-align: middle;\n",
       "    }\n",
       "\n",
       "    .dataframe tbody tr th {\n",
       "        vertical-align: top;\n",
       "    }\n",
       "\n",
       "    .dataframe thead th {\n",
       "        text-align: right;\n",
       "    }\n",
       "</style>\n",
       "<table border=\"1\" class=\"dataframe\">\n",
       "  <thead>\n",
       "    <tr style=\"text-align: right;\">\n",
       "      <th></th>\n",
       "      <th>dataId</th>\n",
       "      <th>genre</th>\n",
       "      <th>contentType</th>\n",
       "      <th>title</th>\n",
       "      <th>length</th>\n",
       "      <th>releaseYear</th>\n",
       "      <th>endYear</th>\n",
       "      <th>votes</th>\n",
       "      <th>rating</th>\n",
       "      <th>gross</th>\n",
       "      <th>certificate</th>\n",
       "      <th>description</th>\n",
       "      <th>region</th>\n",
       "    </tr>\n",
       "  </thead>\n",
       "  <tbody>\n",
       "    <tr>\n",
       "      <th>0</th>\n",
       "      <td>102795</td>\n",
       "      <td>Drama</td>\n",
       "      <td>movie</td>\n",
       "      <td>Ratha Kanneer</td>\n",
       "      <td>154</td>\n",
       "      <td>1954</td>\n",
       "      <td>-1</td>\n",
       "      <td>349</td>\n",
       "      <td>8.5</td>\n",
       "      <td>-1</td>\n",
       "      <td>Not Rated</td>\n",
       "      <td>The story revolves around Mohanasundaram, a re...</td>\n",
       "      <td>India</td>\n",
       "    </tr>\n",
       "    <tr>\n",
       "      <th>1</th>\n",
       "      <td>102796</td>\n",
       "      <td>Documentary</td>\n",
       "      <td>movie</td>\n",
       "      <td>All Star Comedy Jam</td>\n",
       "      <td>89</td>\n",
       "      <td>-1</td>\n",
       "      <td>-1</td>\n",
       "      <td>349</td>\n",
       "      <td>7.5</td>\n",
       "      <td>-1</td>\n",
       "      <td>Not Rated</td>\n",
       "      <td>The Original King of Comedy and Shaquille O'Ne...</td>\n",
       "      <td>United States</td>\n",
       "    </tr>\n",
       "    <tr>\n",
       "      <th>2</th>\n",
       "      <td>102796</td>\n",
       "      <td>Comedy</td>\n",
       "      <td>movie</td>\n",
       "      <td>All Star Comedy Jam</td>\n",
       "      <td>89</td>\n",
       "      <td>-1</td>\n",
       "      <td>-1</td>\n",
       "      <td>349</td>\n",
       "      <td>7.5</td>\n",
       "      <td>-1</td>\n",
       "      <td>Not Rated</td>\n",
       "      <td>The Original King of Comedy and Shaquille O'Ne...</td>\n",
       "      <td>United States</td>\n",
       "    </tr>\n",
       "    <tr>\n",
       "      <th>3</th>\n",
       "      <td>102797</td>\n",
       "      <td>Documentary</td>\n",
       "      <td>movie</td>\n",
       "      <td>Faces of Death: Fact or Fiction?</td>\n",
       "      <td>54</td>\n",
       "      <td>-1</td>\n",
       "      <td>-1</td>\n",
       "      <td>349</td>\n",
       "      <td>2.9</td>\n",
       "      <td>-1</td>\n",
       "      <td>Unrated</td>\n",
       "      <td>Add a Plot\\n</td>\n",
       "      <td>United States</td>\n",
       "    </tr>\n",
       "    <tr>\n",
       "      <th>4</th>\n",
       "      <td>102797</td>\n",
       "      <td>Horror</td>\n",
       "      <td>movie</td>\n",
       "      <td>Faces of Death: Fact or Fiction?</td>\n",
       "      <td>54</td>\n",
       "      <td>-1</td>\n",
       "      <td>-1</td>\n",
       "      <td>349</td>\n",
       "      <td>2.9</td>\n",
       "      <td>-1</td>\n",
       "      <td>Unrated</td>\n",
       "      <td>Add a Plot\\n</td>\n",
       "      <td>United States</td>\n",
       "    </tr>\n",
       "    <tr>\n",
       "      <th>...</th>\n",
       "      <td>...</td>\n",
       "      <td>...</td>\n",
       "      <td>...</td>\n",
       "      <td>...</td>\n",
       "      <td>...</td>\n",
       "      <td>...</td>\n",
       "      <td>...</td>\n",
       "      <td>...</td>\n",
       "      <td>...</td>\n",
       "      <td>...</td>\n",
       "      <td>...</td>\n",
       "      <td>...</td>\n",
       "      <td>...</td>\n",
       "    </tr>\n",
       "    <tr>\n",
       "      <th>279473</th>\n",
       "      <td>500</td>\n",
       "      <td>Sci-Fi</td>\n",
       "      <td>movie</td>\n",
       "      <td>I, Robot</td>\n",
       "      <td>115</td>\n",
       "      <td>2004</td>\n",
       "      <td>-1</td>\n",
       "      <td>549787</td>\n",
       "      <td>7.1</td>\n",
       "      <td>144800000</td>\n",
       "      <td>PG-13</td>\n",
       "      <td>In 2035, a technophobic cop investigates a cri...</td>\n",
       "      <td>Germany</td>\n",
       "    </tr>\n",
       "    <tr>\n",
       "      <th>279474</th>\n",
       "      <td>0</td>\n",
       "      <td>Drama</td>\n",
       "      <td>movie</td>\n",
       "      <td>The Shawshank Redemption</td>\n",
       "      <td>142</td>\n",
       "      <td>1994</td>\n",
       "      <td>-1</td>\n",
       "      <td>2715939</td>\n",
       "      <td>9.3</td>\n",
       "      <td>28340000</td>\n",
       "      <td>R</td>\n",
       "      <td>Over the course of several years, two convicts...</td>\n",
       "      <td>United States</td>\n",
       "    </tr>\n",
       "    <tr>\n",
       "      <th>279475</th>\n",
       "      <td>0</td>\n",
       "      <td>Drama</td>\n",
       "      <td>movie</td>\n",
       "      <td>The Shawshank Redemption</td>\n",
       "      <td>142</td>\n",
       "      <td>1994</td>\n",
       "      <td>-1</td>\n",
       "      <td>2715939</td>\n",
       "      <td>9.3</td>\n",
       "      <td>28340000</td>\n",
       "      <td>R</td>\n",
       "      <td>Over the course of several years, two convicts...</td>\n",
       "      <td>United States</td>\n",
       "    </tr>\n",
       "    <tr>\n",
       "      <th>279476</th>\n",
       "      <td>0</td>\n",
       "      <td>Drama</td>\n",
       "      <td>movie</td>\n",
       "      <td>The Shawshank Redemption</td>\n",
       "      <td>142</td>\n",
       "      <td>1994</td>\n",
       "      <td>-1</td>\n",
       "      <td>2715939</td>\n",
       "      <td>9.3</td>\n",
       "      <td>28340000</td>\n",
       "      <td>R</td>\n",
       "      <td>Over the course of several years, two convicts...</td>\n",
       "      <td>United States</td>\n",
       "    </tr>\n",
       "    <tr>\n",
       "      <th>279477</th>\n",
       "      <td>0</td>\n",
       "      <td>Drama</td>\n",
       "      <td>movie</td>\n",
       "      <td>The Shawshank Redemption</td>\n",
       "      <td>142</td>\n",
       "      <td>1994</td>\n",
       "      <td>-1</td>\n",
       "      <td>2715939</td>\n",
       "      <td>9.3</td>\n",
       "      <td>28340000</td>\n",
       "      <td>R</td>\n",
       "      <td>Over the course of several years, two convicts...</td>\n",
       "      <td>United States</td>\n",
       "    </tr>\n",
       "  </tbody>\n",
       "</table>\n",
       "<p>279478 rows × 13 columns</p>\n",
       "</div>"
      ],
      "text/plain": [
       "        dataId        genre contentType                             title  \\\n",
       "0       102795        Drama       movie                     Ratha Kanneer   \n",
       "1       102796  Documentary       movie               All Star Comedy Jam   \n",
       "2       102796       Comedy       movie               All Star Comedy Jam   \n",
       "3       102797  Documentary       movie  Faces of Death: Fact or Fiction?   \n",
       "4       102797       Horror       movie  Faces of Death: Fact or Fiction?   \n",
       "...        ...          ...         ...                               ...   \n",
       "279473     500       Sci-Fi       movie                          I, Robot   \n",
       "279474       0        Drama       movie          The Shawshank Redemption   \n",
       "279475       0        Drama       movie          The Shawshank Redemption   \n",
       "279476       0        Drama       movie          The Shawshank Redemption   \n",
       "279477       0        Drama       movie          The Shawshank Redemption   \n",
       "\n",
       "       length  releaseYear  endYear    votes  rating      gross certificate  \\\n",
       "0         154         1954       -1      349     8.5         -1   Not Rated   \n",
       "1          89           -1       -1      349     7.5         -1   Not Rated   \n",
       "2          89           -1       -1      349     7.5         -1   Not Rated   \n",
       "3          54           -1       -1      349     2.9         -1     Unrated   \n",
       "4          54           -1       -1      349     2.9         -1     Unrated   \n",
       "...       ...          ...      ...      ...     ...        ...         ...   \n",
       "279473    115         2004       -1   549787     7.1  144800000       PG-13   \n",
       "279474    142         1994       -1  2715939     9.3   28340000           R   \n",
       "279475    142         1994       -1  2715939     9.3   28340000           R   \n",
       "279476    142         1994       -1  2715939     9.3   28340000           R   \n",
       "279477    142         1994       -1  2715939     9.3   28340000           R   \n",
       "\n",
       "                                              description         region  \n",
       "0       The story revolves around Mohanasundaram, a re...          India  \n",
       "1       The Original King of Comedy and Shaquille O'Ne...  United States  \n",
       "2       The Original King of Comedy and Shaquille O'Ne...  United States  \n",
       "3                                            Add a Plot\\n  United States  \n",
       "4                                            Add a Plot\\n  United States  \n",
       "...                                                   ...            ...  \n",
       "279473  In 2035, a technophobic cop investigates a cri...        Germany  \n",
       "279474  Over the course of several years, two convicts...  United States  \n",
       "279475  Over the course of several years, two convicts...  United States  \n",
       "279476  Over the course of several years, two convicts...  United States  \n",
       "279477  Over the course of several years, two convicts...  United States  \n",
       "\n",
       "[279478 rows x 13 columns]"
      ]
     },
     "execution_count": 10,
     "metadata": {},
     "output_type": "execute_result"
    }
   ],
   "source": [
    "id"
   ]
  },
  {
   "cell_type": "code",
   "execution_count": 11,
   "metadata": {},
   "outputs": [
    {
     "data": {
      "text/plain": [
       "True    219213\n",
       "Name: dataId, dtype: int64"
      ]
     },
     "execution_count": 11,
     "metadata": {},
     "output_type": "execute_result"
    }
   ],
   "source": [
    "#find overlapping data\n",
    "idg['dataId'].isin(idp['dataId']).value_counts()\n"
   ]
  },
  {
   "cell_type": "code",
   "execution_count": 12,
   "metadata": {},
   "outputs": [],
   "source": [
    "#leave only one of the overlapping data\n",
    "id = id.drop_duplicates(subset=['dataId'], keep='first')\n"
   ]
  },
  {
   "cell_type": "code",
   "execution_count": 13,
   "metadata": {},
   "outputs": [
    {
     "data": {
      "text/html": [
       "<div>\n",
       "<style scoped>\n",
       "    .dataframe tbody tr th:only-of-type {\n",
       "        vertical-align: middle;\n",
       "    }\n",
       "\n",
       "    .dataframe tbody tr th {\n",
       "        vertical-align: top;\n",
       "    }\n",
       "\n",
       "    .dataframe thead th {\n",
       "        text-align: right;\n",
       "    }\n",
       "</style>\n",
       "<table border=\"1\" class=\"dataframe\">\n",
       "  <thead>\n",
       "    <tr style=\"text-align: right;\">\n",
       "      <th></th>\n",
       "      <th>dataId</th>\n",
       "      <th>genre</th>\n",
       "      <th>contentType</th>\n",
       "      <th>title</th>\n",
       "      <th>length</th>\n",
       "      <th>releaseYear</th>\n",
       "      <th>endYear</th>\n",
       "      <th>votes</th>\n",
       "      <th>rating</th>\n",
       "      <th>gross</th>\n",
       "      <th>certificate</th>\n",
       "      <th>description</th>\n",
       "      <th>region</th>\n",
       "    </tr>\n",
       "  </thead>\n",
       "  <tbody>\n",
       "    <tr>\n",
       "      <th>0</th>\n",
       "      <td>102795</td>\n",
       "      <td>Drama</td>\n",
       "      <td>movie</td>\n",
       "      <td>Ratha Kanneer</td>\n",
       "      <td>154</td>\n",
       "      <td>1954</td>\n",
       "      <td>-1</td>\n",
       "      <td>349</td>\n",
       "      <td>8.5</td>\n",
       "      <td>-1</td>\n",
       "      <td>Not Rated</td>\n",
       "      <td>The story revolves around Mohanasundaram, a re...</td>\n",
       "      <td>India</td>\n",
       "    </tr>\n",
       "    <tr>\n",
       "      <th>1</th>\n",
       "      <td>102796</td>\n",
       "      <td>Documentary</td>\n",
       "      <td>movie</td>\n",
       "      <td>All Star Comedy Jam</td>\n",
       "      <td>89</td>\n",
       "      <td>-1</td>\n",
       "      <td>-1</td>\n",
       "      <td>349</td>\n",
       "      <td>7.5</td>\n",
       "      <td>-1</td>\n",
       "      <td>Not Rated</td>\n",
       "      <td>The Original King of Comedy and Shaquille O'Ne...</td>\n",
       "      <td>United States</td>\n",
       "    </tr>\n",
       "    <tr>\n",
       "      <th>3</th>\n",
       "      <td>102797</td>\n",
       "      <td>Documentary</td>\n",
       "      <td>movie</td>\n",
       "      <td>Faces of Death: Fact or Fiction?</td>\n",
       "      <td>54</td>\n",
       "      <td>-1</td>\n",
       "      <td>-1</td>\n",
       "      <td>349</td>\n",
       "      <td>2.9</td>\n",
       "      <td>-1</td>\n",
       "      <td>Unrated</td>\n",
       "      <td>Add a Plot\\n</td>\n",
       "      <td>United States</td>\n",
       "    </tr>\n",
       "    <tr>\n",
       "      <th>5</th>\n",
       "      <td>102798</td>\n",
       "      <td>Horror</td>\n",
       "      <td>movie</td>\n",
       "      <td>Don't Look</td>\n",
       "      <td>71</td>\n",
       "      <td>2018</td>\n",
       "      <td>-1</td>\n",
       "      <td>349</td>\n",
       "      <td>2.8</td>\n",
       "      <td>-1</td>\n",
       "      <td>Not Rated</td>\n",
       "      <td>In the tradition of classic horror movies, \"Do...</td>\n",
       "      <td>United States</td>\n",
       "    </tr>\n",
       "    <tr>\n",
       "      <th>6</th>\n",
       "      <td>102799</td>\n",
       "      <td>Drama</td>\n",
       "      <td>movie</td>\n",
       "      <td>The Escape from Auschwitz</td>\n",
       "      <td>80</td>\n",
       "      <td>2020</td>\n",
       "      <td>-1</td>\n",
       "      <td>349</td>\n",
       "      <td>1.7</td>\n",
       "      <td>-1</td>\n",
       "      <td>TV-MA</td>\n",
       "      <td>After capturing Kazimierz Piechowski at the Hu...</td>\n",
       "      <td>United Kingdom</td>\n",
       "    </tr>\n",
       "    <tr>\n",
       "      <th>...</th>\n",
       "      <td>...</td>\n",
       "      <td>...</td>\n",
       "      <td>...</td>\n",
       "      <td>...</td>\n",
       "      <td>...</td>\n",
       "      <td>...</td>\n",
       "      <td>...</td>\n",
       "      <td>...</td>\n",
       "      <td>...</td>\n",
       "      <td>...</td>\n",
       "      <td>...</td>\n",
       "      <td>...</td>\n",
       "      <td>...</td>\n",
       "    </tr>\n",
       "    <tr>\n",
       "      <th>279450</th>\n",
       "      <td>496</td>\n",
       "      <td>Action</td>\n",
       "      <td>tvSeries</td>\n",
       "      <td>Titans</td>\n",
       "      <td>45</td>\n",
       "      <td>2018</td>\n",
       "      <td>2023</td>\n",
       "      <td>104123</td>\n",
       "      <td>7.5</td>\n",
       "      <td>-1</td>\n",
       "      <td>TV-MA</td>\n",
       "      <td>A team of young superheroes combat evil and ot...</td>\n",
       "      <td>United States</td>\n",
       "    </tr>\n",
       "    <tr>\n",
       "      <th>279453</th>\n",
       "      <td>497</td>\n",
       "      <td>Drama</td>\n",
       "      <td>tvSeries</td>\n",
       "      <td>The Man in the High Castle</td>\n",
       "      <td>60</td>\n",
       "      <td>2015</td>\n",
       "      <td>2019</td>\n",
       "      <td>103828</td>\n",
       "      <td>7.9</td>\n",
       "      <td>-1</td>\n",
       "      <td>TV-MA</td>\n",
       "      <td>In a dystopian America dominated by Nazi Germa...</td>\n",
       "      <td>United States</td>\n",
       "    </tr>\n",
       "    <tr>\n",
       "      <th>279462</th>\n",
       "      <td>498</td>\n",
       "      <td>Action</td>\n",
       "      <td>tvSeries</td>\n",
       "      <td>Justified</td>\n",
       "      <td>44</td>\n",
       "      <td>2010</td>\n",
       "      <td>2015</td>\n",
       "      <td>103427</td>\n",
       "      <td>8.6</td>\n",
       "      <td>-1</td>\n",
       "      <td>TV-MA</td>\n",
       "      <td>U.S. Marshal Raylan Givens is reassigned from ...</td>\n",
       "      <td>United States</td>\n",
       "    </tr>\n",
       "    <tr>\n",
       "      <th>279465</th>\n",
       "      <td>499</td>\n",
       "      <td>Comedy</td>\n",
       "      <td>tvSeries</td>\n",
       "      <td>Misfits</td>\n",
       "      <td>60</td>\n",
       "      <td>2009</td>\n",
       "      <td>2013</td>\n",
       "      <td>103121</td>\n",
       "      <td>8.2</td>\n",
       "      <td>-1</td>\n",
       "      <td>TV-MA</td>\n",
       "      <td>A group of young offenders doing community ser...</td>\n",
       "      <td>United Kingdom</td>\n",
       "    </tr>\n",
       "    <tr>\n",
       "      <th>279468</th>\n",
       "      <td>500</td>\n",
       "      <td>Action</td>\n",
       "      <td>movie</td>\n",
       "      <td>I, Robot</td>\n",
       "      <td>115</td>\n",
       "      <td>2004</td>\n",
       "      <td>-1</td>\n",
       "      <td>549787</td>\n",
       "      <td>7.1</td>\n",
       "      <td>144800000</td>\n",
       "      <td>PG-13</td>\n",
       "      <td>In 2035, a technophobic cop investigates a cri...</td>\n",
       "      <td>United States</td>\n",
       "    </tr>\n",
       "  </tbody>\n",
       "</table>\n",
       "<p>101604 rows × 13 columns</p>\n",
       "</div>"
      ],
      "text/plain": [
       "        dataId        genre contentType                             title  \\\n",
       "0       102795        Drama       movie                     Ratha Kanneer   \n",
       "1       102796  Documentary       movie               All Star Comedy Jam   \n",
       "3       102797  Documentary       movie  Faces of Death: Fact or Fiction?   \n",
       "5       102798       Horror       movie                        Don't Look   \n",
       "6       102799        Drama       movie         The Escape from Auschwitz   \n",
       "...        ...          ...         ...                               ...   \n",
       "279450     496       Action    tvSeries                            Titans   \n",
       "279453     497        Drama    tvSeries        The Man in the High Castle   \n",
       "279462     498       Action    tvSeries                         Justified   \n",
       "279465     499       Comedy    tvSeries                           Misfits   \n",
       "279468     500       Action       movie                          I, Robot   \n",
       "\n",
       "       length  releaseYear  endYear   votes  rating      gross certificate  \\\n",
       "0         154         1954       -1     349     8.5         -1   Not Rated   \n",
       "1          89           -1       -1     349     7.5         -1   Not Rated   \n",
       "3          54           -1       -1     349     2.9         -1     Unrated   \n",
       "5          71         2018       -1     349     2.8         -1   Not Rated   \n",
       "6          80         2020       -1     349     1.7         -1       TV-MA   \n",
       "...       ...          ...      ...     ...     ...        ...         ...   \n",
       "279450     45         2018     2023  104123     7.5         -1       TV-MA   \n",
       "279453     60         2015     2019  103828     7.9         -1       TV-MA   \n",
       "279462     44         2010     2015  103427     8.6         -1       TV-MA   \n",
       "279465     60         2009     2013  103121     8.2         -1       TV-MA   \n",
       "279468    115         2004       -1  549787     7.1  144800000       PG-13   \n",
       "\n",
       "                                              description          region  \n",
       "0       The story revolves around Mohanasundaram, a re...           India  \n",
       "1       The Original King of Comedy and Shaquille O'Ne...   United States  \n",
       "3                                            Add a Plot\\n   United States  \n",
       "5       In the tradition of classic horror movies, \"Do...   United States  \n",
       "6       After capturing Kazimierz Piechowski at the Hu...  United Kingdom  \n",
       "...                                                   ...             ...  \n",
       "279450  A team of young superheroes combat evil and ot...   United States  \n",
       "279453  In a dystopian America dominated by Nazi Germa...   United States  \n",
       "279462  U.S. Marshal Raylan Givens is reassigned from ...   United States  \n",
       "279465  A group of young offenders doing community ser...  United Kingdom  \n",
       "279468  In 2035, a technophobic cop investigates a cri...   United States  \n",
       "\n",
       "[101604 rows x 13 columns]"
      ]
     },
     "execution_count": 13,
     "metadata": {},
     "output_type": "execute_result"
    }
   ],
   "source": [
    "id"
   ]
  },
  {
   "cell_type": "code",
   "execution_count": 14,
   "metadata": {},
   "outputs": [
    {
     "data": {
      "application/vnd.plotly.v1+json": {
       "config": {
        "plotlyServerURL": "https://plot.ly"
       },
       "data": [
        {
         "domain": {
          "x": [
           0,
           1
          ],
          "y": [
           0,
           1
          ]
         },
         "hovertemplate": "label=%{label}<br>value=%{value}<extra></extra>",
         "labels": [
          "movie",
          "tvSeries"
         ],
         "legendgroup": "",
         "name": "",
         "showlegend": true,
         "type": "pie",
         "values": [
          72911,
          28693
         ]
        }
       ],
       "layout": {
        "legend": {
         "tracegroupgap": 0
        },
        "template": {
         "data": {
          "bar": [
           {
            "error_x": {
             "color": "#2a3f5f"
            },
            "error_y": {
             "color": "#2a3f5f"
            },
            "marker": {
             "line": {
              "color": "#E5ECF6",
              "width": 0.5
             },
             "pattern": {
              "fillmode": "overlay",
              "size": 10,
              "solidity": 0.2
             }
            },
            "type": "bar"
           }
          ],
          "barpolar": [
           {
            "marker": {
             "line": {
              "color": "#E5ECF6",
              "width": 0.5
             },
             "pattern": {
              "fillmode": "overlay",
              "size": 10,
              "solidity": 0.2
             }
            },
            "type": "barpolar"
           }
          ],
          "carpet": [
           {
            "aaxis": {
             "endlinecolor": "#2a3f5f",
             "gridcolor": "white",
             "linecolor": "white",
             "minorgridcolor": "white",
             "startlinecolor": "#2a3f5f"
            },
            "baxis": {
             "endlinecolor": "#2a3f5f",
             "gridcolor": "white",
             "linecolor": "white",
             "minorgridcolor": "white",
             "startlinecolor": "#2a3f5f"
            },
            "type": "carpet"
           }
          ],
          "choropleth": [
           {
            "colorbar": {
             "outlinewidth": 0,
             "ticks": ""
            },
            "type": "choropleth"
           }
          ],
          "contour": [
           {
            "colorbar": {
             "outlinewidth": 0,
             "ticks": ""
            },
            "colorscale": [
             [
              0,
              "#0d0887"
             ],
             [
              0.1111111111111111,
              "#46039f"
             ],
             [
              0.2222222222222222,
              "#7201a8"
             ],
             [
              0.3333333333333333,
              "#9c179e"
             ],
             [
              0.4444444444444444,
              "#bd3786"
             ],
             [
              0.5555555555555556,
              "#d8576b"
             ],
             [
              0.6666666666666666,
              "#ed7953"
             ],
             [
              0.7777777777777778,
              "#fb9f3a"
             ],
             [
              0.8888888888888888,
              "#fdca26"
             ],
             [
              1,
              "#f0f921"
             ]
            ],
            "type": "contour"
           }
          ],
          "contourcarpet": [
           {
            "colorbar": {
             "outlinewidth": 0,
             "ticks": ""
            },
            "type": "contourcarpet"
           }
          ],
          "heatmap": [
           {
            "colorbar": {
             "outlinewidth": 0,
             "ticks": ""
            },
            "colorscale": [
             [
              0,
              "#0d0887"
             ],
             [
              0.1111111111111111,
              "#46039f"
             ],
             [
              0.2222222222222222,
              "#7201a8"
             ],
             [
              0.3333333333333333,
              "#9c179e"
             ],
             [
              0.4444444444444444,
              "#bd3786"
             ],
             [
              0.5555555555555556,
              "#d8576b"
             ],
             [
              0.6666666666666666,
              "#ed7953"
             ],
             [
              0.7777777777777778,
              "#fb9f3a"
             ],
             [
              0.8888888888888888,
              "#fdca26"
             ],
             [
              1,
              "#f0f921"
             ]
            ],
            "type": "heatmap"
           }
          ],
          "heatmapgl": [
           {
            "colorbar": {
             "outlinewidth": 0,
             "ticks": ""
            },
            "colorscale": [
             [
              0,
              "#0d0887"
             ],
             [
              0.1111111111111111,
              "#46039f"
             ],
             [
              0.2222222222222222,
              "#7201a8"
             ],
             [
              0.3333333333333333,
              "#9c179e"
             ],
             [
              0.4444444444444444,
              "#bd3786"
             ],
             [
              0.5555555555555556,
              "#d8576b"
             ],
             [
              0.6666666666666666,
              "#ed7953"
             ],
             [
              0.7777777777777778,
              "#fb9f3a"
             ],
             [
              0.8888888888888888,
              "#fdca26"
             ],
             [
              1,
              "#f0f921"
             ]
            ],
            "type": "heatmapgl"
           }
          ],
          "histogram": [
           {
            "marker": {
             "pattern": {
              "fillmode": "overlay",
              "size": 10,
              "solidity": 0.2
             }
            },
            "type": "histogram"
           }
          ],
          "histogram2d": [
           {
            "colorbar": {
             "outlinewidth": 0,
             "ticks": ""
            },
            "colorscale": [
             [
              0,
              "#0d0887"
             ],
             [
              0.1111111111111111,
              "#46039f"
             ],
             [
              0.2222222222222222,
              "#7201a8"
             ],
             [
              0.3333333333333333,
              "#9c179e"
             ],
             [
              0.4444444444444444,
              "#bd3786"
             ],
             [
              0.5555555555555556,
              "#d8576b"
             ],
             [
              0.6666666666666666,
              "#ed7953"
             ],
             [
              0.7777777777777778,
              "#fb9f3a"
             ],
             [
              0.8888888888888888,
              "#fdca26"
             ],
             [
              1,
              "#f0f921"
             ]
            ],
            "type": "histogram2d"
           }
          ],
          "histogram2dcontour": [
           {
            "colorbar": {
             "outlinewidth": 0,
             "ticks": ""
            },
            "colorscale": [
             [
              0,
              "#0d0887"
             ],
             [
              0.1111111111111111,
              "#46039f"
             ],
             [
              0.2222222222222222,
              "#7201a8"
             ],
             [
              0.3333333333333333,
              "#9c179e"
             ],
             [
              0.4444444444444444,
              "#bd3786"
             ],
             [
              0.5555555555555556,
              "#d8576b"
             ],
             [
              0.6666666666666666,
              "#ed7953"
             ],
             [
              0.7777777777777778,
              "#fb9f3a"
             ],
             [
              0.8888888888888888,
              "#fdca26"
             ],
             [
              1,
              "#f0f921"
             ]
            ],
            "type": "histogram2dcontour"
           }
          ],
          "mesh3d": [
           {
            "colorbar": {
             "outlinewidth": 0,
             "ticks": ""
            },
            "type": "mesh3d"
           }
          ],
          "parcoords": [
           {
            "line": {
             "colorbar": {
              "outlinewidth": 0,
              "ticks": ""
             }
            },
            "type": "parcoords"
           }
          ],
          "pie": [
           {
            "automargin": true,
            "type": "pie"
           }
          ],
          "scatter": [
           {
            "fillpattern": {
             "fillmode": "overlay",
             "size": 10,
             "solidity": 0.2
            },
            "type": "scatter"
           }
          ],
          "scatter3d": [
           {
            "line": {
             "colorbar": {
              "outlinewidth": 0,
              "ticks": ""
             }
            },
            "marker": {
             "colorbar": {
              "outlinewidth": 0,
              "ticks": ""
             }
            },
            "type": "scatter3d"
           }
          ],
          "scattercarpet": [
           {
            "marker": {
             "colorbar": {
              "outlinewidth": 0,
              "ticks": ""
             }
            },
            "type": "scattercarpet"
           }
          ],
          "scattergeo": [
           {
            "marker": {
             "colorbar": {
              "outlinewidth": 0,
              "ticks": ""
             }
            },
            "type": "scattergeo"
           }
          ],
          "scattergl": [
           {
            "marker": {
             "colorbar": {
              "outlinewidth": 0,
              "ticks": ""
             }
            },
            "type": "scattergl"
           }
          ],
          "scattermapbox": [
           {
            "marker": {
             "colorbar": {
              "outlinewidth": 0,
              "ticks": ""
             }
            },
            "type": "scattermapbox"
           }
          ],
          "scatterpolar": [
           {
            "marker": {
             "colorbar": {
              "outlinewidth": 0,
              "ticks": ""
             }
            },
            "type": "scatterpolar"
           }
          ],
          "scatterpolargl": [
           {
            "marker": {
             "colorbar": {
              "outlinewidth": 0,
              "ticks": ""
             }
            },
            "type": "scatterpolargl"
           }
          ],
          "scatterternary": [
           {
            "marker": {
             "colorbar": {
              "outlinewidth": 0,
              "ticks": ""
             }
            },
            "type": "scatterternary"
           }
          ],
          "surface": [
           {
            "colorbar": {
             "outlinewidth": 0,
             "ticks": ""
            },
            "colorscale": [
             [
              0,
              "#0d0887"
             ],
             [
              0.1111111111111111,
              "#46039f"
             ],
             [
              0.2222222222222222,
              "#7201a8"
             ],
             [
              0.3333333333333333,
              "#9c179e"
             ],
             [
              0.4444444444444444,
              "#bd3786"
             ],
             [
              0.5555555555555556,
              "#d8576b"
             ],
             [
              0.6666666666666666,
              "#ed7953"
             ],
             [
              0.7777777777777778,
              "#fb9f3a"
             ],
             [
              0.8888888888888888,
              "#fdca26"
             ],
             [
              1,
              "#f0f921"
             ]
            ],
            "type": "surface"
           }
          ],
          "table": [
           {
            "cells": {
             "fill": {
              "color": "#EBF0F8"
             },
             "line": {
              "color": "white"
             }
            },
            "header": {
             "fill": {
              "color": "#C8D4E3"
             },
             "line": {
              "color": "white"
             }
            },
            "type": "table"
           }
          ]
         },
         "layout": {
          "annotationdefaults": {
           "arrowcolor": "#2a3f5f",
           "arrowhead": 0,
           "arrowwidth": 1
          },
          "autotypenumbers": "strict",
          "coloraxis": {
           "colorbar": {
            "outlinewidth": 0,
            "ticks": ""
           }
          },
          "colorscale": {
           "diverging": [
            [
             0,
             "#8e0152"
            ],
            [
             0.1,
             "#c51b7d"
            ],
            [
             0.2,
             "#de77ae"
            ],
            [
             0.3,
             "#f1b6da"
            ],
            [
             0.4,
             "#fde0ef"
            ],
            [
             0.5,
             "#f7f7f7"
            ],
            [
             0.6,
             "#e6f5d0"
            ],
            [
             0.7,
             "#b8e186"
            ],
            [
             0.8,
             "#7fbc41"
            ],
            [
             0.9,
             "#4d9221"
            ],
            [
             1,
             "#276419"
            ]
           ],
           "sequential": [
            [
             0,
             "#0d0887"
            ],
            [
             0.1111111111111111,
             "#46039f"
            ],
            [
             0.2222222222222222,
             "#7201a8"
            ],
            [
             0.3333333333333333,
             "#9c179e"
            ],
            [
             0.4444444444444444,
             "#bd3786"
            ],
            [
             0.5555555555555556,
             "#d8576b"
            ],
            [
             0.6666666666666666,
             "#ed7953"
            ],
            [
             0.7777777777777778,
             "#fb9f3a"
            ],
            [
             0.8888888888888888,
             "#fdca26"
            ],
            [
             1,
             "#f0f921"
            ]
           ],
           "sequentialminus": [
            [
             0,
             "#0d0887"
            ],
            [
             0.1111111111111111,
             "#46039f"
            ],
            [
             0.2222222222222222,
             "#7201a8"
            ],
            [
             0.3333333333333333,
             "#9c179e"
            ],
            [
             0.4444444444444444,
             "#bd3786"
            ],
            [
             0.5555555555555556,
             "#d8576b"
            ],
            [
             0.6666666666666666,
             "#ed7953"
            ],
            [
             0.7777777777777778,
             "#fb9f3a"
            ],
            [
             0.8888888888888888,
             "#fdca26"
            ],
            [
             1,
             "#f0f921"
            ]
           ]
          },
          "colorway": [
           "#636efa",
           "#EF553B",
           "#00cc96",
           "#ab63fa",
           "#FFA15A",
           "#19d3f3",
           "#FF6692",
           "#B6E880",
           "#FF97FF",
           "#FECB52"
          ],
          "font": {
           "color": "#2a3f5f"
          },
          "geo": {
           "bgcolor": "white",
           "lakecolor": "white",
           "landcolor": "#E5ECF6",
           "showlakes": true,
           "showland": true,
           "subunitcolor": "white"
          },
          "hoverlabel": {
           "align": "left"
          },
          "hovermode": "closest",
          "mapbox": {
           "style": "light"
          },
          "paper_bgcolor": "white",
          "plot_bgcolor": "#E5ECF6",
          "polar": {
           "angularaxis": {
            "gridcolor": "white",
            "linecolor": "white",
            "ticks": ""
           },
           "bgcolor": "#E5ECF6",
           "radialaxis": {
            "gridcolor": "white",
            "linecolor": "white",
            "ticks": ""
           }
          },
          "scene": {
           "xaxis": {
            "backgroundcolor": "#E5ECF6",
            "gridcolor": "white",
            "gridwidth": 2,
            "linecolor": "white",
            "showbackground": true,
            "ticks": "",
            "zerolinecolor": "white"
           },
           "yaxis": {
            "backgroundcolor": "#E5ECF6",
            "gridcolor": "white",
            "gridwidth": 2,
            "linecolor": "white",
            "showbackground": true,
            "ticks": "",
            "zerolinecolor": "white"
           },
           "zaxis": {
            "backgroundcolor": "#E5ECF6",
            "gridcolor": "white",
            "gridwidth": 2,
            "linecolor": "white",
            "showbackground": true,
            "ticks": "",
            "zerolinecolor": "white"
           }
          },
          "shapedefaults": {
           "line": {
            "color": "#2a3f5f"
           }
          },
          "ternary": {
           "aaxis": {
            "gridcolor": "white",
            "linecolor": "white",
            "ticks": ""
           },
           "baxis": {
            "gridcolor": "white",
            "linecolor": "white",
            "ticks": ""
           },
           "bgcolor": "#E5ECF6",
           "caxis": {
            "gridcolor": "white",
            "linecolor": "white",
            "ticks": ""
           }
          },
          "title": {
           "x": 0.05
          },
          "xaxis": {
           "automargin": true,
           "gridcolor": "white",
           "linecolor": "white",
           "ticks": "",
           "title": {
            "standoff": 15
           },
           "zerolinecolor": "white",
           "zerolinewidth": 2
          },
          "yaxis": {
           "automargin": true,
           "gridcolor": "white",
           "linecolor": "white",
           "ticks": "",
           "title": {
            "standoff": 15
           },
           "zerolinecolor": "white",
           "zerolinewidth": 2
          }
         }
        },
        "title": {
         "text": "Movie and TV Show Count"
        }
       }
      }
     },
     "metadata": {},
     "output_type": "display_data"
    }
   ],
   "source": [
    "#movie and twshow count and pie chart by plotly\n",
    "id['contentType'].value_counts()\n",
    "\n",
    "fig = px.pie(id, values=id['contentType'].value_counts(), names=id['contentType'].value_counts().index, title='Movie and TV Show Count')\n",
    "fig.show()\n",
    "\n",
    "\n"
   ]
  },
  {
   "attachments": {},
   "cell_type": "markdown",
   "metadata": {},
   "source": [
    "Movies are almost 3 times more on IMDB database"
   ]
  },
  {
   "cell_type": "code",
   "execution_count": 15,
   "metadata": {},
   "outputs": [
    {
     "data": {
      "application/vnd.plotly.v1+json": {
       "config": {
        "plotlyServerURL": "https://plot.ly"
       },
       "data": [
        {
         "alignmentgroup": "True",
         "hovertemplate": "x=%{x}<br>y=%{y}<extra></extra>",
         "legendgroup": "",
         "marker": {
          "color": "#636efa",
          "pattern": {
           "shape": ""
          }
         },
         "name": "",
         "offsetgroup": "",
         "orientation": "v",
         "showlegend": false,
         "textposition": "auto",
         "type": "bar",
         "x": [
          "United States",
          "United Kingdom",
          "India",
          "Japan",
          "France",
          "Canada",
          "Italy",
          "Germany",
          "Turkey",
          "Spain"
         ],
         "xaxis": "x",
         "y": [
          41168,
          9518,
          6376,
          4940,
          4715,
          4049,
          2699,
          2127,
          1915,
          1688
         ],
         "yaxis": "y"
        }
       ],
       "layout": {
        "barmode": "relative",
        "legend": {
         "tracegroupgap": 0
        },
        "template": {
         "data": {
          "bar": [
           {
            "error_x": {
             "color": "#2a3f5f"
            },
            "error_y": {
             "color": "#2a3f5f"
            },
            "marker": {
             "line": {
              "color": "#E5ECF6",
              "width": 0.5
             },
             "pattern": {
              "fillmode": "overlay",
              "size": 10,
              "solidity": 0.2
             }
            },
            "type": "bar"
           }
          ],
          "barpolar": [
           {
            "marker": {
             "line": {
              "color": "#E5ECF6",
              "width": 0.5
             },
             "pattern": {
              "fillmode": "overlay",
              "size": 10,
              "solidity": 0.2
             }
            },
            "type": "barpolar"
           }
          ],
          "carpet": [
           {
            "aaxis": {
             "endlinecolor": "#2a3f5f",
             "gridcolor": "white",
             "linecolor": "white",
             "minorgridcolor": "white",
             "startlinecolor": "#2a3f5f"
            },
            "baxis": {
             "endlinecolor": "#2a3f5f",
             "gridcolor": "white",
             "linecolor": "white",
             "minorgridcolor": "white",
             "startlinecolor": "#2a3f5f"
            },
            "type": "carpet"
           }
          ],
          "choropleth": [
           {
            "colorbar": {
             "outlinewidth": 0,
             "ticks": ""
            },
            "type": "choropleth"
           }
          ],
          "contour": [
           {
            "colorbar": {
             "outlinewidth": 0,
             "ticks": ""
            },
            "colorscale": [
             [
              0,
              "#0d0887"
             ],
             [
              0.1111111111111111,
              "#46039f"
             ],
             [
              0.2222222222222222,
              "#7201a8"
             ],
             [
              0.3333333333333333,
              "#9c179e"
             ],
             [
              0.4444444444444444,
              "#bd3786"
             ],
             [
              0.5555555555555556,
              "#d8576b"
             ],
             [
              0.6666666666666666,
              "#ed7953"
             ],
             [
              0.7777777777777778,
              "#fb9f3a"
             ],
             [
              0.8888888888888888,
              "#fdca26"
             ],
             [
              1,
              "#f0f921"
             ]
            ],
            "type": "contour"
           }
          ],
          "contourcarpet": [
           {
            "colorbar": {
             "outlinewidth": 0,
             "ticks": ""
            },
            "type": "contourcarpet"
           }
          ],
          "heatmap": [
           {
            "colorbar": {
             "outlinewidth": 0,
             "ticks": ""
            },
            "colorscale": [
             [
              0,
              "#0d0887"
             ],
             [
              0.1111111111111111,
              "#46039f"
             ],
             [
              0.2222222222222222,
              "#7201a8"
             ],
             [
              0.3333333333333333,
              "#9c179e"
             ],
             [
              0.4444444444444444,
              "#bd3786"
             ],
             [
              0.5555555555555556,
              "#d8576b"
             ],
             [
              0.6666666666666666,
              "#ed7953"
             ],
             [
              0.7777777777777778,
              "#fb9f3a"
             ],
             [
              0.8888888888888888,
              "#fdca26"
             ],
             [
              1,
              "#f0f921"
             ]
            ],
            "type": "heatmap"
           }
          ],
          "heatmapgl": [
           {
            "colorbar": {
             "outlinewidth": 0,
             "ticks": ""
            },
            "colorscale": [
             [
              0,
              "#0d0887"
             ],
             [
              0.1111111111111111,
              "#46039f"
             ],
             [
              0.2222222222222222,
              "#7201a8"
             ],
             [
              0.3333333333333333,
              "#9c179e"
             ],
             [
              0.4444444444444444,
              "#bd3786"
             ],
             [
              0.5555555555555556,
              "#d8576b"
             ],
             [
              0.6666666666666666,
              "#ed7953"
             ],
             [
              0.7777777777777778,
              "#fb9f3a"
             ],
             [
              0.8888888888888888,
              "#fdca26"
             ],
             [
              1,
              "#f0f921"
             ]
            ],
            "type": "heatmapgl"
           }
          ],
          "histogram": [
           {
            "marker": {
             "pattern": {
              "fillmode": "overlay",
              "size": 10,
              "solidity": 0.2
             }
            },
            "type": "histogram"
           }
          ],
          "histogram2d": [
           {
            "colorbar": {
             "outlinewidth": 0,
             "ticks": ""
            },
            "colorscale": [
             [
              0,
              "#0d0887"
             ],
             [
              0.1111111111111111,
              "#46039f"
             ],
             [
              0.2222222222222222,
              "#7201a8"
             ],
             [
              0.3333333333333333,
              "#9c179e"
             ],
             [
              0.4444444444444444,
              "#bd3786"
             ],
             [
              0.5555555555555556,
              "#d8576b"
             ],
             [
              0.6666666666666666,
              "#ed7953"
             ],
             [
              0.7777777777777778,
              "#fb9f3a"
             ],
             [
              0.8888888888888888,
              "#fdca26"
             ],
             [
              1,
              "#f0f921"
             ]
            ],
            "type": "histogram2d"
           }
          ],
          "histogram2dcontour": [
           {
            "colorbar": {
             "outlinewidth": 0,
             "ticks": ""
            },
            "colorscale": [
             [
              0,
              "#0d0887"
             ],
             [
              0.1111111111111111,
              "#46039f"
             ],
             [
              0.2222222222222222,
              "#7201a8"
             ],
             [
              0.3333333333333333,
              "#9c179e"
             ],
             [
              0.4444444444444444,
              "#bd3786"
             ],
             [
              0.5555555555555556,
              "#d8576b"
             ],
             [
              0.6666666666666666,
              "#ed7953"
             ],
             [
              0.7777777777777778,
              "#fb9f3a"
             ],
             [
              0.8888888888888888,
              "#fdca26"
             ],
             [
              1,
              "#f0f921"
             ]
            ],
            "type": "histogram2dcontour"
           }
          ],
          "mesh3d": [
           {
            "colorbar": {
             "outlinewidth": 0,
             "ticks": ""
            },
            "type": "mesh3d"
           }
          ],
          "parcoords": [
           {
            "line": {
             "colorbar": {
              "outlinewidth": 0,
              "ticks": ""
             }
            },
            "type": "parcoords"
           }
          ],
          "pie": [
           {
            "automargin": true,
            "type": "pie"
           }
          ],
          "scatter": [
           {
            "fillpattern": {
             "fillmode": "overlay",
             "size": 10,
             "solidity": 0.2
            },
            "type": "scatter"
           }
          ],
          "scatter3d": [
           {
            "line": {
             "colorbar": {
              "outlinewidth": 0,
              "ticks": ""
             }
            },
            "marker": {
             "colorbar": {
              "outlinewidth": 0,
              "ticks": ""
             }
            },
            "type": "scatter3d"
           }
          ],
          "scattercarpet": [
           {
            "marker": {
             "colorbar": {
              "outlinewidth": 0,
              "ticks": ""
             }
            },
            "type": "scattercarpet"
           }
          ],
          "scattergeo": [
           {
            "marker": {
             "colorbar": {
              "outlinewidth": 0,
              "ticks": ""
             }
            },
            "type": "scattergeo"
           }
          ],
          "scattergl": [
           {
            "marker": {
             "colorbar": {
              "outlinewidth": 0,
              "ticks": ""
             }
            },
            "type": "scattergl"
           }
          ],
          "scattermapbox": [
           {
            "marker": {
             "colorbar": {
              "outlinewidth": 0,
              "ticks": ""
             }
            },
            "type": "scattermapbox"
           }
          ],
          "scatterpolar": [
           {
            "marker": {
             "colorbar": {
              "outlinewidth": 0,
              "ticks": ""
             }
            },
            "type": "scatterpolar"
           }
          ],
          "scatterpolargl": [
           {
            "marker": {
             "colorbar": {
              "outlinewidth": 0,
              "ticks": ""
             }
            },
            "type": "scatterpolargl"
           }
          ],
          "scatterternary": [
           {
            "marker": {
             "colorbar": {
              "outlinewidth": 0,
              "ticks": ""
             }
            },
            "type": "scatterternary"
           }
          ],
          "surface": [
           {
            "colorbar": {
             "outlinewidth": 0,
             "ticks": ""
            },
            "colorscale": [
             [
              0,
              "#0d0887"
             ],
             [
              0.1111111111111111,
              "#46039f"
             ],
             [
              0.2222222222222222,
              "#7201a8"
             ],
             [
              0.3333333333333333,
              "#9c179e"
             ],
             [
              0.4444444444444444,
              "#bd3786"
             ],
             [
              0.5555555555555556,
              "#d8576b"
             ],
             [
              0.6666666666666666,
              "#ed7953"
             ],
             [
              0.7777777777777778,
              "#fb9f3a"
             ],
             [
              0.8888888888888888,
              "#fdca26"
             ],
             [
              1,
              "#f0f921"
             ]
            ],
            "type": "surface"
           }
          ],
          "table": [
           {
            "cells": {
             "fill": {
              "color": "#EBF0F8"
             },
             "line": {
              "color": "white"
             }
            },
            "header": {
             "fill": {
              "color": "#C8D4E3"
             },
             "line": {
              "color": "white"
             }
            },
            "type": "table"
           }
          ]
         },
         "layout": {
          "annotationdefaults": {
           "arrowcolor": "#2a3f5f",
           "arrowhead": 0,
           "arrowwidth": 1
          },
          "autotypenumbers": "strict",
          "coloraxis": {
           "colorbar": {
            "outlinewidth": 0,
            "ticks": ""
           }
          },
          "colorscale": {
           "diverging": [
            [
             0,
             "#8e0152"
            ],
            [
             0.1,
             "#c51b7d"
            ],
            [
             0.2,
             "#de77ae"
            ],
            [
             0.3,
             "#f1b6da"
            ],
            [
             0.4,
             "#fde0ef"
            ],
            [
             0.5,
             "#f7f7f7"
            ],
            [
             0.6,
             "#e6f5d0"
            ],
            [
             0.7,
             "#b8e186"
            ],
            [
             0.8,
             "#7fbc41"
            ],
            [
             0.9,
             "#4d9221"
            ],
            [
             1,
             "#276419"
            ]
           ],
           "sequential": [
            [
             0,
             "#0d0887"
            ],
            [
             0.1111111111111111,
             "#46039f"
            ],
            [
             0.2222222222222222,
             "#7201a8"
            ],
            [
             0.3333333333333333,
             "#9c179e"
            ],
            [
             0.4444444444444444,
             "#bd3786"
            ],
            [
             0.5555555555555556,
             "#d8576b"
            ],
            [
             0.6666666666666666,
             "#ed7953"
            ],
            [
             0.7777777777777778,
             "#fb9f3a"
            ],
            [
             0.8888888888888888,
             "#fdca26"
            ],
            [
             1,
             "#f0f921"
            ]
           ],
           "sequentialminus": [
            [
             0,
             "#0d0887"
            ],
            [
             0.1111111111111111,
             "#46039f"
            ],
            [
             0.2222222222222222,
             "#7201a8"
            ],
            [
             0.3333333333333333,
             "#9c179e"
            ],
            [
             0.4444444444444444,
             "#bd3786"
            ],
            [
             0.5555555555555556,
             "#d8576b"
            ],
            [
             0.6666666666666666,
             "#ed7953"
            ],
            [
             0.7777777777777778,
             "#fb9f3a"
            ],
            [
             0.8888888888888888,
             "#fdca26"
            ],
            [
             1,
             "#f0f921"
            ]
           ]
          },
          "colorway": [
           "#636efa",
           "#EF553B",
           "#00cc96",
           "#ab63fa",
           "#FFA15A",
           "#19d3f3",
           "#FF6692",
           "#B6E880",
           "#FF97FF",
           "#FECB52"
          ],
          "font": {
           "color": "#2a3f5f"
          },
          "geo": {
           "bgcolor": "white",
           "lakecolor": "white",
           "landcolor": "#E5ECF6",
           "showlakes": true,
           "showland": true,
           "subunitcolor": "white"
          },
          "hoverlabel": {
           "align": "left"
          },
          "hovermode": "closest",
          "mapbox": {
           "style": "light"
          },
          "paper_bgcolor": "white",
          "plot_bgcolor": "#E5ECF6",
          "polar": {
           "angularaxis": {
            "gridcolor": "white",
            "linecolor": "white",
            "ticks": ""
           },
           "bgcolor": "#E5ECF6",
           "radialaxis": {
            "gridcolor": "white",
            "linecolor": "white",
            "ticks": ""
           }
          },
          "scene": {
           "xaxis": {
            "backgroundcolor": "#E5ECF6",
            "gridcolor": "white",
            "gridwidth": 2,
            "linecolor": "white",
            "showbackground": true,
            "ticks": "",
            "zerolinecolor": "white"
           },
           "yaxis": {
            "backgroundcolor": "#E5ECF6",
            "gridcolor": "white",
            "gridwidth": 2,
            "linecolor": "white",
            "showbackground": true,
            "ticks": "",
            "zerolinecolor": "white"
           },
           "zaxis": {
            "backgroundcolor": "#E5ECF6",
            "gridcolor": "white",
            "gridwidth": 2,
            "linecolor": "white",
            "showbackground": true,
            "ticks": "",
            "zerolinecolor": "white"
           }
          },
          "shapedefaults": {
           "line": {
            "color": "#2a3f5f"
           }
          },
          "ternary": {
           "aaxis": {
            "gridcolor": "white",
            "linecolor": "white",
            "ticks": ""
           },
           "baxis": {
            "gridcolor": "white",
            "linecolor": "white",
            "ticks": ""
           },
           "bgcolor": "#E5ECF6",
           "caxis": {
            "gridcolor": "white",
            "linecolor": "white",
            "ticks": ""
           }
          },
          "title": {
           "x": 0.05
          },
          "xaxis": {
           "automargin": true,
           "gridcolor": "white",
           "linecolor": "white",
           "ticks": "",
           "title": {
            "standoff": 15
           },
           "zerolinecolor": "white",
           "zerolinewidth": 2
          },
          "yaxis": {
           "automargin": true,
           "gridcolor": "white",
           "linecolor": "white",
           "ticks": "",
           "title": {
            "standoff": 15
           },
           "zerolinecolor": "white",
           "zerolinewidth": 2
          }
         }
        },
        "title": {
         "text": "Top 5 Regions"
        },
        "xaxis": {
         "anchor": "y",
         "domain": [
          0,
          1
         ],
         "title": {
          "text": "x"
         }
        },
        "yaxis": {
         "anchor": "x",
         "domain": [
          0,
          1
         ],
         "title": {
          "text": "y"
         }
        }
       }
      }
     },
     "metadata": {},
     "output_type": "display_data"
    }
   ],
   "source": [
    "#different region count \n",
    "id['region'].value_counts()\n",
    "\n",
    "#bar chart for top 5 regions\n",
    "fig = px.bar(id['region'].value_counts().head(10), x=id['region'].value_counts().head(10).index, y=id['region'].value_counts().head(10), title='Top 5 Regions')\n",
    "fig.show()\n",
    "\n"
   ]
  },
  {
   "attachments": {},
   "cell_type": "markdown",
   "metadata": {},
   "source": [
    "In all Movies and TV Shows, US has the most number of Movies and TV Shows followed by UK, India"
   ]
  },
  {
   "cell_type": "code",
   "execution_count": 16,
   "metadata": {},
   "outputs": [
    {
     "data": {
      "application/vnd.plotly.v1+json": {
       "config": {
        "plotlyServerURL": "https://plot.ly"
       },
       "data": [
        {
         "alignmentgroup": "True",
         "hovertemplate": "x=%{x}<br>y=%{y}<extra></extra>",
         "legendgroup": "",
         "marker": {
          "color": "#636efa",
          "pattern": {
           "shape": ""
          }
         },
         "name": "",
         "offsetgroup": "",
         "orientation": "v",
         "showlegend": false,
         "textposition": "auto",
         "type": "bar",
         "x": [
          "United States",
          "United Kingdom",
          "India",
          "France",
          "Canada",
          "Italy",
          "Japan",
          "Germany",
          "Spain",
          "Turkey"
         ],
         "xaxis": "x",
         "y": [
          31100,
          5711,
          5310,
          4167,
          2789,
          2424,
          2289,
          1598,
          1255,
          1159
         ],
         "yaxis": "y"
        }
       ],
       "layout": {
        "barmode": "relative",
        "legend": {
         "tracegroupgap": 0
        },
        "template": {
         "data": {
          "bar": [
           {
            "error_x": {
             "color": "#2a3f5f"
            },
            "error_y": {
             "color": "#2a3f5f"
            },
            "marker": {
             "line": {
              "color": "#E5ECF6",
              "width": 0.5
             },
             "pattern": {
              "fillmode": "overlay",
              "size": 10,
              "solidity": 0.2
             }
            },
            "type": "bar"
           }
          ],
          "barpolar": [
           {
            "marker": {
             "line": {
              "color": "#E5ECF6",
              "width": 0.5
             },
             "pattern": {
              "fillmode": "overlay",
              "size": 10,
              "solidity": 0.2
             }
            },
            "type": "barpolar"
           }
          ],
          "carpet": [
           {
            "aaxis": {
             "endlinecolor": "#2a3f5f",
             "gridcolor": "white",
             "linecolor": "white",
             "minorgridcolor": "white",
             "startlinecolor": "#2a3f5f"
            },
            "baxis": {
             "endlinecolor": "#2a3f5f",
             "gridcolor": "white",
             "linecolor": "white",
             "minorgridcolor": "white",
             "startlinecolor": "#2a3f5f"
            },
            "type": "carpet"
           }
          ],
          "choropleth": [
           {
            "colorbar": {
             "outlinewidth": 0,
             "ticks": ""
            },
            "type": "choropleth"
           }
          ],
          "contour": [
           {
            "colorbar": {
             "outlinewidth": 0,
             "ticks": ""
            },
            "colorscale": [
             [
              0,
              "#0d0887"
             ],
             [
              0.1111111111111111,
              "#46039f"
             ],
             [
              0.2222222222222222,
              "#7201a8"
             ],
             [
              0.3333333333333333,
              "#9c179e"
             ],
             [
              0.4444444444444444,
              "#bd3786"
             ],
             [
              0.5555555555555556,
              "#d8576b"
             ],
             [
              0.6666666666666666,
              "#ed7953"
             ],
             [
              0.7777777777777778,
              "#fb9f3a"
             ],
             [
              0.8888888888888888,
              "#fdca26"
             ],
             [
              1,
              "#f0f921"
             ]
            ],
            "type": "contour"
           }
          ],
          "contourcarpet": [
           {
            "colorbar": {
             "outlinewidth": 0,
             "ticks": ""
            },
            "type": "contourcarpet"
           }
          ],
          "heatmap": [
           {
            "colorbar": {
             "outlinewidth": 0,
             "ticks": ""
            },
            "colorscale": [
             [
              0,
              "#0d0887"
             ],
             [
              0.1111111111111111,
              "#46039f"
             ],
             [
              0.2222222222222222,
              "#7201a8"
             ],
             [
              0.3333333333333333,
              "#9c179e"
             ],
             [
              0.4444444444444444,
              "#bd3786"
             ],
             [
              0.5555555555555556,
              "#d8576b"
             ],
             [
              0.6666666666666666,
              "#ed7953"
             ],
             [
              0.7777777777777778,
              "#fb9f3a"
             ],
             [
              0.8888888888888888,
              "#fdca26"
             ],
             [
              1,
              "#f0f921"
             ]
            ],
            "type": "heatmap"
           }
          ],
          "heatmapgl": [
           {
            "colorbar": {
             "outlinewidth": 0,
             "ticks": ""
            },
            "colorscale": [
             [
              0,
              "#0d0887"
             ],
             [
              0.1111111111111111,
              "#46039f"
             ],
             [
              0.2222222222222222,
              "#7201a8"
             ],
             [
              0.3333333333333333,
              "#9c179e"
             ],
             [
              0.4444444444444444,
              "#bd3786"
             ],
             [
              0.5555555555555556,
              "#d8576b"
             ],
             [
              0.6666666666666666,
              "#ed7953"
             ],
             [
              0.7777777777777778,
              "#fb9f3a"
             ],
             [
              0.8888888888888888,
              "#fdca26"
             ],
             [
              1,
              "#f0f921"
             ]
            ],
            "type": "heatmapgl"
           }
          ],
          "histogram": [
           {
            "marker": {
             "pattern": {
              "fillmode": "overlay",
              "size": 10,
              "solidity": 0.2
             }
            },
            "type": "histogram"
           }
          ],
          "histogram2d": [
           {
            "colorbar": {
             "outlinewidth": 0,
             "ticks": ""
            },
            "colorscale": [
             [
              0,
              "#0d0887"
             ],
             [
              0.1111111111111111,
              "#46039f"
             ],
             [
              0.2222222222222222,
              "#7201a8"
             ],
             [
              0.3333333333333333,
              "#9c179e"
             ],
             [
              0.4444444444444444,
              "#bd3786"
             ],
             [
              0.5555555555555556,
              "#d8576b"
             ],
             [
              0.6666666666666666,
              "#ed7953"
             ],
             [
              0.7777777777777778,
              "#fb9f3a"
             ],
             [
              0.8888888888888888,
              "#fdca26"
             ],
             [
              1,
              "#f0f921"
             ]
            ],
            "type": "histogram2d"
           }
          ],
          "histogram2dcontour": [
           {
            "colorbar": {
             "outlinewidth": 0,
             "ticks": ""
            },
            "colorscale": [
             [
              0,
              "#0d0887"
             ],
             [
              0.1111111111111111,
              "#46039f"
             ],
             [
              0.2222222222222222,
              "#7201a8"
             ],
             [
              0.3333333333333333,
              "#9c179e"
             ],
             [
              0.4444444444444444,
              "#bd3786"
             ],
             [
              0.5555555555555556,
              "#d8576b"
             ],
             [
              0.6666666666666666,
              "#ed7953"
             ],
             [
              0.7777777777777778,
              "#fb9f3a"
             ],
             [
              0.8888888888888888,
              "#fdca26"
             ],
             [
              1,
              "#f0f921"
             ]
            ],
            "type": "histogram2dcontour"
           }
          ],
          "mesh3d": [
           {
            "colorbar": {
             "outlinewidth": 0,
             "ticks": ""
            },
            "type": "mesh3d"
           }
          ],
          "parcoords": [
           {
            "line": {
             "colorbar": {
              "outlinewidth": 0,
              "ticks": ""
             }
            },
            "type": "parcoords"
           }
          ],
          "pie": [
           {
            "automargin": true,
            "type": "pie"
           }
          ],
          "scatter": [
           {
            "fillpattern": {
             "fillmode": "overlay",
             "size": 10,
             "solidity": 0.2
            },
            "type": "scatter"
           }
          ],
          "scatter3d": [
           {
            "line": {
             "colorbar": {
              "outlinewidth": 0,
              "ticks": ""
             }
            },
            "marker": {
             "colorbar": {
              "outlinewidth": 0,
              "ticks": ""
             }
            },
            "type": "scatter3d"
           }
          ],
          "scattercarpet": [
           {
            "marker": {
             "colorbar": {
              "outlinewidth": 0,
              "ticks": ""
             }
            },
            "type": "scattercarpet"
           }
          ],
          "scattergeo": [
           {
            "marker": {
             "colorbar": {
              "outlinewidth": 0,
              "ticks": ""
             }
            },
            "type": "scattergeo"
           }
          ],
          "scattergl": [
           {
            "marker": {
             "colorbar": {
              "outlinewidth": 0,
              "ticks": ""
             }
            },
            "type": "scattergl"
           }
          ],
          "scattermapbox": [
           {
            "marker": {
             "colorbar": {
              "outlinewidth": 0,
              "ticks": ""
             }
            },
            "type": "scattermapbox"
           }
          ],
          "scatterpolar": [
           {
            "marker": {
             "colorbar": {
              "outlinewidth": 0,
              "ticks": ""
             }
            },
            "type": "scatterpolar"
           }
          ],
          "scatterpolargl": [
           {
            "marker": {
             "colorbar": {
              "outlinewidth": 0,
              "ticks": ""
             }
            },
            "type": "scatterpolargl"
           }
          ],
          "scatterternary": [
           {
            "marker": {
             "colorbar": {
              "outlinewidth": 0,
              "ticks": ""
             }
            },
            "type": "scatterternary"
           }
          ],
          "surface": [
           {
            "colorbar": {
             "outlinewidth": 0,
             "ticks": ""
            },
            "colorscale": [
             [
              0,
              "#0d0887"
             ],
             [
              0.1111111111111111,
              "#46039f"
             ],
             [
              0.2222222222222222,
              "#7201a8"
             ],
             [
              0.3333333333333333,
              "#9c179e"
             ],
             [
              0.4444444444444444,
              "#bd3786"
             ],
             [
              0.5555555555555556,
              "#d8576b"
             ],
             [
              0.6666666666666666,
              "#ed7953"
             ],
             [
              0.7777777777777778,
              "#fb9f3a"
             ],
             [
              0.8888888888888888,
              "#fdca26"
             ],
             [
              1,
              "#f0f921"
             ]
            ],
            "type": "surface"
           }
          ],
          "table": [
           {
            "cells": {
             "fill": {
              "color": "#EBF0F8"
             },
             "line": {
              "color": "white"
             }
            },
            "header": {
             "fill": {
              "color": "#C8D4E3"
             },
             "line": {
              "color": "white"
             }
            },
            "type": "table"
           }
          ]
         },
         "layout": {
          "annotationdefaults": {
           "arrowcolor": "#2a3f5f",
           "arrowhead": 0,
           "arrowwidth": 1
          },
          "autotypenumbers": "strict",
          "coloraxis": {
           "colorbar": {
            "outlinewidth": 0,
            "ticks": ""
           }
          },
          "colorscale": {
           "diverging": [
            [
             0,
             "#8e0152"
            ],
            [
             0.1,
             "#c51b7d"
            ],
            [
             0.2,
             "#de77ae"
            ],
            [
             0.3,
             "#f1b6da"
            ],
            [
             0.4,
             "#fde0ef"
            ],
            [
             0.5,
             "#f7f7f7"
            ],
            [
             0.6,
             "#e6f5d0"
            ],
            [
             0.7,
             "#b8e186"
            ],
            [
             0.8,
             "#7fbc41"
            ],
            [
             0.9,
             "#4d9221"
            ],
            [
             1,
             "#276419"
            ]
           ],
           "sequential": [
            [
             0,
             "#0d0887"
            ],
            [
             0.1111111111111111,
             "#46039f"
            ],
            [
             0.2222222222222222,
             "#7201a8"
            ],
            [
             0.3333333333333333,
             "#9c179e"
            ],
            [
             0.4444444444444444,
             "#bd3786"
            ],
            [
             0.5555555555555556,
             "#d8576b"
            ],
            [
             0.6666666666666666,
             "#ed7953"
            ],
            [
             0.7777777777777778,
             "#fb9f3a"
            ],
            [
             0.8888888888888888,
             "#fdca26"
            ],
            [
             1,
             "#f0f921"
            ]
           ],
           "sequentialminus": [
            [
             0,
             "#0d0887"
            ],
            [
             0.1111111111111111,
             "#46039f"
            ],
            [
             0.2222222222222222,
             "#7201a8"
            ],
            [
             0.3333333333333333,
             "#9c179e"
            ],
            [
             0.4444444444444444,
             "#bd3786"
            ],
            [
             0.5555555555555556,
             "#d8576b"
            ],
            [
             0.6666666666666666,
             "#ed7953"
            ],
            [
             0.7777777777777778,
             "#fb9f3a"
            ],
            [
             0.8888888888888888,
             "#fdca26"
            ],
            [
             1,
             "#f0f921"
            ]
           ]
          },
          "colorway": [
           "#636efa",
           "#EF553B",
           "#00cc96",
           "#ab63fa",
           "#FFA15A",
           "#19d3f3",
           "#FF6692",
           "#B6E880",
           "#FF97FF",
           "#FECB52"
          ],
          "font": {
           "color": "#2a3f5f"
          },
          "geo": {
           "bgcolor": "white",
           "lakecolor": "white",
           "landcolor": "#E5ECF6",
           "showlakes": true,
           "showland": true,
           "subunitcolor": "white"
          },
          "hoverlabel": {
           "align": "left"
          },
          "hovermode": "closest",
          "mapbox": {
           "style": "light"
          },
          "paper_bgcolor": "white",
          "plot_bgcolor": "#E5ECF6",
          "polar": {
           "angularaxis": {
            "gridcolor": "white",
            "linecolor": "white",
            "ticks": ""
           },
           "bgcolor": "#E5ECF6",
           "radialaxis": {
            "gridcolor": "white",
            "linecolor": "white",
            "ticks": ""
           }
          },
          "scene": {
           "xaxis": {
            "backgroundcolor": "#E5ECF6",
            "gridcolor": "white",
            "gridwidth": 2,
            "linecolor": "white",
            "showbackground": true,
            "ticks": "",
            "zerolinecolor": "white"
           },
           "yaxis": {
            "backgroundcolor": "#E5ECF6",
            "gridcolor": "white",
            "gridwidth": 2,
            "linecolor": "white",
            "showbackground": true,
            "ticks": "",
            "zerolinecolor": "white"
           },
           "zaxis": {
            "backgroundcolor": "#E5ECF6",
            "gridcolor": "white",
            "gridwidth": 2,
            "linecolor": "white",
            "showbackground": true,
            "ticks": "",
            "zerolinecolor": "white"
           }
          },
          "shapedefaults": {
           "line": {
            "color": "#2a3f5f"
           }
          },
          "ternary": {
           "aaxis": {
            "gridcolor": "white",
            "linecolor": "white",
            "ticks": ""
           },
           "baxis": {
            "gridcolor": "white",
            "linecolor": "white",
            "ticks": ""
           },
           "bgcolor": "#E5ECF6",
           "caxis": {
            "gridcolor": "white",
            "linecolor": "white",
            "ticks": ""
           }
          },
          "title": {
           "x": 0.05
          },
          "xaxis": {
           "automargin": true,
           "gridcolor": "white",
           "linecolor": "white",
           "ticks": "",
           "title": {
            "standoff": 15
           },
           "zerolinecolor": "white",
           "zerolinewidth": 2
          },
          "yaxis": {
           "automargin": true,
           "gridcolor": "white",
           "linecolor": "white",
           "ticks": "",
           "title": {
            "standoff": 15
           },
           "zerolinecolor": "white",
           "zerolinewidth": 2
          }
         }
        },
        "title": {
         "text": "Top 5 Regions on Movie"
        },
        "xaxis": {
         "anchor": "y",
         "domain": [
          0,
          1
         ],
         "title": {
          "text": "x"
         }
        },
        "yaxis": {
         "anchor": "x",
         "domain": [
          0,
          1
         ],
         "title": {
          "text": "y"
         }
        }
       }
      }
     },
     "metadata": {},
     "output_type": "display_data"
    },
    {
     "data": {
      "application/vnd.plotly.v1+json": {
       "config": {
        "plotlyServerURL": "https://plot.ly"
       },
       "data": [
        {
         "alignmentgroup": "True",
         "hovertemplate": "x=%{x}<br>y=%{y}<extra></extra>",
         "legendgroup": "",
         "marker": {
          "color": "#636efa",
          "pattern": {
           "shape": ""
          }
         },
         "name": "",
         "offsetgroup": "",
         "orientation": "v",
         "showlegend": false,
         "textposition": "auto",
         "type": "bar",
         "x": [
          "United States",
          "United Kingdom",
          "Japan",
          "Canada",
          "India",
          "South Korea",
          "Turkey",
          "Australia",
          "France",
          "Germany"
         ],
         "xaxis": "x",
         "y": [
          10068,
          3807,
          2651,
          1260,
          1066,
          857,
          756,
          632,
          548,
          529
         ],
         "yaxis": "y"
        }
       ],
       "layout": {
        "barmode": "relative",
        "legend": {
         "tracegroupgap": 0
        },
        "template": {
         "data": {
          "bar": [
           {
            "error_x": {
             "color": "#2a3f5f"
            },
            "error_y": {
             "color": "#2a3f5f"
            },
            "marker": {
             "line": {
              "color": "#E5ECF6",
              "width": 0.5
             },
             "pattern": {
              "fillmode": "overlay",
              "size": 10,
              "solidity": 0.2
             }
            },
            "type": "bar"
           }
          ],
          "barpolar": [
           {
            "marker": {
             "line": {
              "color": "#E5ECF6",
              "width": 0.5
             },
             "pattern": {
              "fillmode": "overlay",
              "size": 10,
              "solidity": 0.2
             }
            },
            "type": "barpolar"
           }
          ],
          "carpet": [
           {
            "aaxis": {
             "endlinecolor": "#2a3f5f",
             "gridcolor": "white",
             "linecolor": "white",
             "minorgridcolor": "white",
             "startlinecolor": "#2a3f5f"
            },
            "baxis": {
             "endlinecolor": "#2a3f5f",
             "gridcolor": "white",
             "linecolor": "white",
             "minorgridcolor": "white",
             "startlinecolor": "#2a3f5f"
            },
            "type": "carpet"
           }
          ],
          "choropleth": [
           {
            "colorbar": {
             "outlinewidth": 0,
             "ticks": ""
            },
            "type": "choropleth"
           }
          ],
          "contour": [
           {
            "colorbar": {
             "outlinewidth": 0,
             "ticks": ""
            },
            "colorscale": [
             [
              0,
              "#0d0887"
             ],
             [
              0.1111111111111111,
              "#46039f"
             ],
             [
              0.2222222222222222,
              "#7201a8"
             ],
             [
              0.3333333333333333,
              "#9c179e"
             ],
             [
              0.4444444444444444,
              "#bd3786"
             ],
             [
              0.5555555555555556,
              "#d8576b"
             ],
             [
              0.6666666666666666,
              "#ed7953"
             ],
             [
              0.7777777777777778,
              "#fb9f3a"
             ],
             [
              0.8888888888888888,
              "#fdca26"
             ],
             [
              1,
              "#f0f921"
             ]
            ],
            "type": "contour"
           }
          ],
          "contourcarpet": [
           {
            "colorbar": {
             "outlinewidth": 0,
             "ticks": ""
            },
            "type": "contourcarpet"
           }
          ],
          "heatmap": [
           {
            "colorbar": {
             "outlinewidth": 0,
             "ticks": ""
            },
            "colorscale": [
             [
              0,
              "#0d0887"
             ],
             [
              0.1111111111111111,
              "#46039f"
             ],
             [
              0.2222222222222222,
              "#7201a8"
             ],
             [
              0.3333333333333333,
              "#9c179e"
             ],
             [
              0.4444444444444444,
              "#bd3786"
             ],
             [
              0.5555555555555556,
              "#d8576b"
             ],
             [
              0.6666666666666666,
              "#ed7953"
             ],
             [
              0.7777777777777778,
              "#fb9f3a"
             ],
             [
              0.8888888888888888,
              "#fdca26"
             ],
             [
              1,
              "#f0f921"
             ]
            ],
            "type": "heatmap"
           }
          ],
          "heatmapgl": [
           {
            "colorbar": {
             "outlinewidth": 0,
             "ticks": ""
            },
            "colorscale": [
             [
              0,
              "#0d0887"
             ],
             [
              0.1111111111111111,
              "#46039f"
             ],
             [
              0.2222222222222222,
              "#7201a8"
             ],
             [
              0.3333333333333333,
              "#9c179e"
             ],
             [
              0.4444444444444444,
              "#bd3786"
             ],
             [
              0.5555555555555556,
              "#d8576b"
             ],
             [
              0.6666666666666666,
              "#ed7953"
             ],
             [
              0.7777777777777778,
              "#fb9f3a"
             ],
             [
              0.8888888888888888,
              "#fdca26"
             ],
             [
              1,
              "#f0f921"
             ]
            ],
            "type": "heatmapgl"
           }
          ],
          "histogram": [
           {
            "marker": {
             "pattern": {
              "fillmode": "overlay",
              "size": 10,
              "solidity": 0.2
             }
            },
            "type": "histogram"
           }
          ],
          "histogram2d": [
           {
            "colorbar": {
             "outlinewidth": 0,
             "ticks": ""
            },
            "colorscale": [
             [
              0,
              "#0d0887"
             ],
             [
              0.1111111111111111,
              "#46039f"
             ],
             [
              0.2222222222222222,
              "#7201a8"
             ],
             [
              0.3333333333333333,
              "#9c179e"
             ],
             [
              0.4444444444444444,
              "#bd3786"
             ],
             [
              0.5555555555555556,
              "#d8576b"
             ],
             [
              0.6666666666666666,
              "#ed7953"
             ],
             [
              0.7777777777777778,
              "#fb9f3a"
             ],
             [
              0.8888888888888888,
              "#fdca26"
             ],
             [
              1,
              "#f0f921"
             ]
            ],
            "type": "histogram2d"
           }
          ],
          "histogram2dcontour": [
           {
            "colorbar": {
             "outlinewidth": 0,
             "ticks": ""
            },
            "colorscale": [
             [
              0,
              "#0d0887"
             ],
             [
              0.1111111111111111,
              "#46039f"
             ],
             [
              0.2222222222222222,
              "#7201a8"
             ],
             [
              0.3333333333333333,
              "#9c179e"
             ],
             [
              0.4444444444444444,
              "#bd3786"
             ],
             [
              0.5555555555555556,
              "#d8576b"
             ],
             [
              0.6666666666666666,
              "#ed7953"
             ],
             [
              0.7777777777777778,
              "#fb9f3a"
             ],
             [
              0.8888888888888888,
              "#fdca26"
             ],
             [
              1,
              "#f0f921"
             ]
            ],
            "type": "histogram2dcontour"
           }
          ],
          "mesh3d": [
           {
            "colorbar": {
             "outlinewidth": 0,
             "ticks": ""
            },
            "type": "mesh3d"
           }
          ],
          "parcoords": [
           {
            "line": {
             "colorbar": {
              "outlinewidth": 0,
              "ticks": ""
             }
            },
            "type": "parcoords"
           }
          ],
          "pie": [
           {
            "automargin": true,
            "type": "pie"
           }
          ],
          "scatter": [
           {
            "fillpattern": {
             "fillmode": "overlay",
             "size": 10,
             "solidity": 0.2
            },
            "type": "scatter"
           }
          ],
          "scatter3d": [
           {
            "line": {
             "colorbar": {
              "outlinewidth": 0,
              "ticks": ""
             }
            },
            "marker": {
             "colorbar": {
              "outlinewidth": 0,
              "ticks": ""
             }
            },
            "type": "scatter3d"
           }
          ],
          "scattercarpet": [
           {
            "marker": {
             "colorbar": {
              "outlinewidth": 0,
              "ticks": ""
             }
            },
            "type": "scattercarpet"
           }
          ],
          "scattergeo": [
           {
            "marker": {
             "colorbar": {
              "outlinewidth": 0,
              "ticks": ""
             }
            },
            "type": "scattergeo"
           }
          ],
          "scattergl": [
           {
            "marker": {
             "colorbar": {
              "outlinewidth": 0,
              "ticks": ""
             }
            },
            "type": "scattergl"
           }
          ],
          "scattermapbox": [
           {
            "marker": {
             "colorbar": {
              "outlinewidth": 0,
              "ticks": ""
             }
            },
            "type": "scattermapbox"
           }
          ],
          "scatterpolar": [
           {
            "marker": {
             "colorbar": {
              "outlinewidth": 0,
              "ticks": ""
             }
            },
            "type": "scatterpolar"
           }
          ],
          "scatterpolargl": [
           {
            "marker": {
             "colorbar": {
              "outlinewidth": 0,
              "ticks": ""
             }
            },
            "type": "scatterpolargl"
           }
          ],
          "scatterternary": [
           {
            "marker": {
             "colorbar": {
              "outlinewidth": 0,
              "ticks": ""
             }
            },
            "type": "scatterternary"
           }
          ],
          "surface": [
           {
            "colorbar": {
             "outlinewidth": 0,
             "ticks": ""
            },
            "colorscale": [
             [
              0,
              "#0d0887"
             ],
             [
              0.1111111111111111,
              "#46039f"
             ],
             [
              0.2222222222222222,
              "#7201a8"
             ],
             [
              0.3333333333333333,
              "#9c179e"
             ],
             [
              0.4444444444444444,
              "#bd3786"
             ],
             [
              0.5555555555555556,
              "#d8576b"
             ],
             [
              0.6666666666666666,
              "#ed7953"
             ],
             [
              0.7777777777777778,
              "#fb9f3a"
             ],
             [
              0.8888888888888888,
              "#fdca26"
             ],
             [
              1,
              "#f0f921"
             ]
            ],
            "type": "surface"
           }
          ],
          "table": [
           {
            "cells": {
             "fill": {
              "color": "#EBF0F8"
             },
             "line": {
              "color": "white"
             }
            },
            "header": {
             "fill": {
              "color": "#C8D4E3"
             },
             "line": {
              "color": "white"
             }
            },
            "type": "table"
           }
          ]
         },
         "layout": {
          "annotationdefaults": {
           "arrowcolor": "#2a3f5f",
           "arrowhead": 0,
           "arrowwidth": 1
          },
          "autotypenumbers": "strict",
          "coloraxis": {
           "colorbar": {
            "outlinewidth": 0,
            "ticks": ""
           }
          },
          "colorscale": {
           "diverging": [
            [
             0,
             "#8e0152"
            ],
            [
             0.1,
             "#c51b7d"
            ],
            [
             0.2,
             "#de77ae"
            ],
            [
             0.3,
             "#f1b6da"
            ],
            [
             0.4,
             "#fde0ef"
            ],
            [
             0.5,
             "#f7f7f7"
            ],
            [
             0.6,
             "#e6f5d0"
            ],
            [
             0.7,
             "#b8e186"
            ],
            [
             0.8,
             "#7fbc41"
            ],
            [
             0.9,
             "#4d9221"
            ],
            [
             1,
             "#276419"
            ]
           ],
           "sequential": [
            [
             0,
             "#0d0887"
            ],
            [
             0.1111111111111111,
             "#46039f"
            ],
            [
             0.2222222222222222,
             "#7201a8"
            ],
            [
             0.3333333333333333,
             "#9c179e"
            ],
            [
             0.4444444444444444,
             "#bd3786"
            ],
            [
             0.5555555555555556,
             "#d8576b"
            ],
            [
             0.6666666666666666,
             "#ed7953"
            ],
            [
             0.7777777777777778,
             "#fb9f3a"
            ],
            [
             0.8888888888888888,
             "#fdca26"
            ],
            [
             1,
             "#f0f921"
            ]
           ],
           "sequentialminus": [
            [
             0,
             "#0d0887"
            ],
            [
             0.1111111111111111,
             "#46039f"
            ],
            [
             0.2222222222222222,
             "#7201a8"
            ],
            [
             0.3333333333333333,
             "#9c179e"
            ],
            [
             0.4444444444444444,
             "#bd3786"
            ],
            [
             0.5555555555555556,
             "#d8576b"
            ],
            [
             0.6666666666666666,
             "#ed7953"
            ],
            [
             0.7777777777777778,
             "#fb9f3a"
            ],
            [
             0.8888888888888888,
             "#fdca26"
            ],
            [
             1,
             "#f0f921"
            ]
           ]
          },
          "colorway": [
           "#636efa",
           "#EF553B",
           "#00cc96",
           "#ab63fa",
           "#FFA15A",
           "#19d3f3",
           "#FF6692",
           "#B6E880",
           "#FF97FF",
           "#FECB52"
          ],
          "font": {
           "color": "#2a3f5f"
          },
          "geo": {
           "bgcolor": "white",
           "lakecolor": "white",
           "landcolor": "#E5ECF6",
           "showlakes": true,
           "showland": true,
           "subunitcolor": "white"
          },
          "hoverlabel": {
           "align": "left"
          },
          "hovermode": "closest",
          "mapbox": {
           "style": "light"
          },
          "paper_bgcolor": "white",
          "plot_bgcolor": "#E5ECF6",
          "polar": {
           "angularaxis": {
            "gridcolor": "white",
            "linecolor": "white",
            "ticks": ""
           },
           "bgcolor": "#E5ECF6",
           "radialaxis": {
            "gridcolor": "white",
            "linecolor": "white",
            "ticks": ""
           }
          },
          "scene": {
           "xaxis": {
            "backgroundcolor": "#E5ECF6",
            "gridcolor": "white",
            "gridwidth": 2,
            "linecolor": "white",
            "showbackground": true,
            "ticks": "",
            "zerolinecolor": "white"
           },
           "yaxis": {
            "backgroundcolor": "#E5ECF6",
            "gridcolor": "white",
            "gridwidth": 2,
            "linecolor": "white",
            "showbackground": true,
            "ticks": "",
            "zerolinecolor": "white"
           },
           "zaxis": {
            "backgroundcolor": "#E5ECF6",
            "gridcolor": "white",
            "gridwidth": 2,
            "linecolor": "white",
            "showbackground": true,
            "ticks": "",
            "zerolinecolor": "white"
           }
          },
          "shapedefaults": {
           "line": {
            "color": "#2a3f5f"
           }
          },
          "ternary": {
           "aaxis": {
            "gridcolor": "white",
            "linecolor": "white",
            "ticks": ""
           },
           "baxis": {
            "gridcolor": "white",
            "linecolor": "white",
            "ticks": ""
           },
           "bgcolor": "#E5ECF6",
           "caxis": {
            "gridcolor": "white",
            "linecolor": "white",
            "ticks": ""
           }
          },
          "title": {
           "x": 0.05
          },
          "xaxis": {
           "automargin": true,
           "gridcolor": "white",
           "linecolor": "white",
           "ticks": "",
           "title": {
            "standoff": 15
           },
           "zerolinecolor": "white",
           "zerolinewidth": 2
          },
          "yaxis": {
           "automargin": true,
           "gridcolor": "white",
           "linecolor": "white",
           "ticks": "",
           "title": {
            "standoff": 15
           },
           "zerolinecolor": "white",
           "zerolinewidth": 2
          }
         }
        },
        "title": {
         "text": "Top 5 Regions on TV Show"
        },
        "xaxis": {
         "anchor": "y",
         "domain": [
          0,
          1
         ],
         "title": {
          "text": "x"
         }
        },
        "yaxis": {
         "anchor": "x",
         "domain": [
          0,
          1
         ],
         "title": {
          "text": "y"
         }
        }
       }
      }
     },
     "metadata": {},
     "output_type": "display_data"
    }
   ],
   "source": [
    "#different region count on movie\n",
    "id[id['contentType']=='movie']['region'].value_counts()\n",
    "\n",
    "#diffenrent region count on tv show\n",
    "id[id['contentType']=='tvSeries']['region'].value_counts()\n",
    "\n",
    "#bar chart for top 5 regions on movie\n",
    "fig = px.bar(id[id['contentType']=='movie']['region'].value_counts().head(10), x=id[id['contentType']=='movie']['region'].value_counts().head(10).index, y=id[id['contentType']=='movie']['region'].value_counts().head(10), title='Top 5 Regions on Movie')\n",
    "fig.show()\n",
    "\n",
    "#bar chart for top 5 regions on tv show\n",
    "fig = px.bar(id[id['contentType']=='tvSeries']['region'].value_counts().head(10), x=id[id['contentType']=='tvSeries']['region'].value_counts().head(10).index, y=id[id['contentType']=='tvSeries']['region'].value_counts().head(10), title='Top 5 Regions on TV Show')\n",
    "fig.show()\n"
   ]
  },
  {
   "attachments": {},
   "cell_type": "markdown",
   "metadata": {},
   "source": [
    "On each Movie and TV Show, US has the most number of Movies and TV Shows followed by UK.\n",
    "But after these two countries, rankings are different."
   ]
  },
  {
   "cell_type": "code",
   "execution_count": 17,
   "metadata": {},
   "outputs": [
    {
     "data": {
      "text/html": [
       "<div>\n",
       "<style scoped>\n",
       "    .dataframe tbody tr th:only-of-type {\n",
       "        vertical-align: middle;\n",
       "    }\n",
       "\n",
       "    .dataframe tbody tr th {\n",
       "        vertical-align: top;\n",
       "    }\n",
       "\n",
       "    .dataframe thead th {\n",
       "        text-align: right;\n",
       "    }\n",
       "</style>\n",
       "<table border=\"1\" class=\"dataframe\">\n",
       "  <thead>\n",
       "    <tr style=\"text-align: right;\">\n",
       "      <th></th>\n",
       "      <th>dataId</th>\n",
       "      <th>genre</th>\n",
       "      <th>contentType</th>\n",
       "      <th>title</th>\n",
       "      <th>length</th>\n",
       "      <th>releaseYear</th>\n",
       "      <th>endYear</th>\n",
       "      <th>votes</th>\n",
       "      <th>rating</th>\n",
       "      <th>gross</th>\n",
       "      <th>certificate</th>\n",
       "      <th>description</th>\n",
       "      <th>region</th>\n",
       "    </tr>\n",
       "  </thead>\n",
       "  <tbody>\n",
       "    <tr>\n",
       "      <th>0</th>\n",
       "      <td>102795</td>\n",
       "      <td>Drama</td>\n",
       "      <td>movie</td>\n",
       "      <td>Ratha Kanneer</td>\n",
       "      <td>154</td>\n",
       "      <td>1954</td>\n",
       "      <td>-1</td>\n",
       "      <td>349</td>\n",
       "      <td>8.5</td>\n",
       "      <td>-1</td>\n",
       "      <td>Not Rated</td>\n",
       "      <td>The story revolves around Mohanasundaram, a re...</td>\n",
       "      <td>India</td>\n",
       "    </tr>\n",
       "    <tr>\n",
       "      <th>5</th>\n",
       "      <td>102798</td>\n",
       "      <td>Horror</td>\n",
       "      <td>movie</td>\n",
       "      <td>Don't Look</td>\n",
       "      <td>71</td>\n",
       "      <td>2018</td>\n",
       "      <td>-1</td>\n",
       "      <td>349</td>\n",
       "      <td>2.8</td>\n",
       "      <td>-1</td>\n",
       "      <td>Not Rated</td>\n",
       "      <td>In the tradition of classic horror movies, \"Do...</td>\n",
       "      <td>United States</td>\n",
       "    </tr>\n",
       "    <tr>\n",
       "      <th>6</th>\n",
       "      <td>102799</td>\n",
       "      <td>Drama</td>\n",
       "      <td>movie</td>\n",
       "      <td>The Escape from Auschwitz</td>\n",
       "      <td>80</td>\n",
       "      <td>2020</td>\n",
       "      <td>-1</td>\n",
       "      <td>349</td>\n",
       "      <td>1.7</td>\n",
       "      <td>-1</td>\n",
       "      <td>TV-MA</td>\n",
       "      <td>After capturing Kazimierz Piechowski at the Hu...</td>\n",
       "      <td>United Kingdom</td>\n",
       "    </tr>\n",
       "    <tr>\n",
       "      <th>10</th>\n",
       "      <td>102801</td>\n",
       "      <td>Action</td>\n",
       "      <td>movie</td>\n",
       "      <td>Super Stooges vs the Wonder Women</td>\n",
       "      <td>105</td>\n",
       "      <td>1974</td>\n",
       "      <td>-1</td>\n",
       "      <td>349</td>\n",
       "      <td>4.5</td>\n",
       "      <td>-1</td>\n",
       "      <td>PG</td>\n",
       "      <td>Three men with supernatural powers interfere i...</td>\n",
       "      <td>Italy</td>\n",
       "    </tr>\n",
       "    <tr>\n",
       "      <th>19</th>\n",
       "      <td>102802</td>\n",
       "      <td>Drama</td>\n",
       "      <td>movie</td>\n",
       "      <td>Maassab (The Teacher)</td>\n",
       "      <td>116</td>\n",
       "      <td>2018</td>\n",
       "      <td>-1</td>\n",
       "      <td>349</td>\n",
       "      <td>7.7</td>\n",
       "      <td>-1</td>\n",
       "      <td>Not Rated</td>\n",
       "      <td>A high ranking administrator who has quit his ...</td>\n",
       "      <td>India</td>\n",
       "    </tr>\n",
       "    <tr>\n",
       "      <th>...</th>\n",
       "      <td>...</td>\n",
       "      <td>...</td>\n",
       "      <td>...</td>\n",
       "      <td>...</td>\n",
       "      <td>...</td>\n",
       "      <td>...</td>\n",
       "      <td>...</td>\n",
       "      <td>...</td>\n",
       "      <td>...</td>\n",
       "      <td>...</td>\n",
       "      <td>...</td>\n",
       "      <td>...</td>\n",
       "      <td>...</td>\n",
       "    </tr>\n",
       "    <tr>\n",
       "      <th>278687</th>\n",
       "      <td>246</td>\n",
       "      <td>Drama</td>\n",
       "      <td>movie</td>\n",
       "      <td>Ex Machina</td>\n",
       "      <td>108</td>\n",
       "      <td>2014</td>\n",
       "      <td>-1</td>\n",
       "      <td>555410</td>\n",
       "      <td>7.7</td>\n",
       "      <td>25440000</td>\n",
       "      <td>R</td>\n",
       "      <td>A young programmer is selected to participate ...</td>\n",
       "      <td>United Kingdom</td>\n",
       "    </tr>\n",
       "    <tr>\n",
       "      <th>278690</th>\n",
       "      <td>247</td>\n",
       "      <td>Crime</td>\n",
       "      <td>movie</td>\n",
       "      <td>Zodiac</td>\n",
       "      <td>157</td>\n",
       "      <td>2007</td>\n",
       "      <td>-1</td>\n",
       "      <td>554672</td>\n",
       "      <td>7.7</td>\n",
       "      <td>33080000</td>\n",
       "      <td>R</td>\n",
       "      <td>Between 1968 and 1983, a San Francisco cartoon...</td>\n",
       "      <td>United States</td>\n",
       "    </tr>\n",
       "    <tr>\n",
       "      <th>278693</th>\n",
       "      <td>248</td>\n",
       "      <td>Action</td>\n",
       "      <td>movie</td>\n",
       "      <td>The Bourne Identity</td>\n",
       "      <td>119</td>\n",
       "      <td>2002</td>\n",
       "      <td>-1</td>\n",
       "      <td>554137</td>\n",
       "      <td>7.9</td>\n",
       "      <td>121660000</td>\n",
       "      <td>PG-13</td>\n",
       "      <td>A man is picked up by a fishing boat, bullet-r...</td>\n",
       "      <td>United States</td>\n",
       "    </tr>\n",
       "    <tr>\n",
       "      <th>278702</th>\n",
       "      <td>249</td>\n",
       "      <td>Action</td>\n",
       "      <td>movie</td>\n",
       "      <td>Top Gun: Maverick</td>\n",
       "      <td>130</td>\n",
       "      <td>2022</td>\n",
       "      <td>-1</td>\n",
       "      <td>550110</td>\n",
       "      <td>8.3</td>\n",
       "      <td>718730000</td>\n",
       "      <td>PG-13</td>\n",
       "      <td>After thirty years, Maverick is still pushing ...</td>\n",
       "      <td>United States</td>\n",
       "    </tr>\n",
       "    <tr>\n",
       "      <th>279468</th>\n",
       "      <td>500</td>\n",
       "      <td>Action</td>\n",
       "      <td>movie</td>\n",
       "      <td>I, Robot</td>\n",
       "      <td>115</td>\n",
       "      <td>2004</td>\n",
       "      <td>-1</td>\n",
       "      <td>549787</td>\n",
       "      <td>7.1</td>\n",
       "      <td>144800000</td>\n",
       "      <td>PG-13</td>\n",
       "      <td>In 2035, a technophobic cop investigates a cri...</td>\n",
       "      <td>United States</td>\n",
       "    </tr>\n",
       "  </tbody>\n",
       "</table>\n",
       "<p>66727 rows × 13 columns</p>\n",
       "</div>"
      ],
      "text/plain": [
       "        dataId   genre contentType                              title length  \\\n",
       "0       102795   Drama       movie                      Ratha Kanneer    154   \n",
       "5       102798  Horror       movie                         Don't Look     71   \n",
       "6       102799   Drama       movie          The Escape from Auschwitz     80   \n",
       "10      102801  Action       movie  Super Stooges vs the Wonder Women    105   \n",
       "19      102802   Drama       movie              Maassab (The Teacher)    116   \n",
       "...        ...     ...         ...                                ...    ...   \n",
       "278687     246   Drama       movie                         Ex Machina    108   \n",
       "278690     247   Crime       movie                             Zodiac    157   \n",
       "278693     248  Action       movie                The Bourne Identity    119   \n",
       "278702     249  Action       movie                  Top Gun: Maverick    130   \n",
       "279468     500  Action       movie                           I, Robot    115   \n",
       "\n",
       "        releaseYear  endYear   votes  rating      gross certificate  \\\n",
       "0              1954       -1     349     8.5         -1   Not Rated   \n",
       "5              2018       -1     349     2.8         -1   Not Rated   \n",
       "6              2020       -1     349     1.7         -1       TV-MA   \n",
       "10             1974       -1     349     4.5         -1          PG   \n",
       "19             2018       -1     349     7.7         -1   Not Rated   \n",
       "...             ...      ...     ...     ...        ...         ...   \n",
       "278687         2014       -1  555410     7.7   25440000           R   \n",
       "278690         2007       -1  554672     7.7   33080000           R   \n",
       "278693         2002       -1  554137     7.9  121660000       PG-13   \n",
       "278702         2022       -1  550110     8.3  718730000       PG-13   \n",
       "279468         2004       -1  549787     7.1  144800000       PG-13   \n",
       "\n",
       "                                              description          region  \n",
       "0       The story revolves around Mohanasundaram, a re...           India  \n",
       "5       In the tradition of classic horror movies, \"Do...   United States  \n",
       "6       After capturing Kazimierz Piechowski at the Hu...  United Kingdom  \n",
       "10      Three men with supernatural powers interfere i...           Italy  \n",
       "19      A high ranking administrator who has quit his ...           India  \n",
       "...                                                   ...             ...  \n",
       "278687  A young programmer is selected to participate ...  United Kingdom  \n",
       "278690  Between 1968 and 1983, a San Francisco cartoon...   United States  \n",
       "278693  A man is picked up by a fishing boat, bullet-r...   United States  \n",
       "278702  After thirty years, Maverick is still pushing ...   United States  \n",
       "279468  In 2035, a technophobic cop investigates a cri...   United States  \n",
       "\n",
       "[66727 rows x 13 columns]"
      ]
     },
     "execution_count": 17,
     "metadata": {},
     "output_type": "execute_result"
    }
   ],
   "source": [
    "id4 = id[id['contentType'] == 'movie']\n",
    "id5 = id4[id4['releaseYear'] != -1]\n",
    "id5"
   ]
  },
  {
   "cell_type": "code",
   "execution_count": 18,
   "metadata": {},
   "outputs": [
    {
     "data": {
      "application/vnd.plotly.v1+json": {
       "config": {
        "plotlyServerURL": "https://plot.ly"
       },
       "data": [
        {
         "hovertemplate": "<b>%{hovertext}</b><br><br>releaseYear=%{x}<br>mean=%{y}<br>count=%{marker.color}<extra></extra>",
         "hovertext": [
          1874,
          1878,
          1881,
          1883,
          1885,
          1887,
          1888,
          1889,
          1890,
          1891,
          1892,
          1893,
          1894,
          1895,
          1896,
          1897,
          1898,
          1899,
          1900,
          1901,
          1902,
          1903,
          1904,
          1905,
          1906,
          1907,
          1908,
          1909,
          1910,
          1911,
          1912,
          1913,
          1914,
          1915,
          1916,
          1917,
          1918,
          1919,
          1920,
          1921,
          1922,
          1923,
          1924,
          1925,
          1926,
          1927,
          1928,
          1929,
          1930,
          1931,
          1932,
          1933,
          1934,
          1935,
          1936,
          1937,
          1938,
          1939,
          1940,
          1941,
          1942,
          1943,
          1944,
          1945,
          1946,
          1947,
          1948,
          1949,
          1950,
          1951,
          1952,
          1953,
          1954,
          1955,
          1956,
          1957,
          1958,
          1959,
          1960,
          1961,
          1962,
          1963,
          1964,
          1965,
          1966,
          1967,
          1968,
          1969,
          1970,
          1971,
          1972,
          1973,
          1974,
          1975,
          1976,
          1977,
          1978,
          1979,
          1980,
          1981,
          1982,
          1983,
          1984,
          1985,
          1986,
          1987,
          1988,
          1989,
          1990,
          1991,
          1992,
          1993,
          1994,
          1995,
          1996,
          1997,
          1998,
          1999,
          2000,
          2001,
          2002,
          2003,
          2004,
          2005,
          2006,
          2007,
          2008,
          2009,
          2010,
          2011,
          2012,
          2013,
          2014,
          2015,
          2016,
          2017,
          2018,
          2019,
          2020,
          2021,
          2022,
          2023
         ],
         "legendgroup": "",
         "marker": {
          "color": [
           1,
           1,
           1,
           1,
           1,
           2,
           4,
           1,
           5,
           6,
           3,
           1,
           27,
           28,
           58,
           26,
           11,
           14,
           23,
           27,
           10,
           27,
           9,
           10,
           17,
           12,
           13,
           13,
           11,
           7,
           18,
           20,
           48,
           23,
           30,
           21,
           27,
           42,
           32,
           41,
           34,
           26,
           34,
           40,
           45,
           56,
           74,
           111,
           104,
           146,
           178,
           186,
           181,
           171,
           191,
           186,
           201,
           196,
           215,
           216,
           234,
           215,
           209,
           202,
           206,
           217,
           237,
           250,
           266,
           276,
           274,
           285,
           268,
           303,
           278,
           316,
           309,
           284,
           282,
           285,
           299,
           298,
           324,
           336,
           361,
           356,
           371,
           379,
           390,
           437,
           432,
           406,
           380,
           385,
           387,
           380,
           343,
           376,
           397,
           398,
           418,
           428,
           438,
           445,
           472,
           530,
           575,
           540,
           489,
           559,
           517,
           572,
           586,
           601,
           619,
           695,
           775,
           893,
           892,
           963,
           1006,
           1089,
           1246,
           1345,
           1489,
           1528,
           1546,
           1668,
           1724,
           1804,
           1950,
           2105,
           2227,
           2270,
           2321,
           2532,
           2573,
           2545,
           1840,
           1979,
           1854,
           185
          ],
          "coloraxis": "coloraxis",
          "size": [
           1,
           1,
           1,
           1,
           1,
           2,
           4,
           1,
           5,
           6,
           3,
           1,
           27,
           28,
           58,
           26,
           11,
           14,
           23,
           27,
           10,
           27,
           9,
           10,
           17,
           12,
           13,
           13,
           11,
           7,
           18,
           20,
           48,
           23,
           30,
           21,
           27,
           42,
           32,
           41,
           34,
           26,
           34,
           40,
           45,
           56,
           74,
           111,
           104,
           146,
           178,
           186,
           181,
           171,
           191,
           186,
           201,
           196,
           215,
           216,
           234,
           215,
           209,
           202,
           206,
           217,
           237,
           250,
           266,
           276,
           274,
           285,
           268,
           303,
           278,
           316,
           309,
           284,
           282,
           285,
           299,
           298,
           324,
           336,
           361,
           356,
           371,
           379,
           390,
           437,
           432,
           406,
           380,
           385,
           387,
           380,
           343,
           376,
           397,
           398,
           418,
           428,
           438,
           445,
           472,
           530,
           575,
           540,
           489,
           559,
           517,
           572,
           586,
           601,
           619,
           695,
           775,
           893,
           892,
           963,
           1006,
           1089,
           1246,
           1345,
           1489,
           1528,
           1546,
           1668,
           1724,
           1804,
           1950,
           2105,
           2227,
           2270,
           2321,
           2532,
           2573,
           2545,
           1840,
           1979,
           1854,
           185
          ],
          "sizemode": "area",
          "sizeref": 0.7147222222222223,
          "symbol": "circle"
         },
         "mode": "markers",
         "name": "",
         "orientation": "v",
         "showlegend": false,
         "type": "scatter",
         "x": [
          1874,
          1878,
          1881,
          1883,
          1885,
          1887,
          1888,
          1889,
          1890,
          1891,
          1892,
          1893,
          1894,
          1895,
          1896,
          1897,
          1898,
          1899,
          1900,
          1901,
          1902,
          1903,
          1904,
          1905,
          1906,
          1907,
          1908,
          1909,
          1910,
          1911,
          1912,
          1913,
          1914,
          1915,
          1916,
          1917,
          1918,
          1919,
          1920,
          1921,
          1922,
          1923,
          1924,
          1925,
          1926,
          1927,
          1928,
          1929,
          1930,
          1931,
          1932,
          1933,
          1934,
          1935,
          1936,
          1937,
          1938,
          1939,
          1940,
          1941,
          1942,
          1943,
          1944,
          1945,
          1946,
          1947,
          1948,
          1949,
          1950,
          1951,
          1952,
          1953,
          1954,
          1955,
          1956,
          1957,
          1958,
          1959,
          1960,
          1961,
          1962,
          1963,
          1964,
          1965,
          1966,
          1967,
          1968,
          1969,
          1970,
          1971,
          1972,
          1973,
          1974,
          1975,
          1976,
          1977,
          1978,
          1979,
          1980,
          1981,
          1982,
          1983,
          1984,
          1985,
          1986,
          1987,
          1988,
          1989,
          1990,
          1991,
          1992,
          1993,
          1994,
          1995,
          1996,
          1997,
          1998,
          1999,
          2000,
          2001,
          2002,
          2003,
          2004,
          2005,
          2006,
          2007,
          2008,
          2009,
          2010,
          2011,
          2012,
          2013,
          2014,
          2015,
          2016,
          2017,
          2018,
          2019,
          2020,
          2021,
          2022,
          2023
         ],
         "xaxis": "x",
         "y": [
          6.8,
          7.4,
          5.2,
          6.2,
          5.3,
          5.5,
          6.275,
          5,
          5.18,
          4.966666666666667,
          4.8,
          6.2,
          5.322222222222222,
          5.642857142857143,
          5.38448275862069,
          5.553846153846154,
          6.3,
          5.785714285714286,
          5.821739130434783,
          5.825925925925926,
          5.89,
          5.87037037037037,
          6.144444444444444,
          6.069999999999999,
          6.364705882352942,
          6.283333333333334,
          5.93076923076923,
          6.1692307692307695,
          6.127272727272728,
          6.271428571428571,
          6.300000000000001,
          6.335,
          5.7625,
          6.117391304347826,
          6.503333333333333,
          6.476190476190476,
          6.311111111111111,
          6.433333333333333,
          6.6875,
          6.795121951219513,
          6.741176470588235,
          6.673076923076923,
          7.023529411764706,
          6.977500000000001,
          6.864444444444444,
          6.755357142857143,
          6.971621621621622,
          6.481081081081081,
          6.38173076923077,
          6.543835616438356,
          6.623033707865169,
          6.583870967741935,
          6.551381215469613,
          6.547368421052631,
          6.5685863874345545,
          6.718279569892473,
          6.569154228855722,
          6.718367346938775,
          6.632093023255814,
          6.702314814814815,
          6.629487179487179,
          6.667906976744185,
          6.575598086124402,
          6.708415841584158,
          6.791747572815534,
          6.808294930875577,
          6.830801687763714,
          6.8552,
          6.731578947368421,
          6.698913043478261,
          6.676642335766424,
          6.584912280701754,
          6.607835820895523,
          6.672277227722772,
          6.5780575539568344,
          6.5,
          6.472168284789644,
          6.460915492957747,
          6.5765957446808505,
          6.530526315789474,
          6.563210702341137,
          6.6046979865771815,
          6.53641975308642,
          6.527976190476191,
          6.292520775623268,
          6.327808988764044,
          6.3506738544474395,
          6.306068601583114,
          6.362307692307692,
          6.319679633867277,
          6.259722222222222,
          6.205172413793104,
          6.258157894736842,
          6.284155844155844,
          6.223514211886305,
          6.2368421052631575,
          6.274344023323615,
          6.285638297872341,
          6.2292191435768265,
          6.337185929648241,
          6.3023923444976075,
          6.238084112149533,
          6.204337899543379,
          6.217303370786516,
          6.172033898305084,
          6.054528301886792,
          6.077913043478262,
          6.091666666666667,
          6.075460122699386,
          6.099821109123435,
          6.205415860735009,
          6.178496503496503,
          6.0508532423208194,
          6.126455906821963,
          6.119870759289176,
          6.126906474820144,
          6.140645161290323,
          6.095856662933931,
          6.059641255605381,
          6.129595015576324,
          6.115805168986084,
          6.099908172635446,
          6.089406099518459,
          6.0307063197026025,
          5.989254533243788,
          6.0738219895287955,
          5.9765847347994825,
          5.945443645083933,
          5.992981438515081,
          5.9366962305986695,
          5.933999999999999,
          5.93353919239905,
          5.950426582846879,
          5.930748898678414,
          5.957992244722103,
          5.965600315955766,
          5.95452778857365,
          5.9718664047151275,
          5.8570652173913045,
          6.010005053057099,
          6.183279395900755,
          6.837837837837838
         ],
         "yaxis": "y"
        },
        {
         "hovertemplate": "<b>LOWESS trendline</b><br><br>releaseYear=%{x}<br>mean=%{y} <b>(trend)</b><extra></extra>",
         "legendgroup": "",
         "line": {
          "color": "red"
         },
         "marker": {
          "symbol": "circle"
         },
         "mode": "lines",
         "name": "",
         "showlegend": false,
         "type": "scatter",
         "x": [
          1874,
          1878,
          1881,
          1883,
          1885,
          1887,
          1888,
          1889,
          1890,
          1891,
          1892,
          1893,
          1894,
          1895,
          1896,
          1897,
          1898,
          1899,
          1900,
          1901,
          1902,
          1903,
          1904,
          1905,
          1906,
          1907,
          1908,
          1909,
          1910,
          1911,
          1912,
          1913,
          1914,
          1915,
          1916,
          1917,
          1918,
          1919,
          1920,
          1921,
          1922,
          1923,
          1924,
          1925,
          1926,
          1927,
          1928,
          1929,
          1930,
          1931,
          1932,
          1933,
          1934,
          1935,
          1936,
          1937,
          1938,
          1939,
          1940,
          1941,
          1942,
          1943,
          1944,
          1945,
          1946,
          1947,
          1948,
          1949,
          1950,
          1951,
          1952,
          1953,
          1954,
          1955,
          1956,
          1957,
          1958,
          1959,
          1960,
          1961,
          1962,
          1963,
          1964,
          1965,
          1966,
          1967,
          1968,
          1969,
          1970,
          1971,
          1972,
          1973,
          1974,
          1975,
          1976,
          1977,
          1978,
          1979,
          1980,
          1981,
          1982,
          1983,
          1984,
          1985,
          1986,
          1987,
          1988,
          1989,
          1990,
          1991,
          1992,
          1993,
          1994,
          1995,
          1996,
          1997,
          1998,
          1999,
          2000,
          2001,
          2002,
          2003,
          2004,
          2005,
          2006,
          2007,
          2008,
          2009,
          2010,
          2011,
          2012,
          2013,
          2014,
          2015,
          2016,
          2017,
          2018,
          2019,
          2020,
          2021,
          2022,
          2023
         ],
         "xaxis": "x",
         "y": [
          6.799814351609237,
          6.40216917160065,
          6.104606889012786,
          5.905100680708744,
          5.5613619293774486,
          5.504873137948591,
          5.481582628123945,
          5.4599465653581065,
          5.447982731293943,
          5.442073014187119,
          5.4188610841955205,
          5.3572505018517775,
          5.330594370867132,
          5.40851951469788,
          5.490908551934961,
          5.56803013928588,
          5.63914578818441,
          5.70776132554358,
          5.775861940086487,
          5.842622627538977,
          5.906986623201313,
          5.96447726620185,
          6.008940942028136,
          6.043679765974012,
          6.079739608840227,
          6.11990032346305,
          6.15992686037825,
          6.194009882974164,
          6.22188513456425,
          6.25378382649834,
          6.292520039581006,
          6.331308987746988,
          6.367566016673698,
          6.406464835214993,
          6.450767686352056,
          6.495695632077368,
          6.53793152663228,
          6.579585889799234,
          6.621768768001279,
          6.6629868935770995,
          6.699334887863626,
          6.731979654914955,
          6.754591357926601,
          6.760475154455484,
          6.742574374156109,
          6.722517862684093,
          6.71090262722574,
          6.693504596711118,
          6.661555994234772,
          6.627163896858224,
          6.595930878714099,
          6.579499986868194,
          6.5843575328296,
          6.59523089718282,
          6.606397218910189,
          6.616682366845022,
          6.626661556055507,
          6.636792968585196,
          6.647336522185246,
          6.659064511501007,
          6.6729492387741,
          6.6897456928486925,
          6.708773649946446,
          6.725093351921104,
          6.736785117789183,
          6.743870626441837,
          6.745851673787698,
          6.740732886954076,
          6.728244854732197,
          6.708599756858636,
          6.681886102767073,
          6.650310711862143,
          6.618042613007223,
          6.5909464634774295,
          6.5712585041534695,
          6.557716747084449,
          6.548768772778773,
          6.542538692954366,
          6.536939905814362,
          6.53020523885459,
          6.519444656588537,
          6.502664610888403,
          6.480792318290233,
          6.456303440979518,
          6.429652211327248,
          6.3999349640041805,
          6.367326114473494,
          6.336694821266754,
          6.312909819898769,
          6.296670616180208,
          6.285212751107923,
          6.27524544036381,
          6.2665826680227426,
          6.260098990710402,
          6.257683564921392,
          6.25982594520767,
          6.263248840922226,
          6.264252513979462,
          6.261826853768173,
          6.256032671880491,
          6.245620195647266,
          6.229290953750258,
          6.208261569108161,
          6.1848860349612105,
          6.16189274758463,
          6.142765145137682,
          6.129837061693416,
          6.120983811656741,
          6.11503100652987,
          6.112509755982033,
          6.114328801753236,
          6.11904339559613,
          6.122694622501804,
          6.122996797005303,
          6.120363951698201,
          6.116057146214579,
          6.112282699093219,
          6.109841247145572,
          6.105694911404612,
          6.097542268791235,
          6.087481400315717,
          6.0760684731861225,
          6.063144492228282,
          6.048877363284317,
          6.032345714543715,
          6.014176393051,
          5.996937508118164,
          5.982036843202401,
          5.969829196160785,
          5.960590514289803,
          5.95389382900251,
          5.949836170251625,
          5.948639950650898,
          5.948754864934431,
          5.9516525919902685,
          5.960226987037197,
          5.9767002900534925,
          5.993721463326467,
          6.010708301625871,
          6.027935101824824,
          6.046060501213596,
          6.065622790109293
         ],
         "yaxis": "y"
        }
       ],
       "layout": {
        "coloraxis": {
         "colorbar": {
          "title": {
           "text": "count"
          }
         },
         "colorscale": [
          [
           0,
           "#0d0887"
          ],
          [
           0.1111111111111111,
           "#46039f"
          ],
          [
           0.2222222222222222,
           "#7201a8"
          ],
          [
           0.3333333333333333,
           "#9c179e"
          ],
          [
           0.4444444444444444,
           "#bd3786"
          ],
          [
           0.5555555555555556,
           "#d8576b"
          ],
          [
           0.6666666666666666,
           "#ed7953"
          ],
          [
           0.7777777777777778,
           "#fb9f3a"
          ],
          [
           0.8888888888888888,
           "#fdca26"
          ],
          [
           1,
           "#f0f921"
          ]
         ]
        },
        "legend": {
         "itemsizing": "constant",
         "tracegroupgap": 0
        },
        "margin": {
         "t": 60
        },
        "plot_bgcolor": "rgba(0,0,0,0)",
        "template": {
         "data": {
          "bar": [
           {
            "error_x": {
             "color": "#2a3f5f"
            },
            "error_y": {
             "color": "#2a3f5f"
            },
            "marker": {
             "line": {
              "color": "#E5ECF6",
              "width": 0.5
             },
             "pattern": {
              "fillmode": "overlay",
              "size": 10,
              "solidity": 0.2
             }
            },
            "type": "bar"
           }
          ],
          "barpolar": [
           {
            "marker": {
             "line": {
              "color": "#E5ECF6",
              "width": 0.5
             },
             "pattern": {
              "fillmode": "overlay",
              "size": 10,
              "solidity": 0.2
             }
            },
            "type": "barpolar"
           }
          ],
          "carpet": [
           {
            "aaxis": {
             "endlinecolor": "#2a3f5f",
             "gridcolor": "white",
             "linecolor": "white",
             "minorgridcolor": "white",
             "startlinecolor": "#2a3f5f"
            },
            "baxis": {
             "endlinecolor": "#2a3f5f",
             "gridcolor": "white",
             "linecolor": "white",
             "minorgridcolor": "white",
             "startlinecolor": "#2a3f5f"
            },
            "type": "carpet"
           }
          ],
          "choropleth": [
           {
            "colorbar": {
             "outlinewidth": 0,
             "ticks": ""
            },
            "type": "choropleth"
           }
          ],
          "contour": [
           {
            "colorbar": {
             "outlinewidth": 0,
             "ticks": ""
            },
            "colorscale": [
             [
              0,
              "#0d0887"
             ],
             [
              0.1111111111111111,
              "#46039f"
             ],
             [
              0.2222222222222222,
              "#7201a8"
             ],
             [
              0.3333333333333333,
              "#9c179e"
             ],
             [
              0.4444444444444444,
              "#bd3786"
             ],
             [
              0.5555555555555556,
              "#d8576b"
             ],
             [
              0.6666666666666666,
              "#ed7953"
             ],
             [
              0.7777777777777778,
              "#fb9f3a"
             ],
             [
              0.8888888888888888,
              "#fdca26"
             ],
             [
              1,
              "#f0f921"
             ]
            ],
            "type": "contour"
           }
          ],
          "contourcarpet": [
           {
            "colorbar": {
             "outlinewidth": 0,
             "ticks": ""
            },
            "type": "contourcarpet"
           }
          ],
          "heatmap": [
           {
            "colorbar": {
             "outlinewidth": 0,
             "ticks": ""
            },
            "colorscale": [
             [
              0,
              "#0d0887"
             ],
             [
              0.1111111111111111,
              "#46039f"
             ],
             [
              0.2222222222222222,
              "#7201a8"
             ],
             [
              0.3333333333333333,
              "#9c179e"
             ],
             [
              0.4444444444444444,
              "#bd3786"
             ],
             [
              0.5555555555555556,
              "#d8576b"
             ],
             [
              0.6666666666666666,
              "#ed7953"
             ],
             [
              0.7777777777777778,
              "#fb9f3a"
             ],
             [
              0.8888888888888888,
              "#fdca26"
             ],
             [
              1,
              "#f0f921"
             ]
            ],
            "type": "heatmap"
           }
          ],
          "heatmapgl": [
           {
            "colorbar": {
             "outlinewidth": 0,
             "ticks": ""
            },
            "colorscale": [
             [
              0,
              "#0d0887"
             ],
             [
              0.1111111111111111,
              "#46039f"
             ],
             [
              0.2222222222222222,
              "#7201a8"
             ],
             [
              0.3333333333333333,
              "#9c179e"
             ],
             [
              0.4444444444444444,
              "#bd3786"
             ],
             [
              0.5555555555555556,
              "#d8576b"
             ],
             [
              0.6666666666666666,
              "#ed7953"
             ],
             [
              0.7777777777777778,
              "#fb9f3a"
             ],
             [
              0.8888888888888888,
              "#fdca26"
             ],
             [
              1,
              "#f0f921"
             ]
            ],
            "type": "heatmapgl"
           }
          ],
          "histogram": [
           {
            "marker": {
             "pattern": {
              "fillmode": "overlay",
              "size": 10,
              "solidity": 0.2
             }
            },
            "type": "histogram"
           }
          ],
          "histogram2d": [
           {
            "colorbar": {
             "outlinewidth": 0,
             "ticks": ""
            },
            "colorscale": [
             [
              0,
              "#0d0887"
             ],
             [
              0.1111111111111111,
              "#46039f"
             ],
             [
              0.2222222222222222,
              "#7201a8"
             ],
             [
              0.3333333333333333,
              "#9c179e"
             ],
             [
              0.4444444444444444,
              "#bd3786"
             ],
             [
              0.5555555555555556,
              "#d8576b"
             ],
             [
              0.6666666666666666,
              "#ed7953"
             ],
             [
              0.7777777777777778,
              "#fb9f3a"
             ],
             [
              0.8888888888888888,
              "#fdca26"
             ],
             [
              1,
              "#f0f921"
             ]
            ],
            "type": "histogram2d"
           }
          ],
          "histogram2dcontour": [
           {
            "colorbar": {
             "outlinewidth": 0,
             "ticks": ""
            },
            "colorscale": [
             [
              0,
              "#0d0887"
             ],
             [
              0.1111111111111111,
              "#46039f"
             ],
             [
              0.2222222222222222,
              "#7201a8"
             ],
             [
              0.3333333333333333,
              "#9c179e"
             ],
             [
              0.4444444444444444,
              "#bd3786"
             ],
             [
              0.5555555555555556,
              "#d8576b"
             ],
             [
              0.6666666666666666,
              "#ed7953"
             ],
             [
              0.7777777777777778,
              "#fb9f3a"
             ],
             [
              0.8888888888888888,
              "#fdca26"
             ],
             [
              1,
              "#f0f921"
             ]
            ],
            "type": "histogram2dcontour"
           }
          ],
          "mesh3d": [
           {
            "colorbar": {
             "outlinewidth": 0,
             "ticks": ""
            },
            "type": "mesh3d"
           }
          ],
          "parcoords": [
           {
            "line": {
             "colorbar": {
              "outlinewidth": 0,
              "ticks": ""
             }
            },
            "type": "parcoords"
           }
          ],
          "pie": [
           {
            "automargin": true,
            "type": "pie"
           }
          ],
          "scatter": [
           {
            "fillpattern": {
             "fillmode": "overlay",
             "size": 10,
             "solidity": 0.2
            },
            "type": "scatter"
           }
          ],
          "scatter3d": [
           {
            "line": {
             "colorbar": {
              "outlinewidth": 0,
              "ticks": ""
             }
            },
            "marker": {
             "colorbar": {
              "outlinewidth": 0,
              "ticks": ""
             }
            },
            "type": "scatter3d"
           }
          ],
          "scattercarpet": [
           {
            "marker": {
             "colorbar": {
              "outlinewidth": 0,
              "ticks": ""
             }
            },
            "type": "scattercarpet"
           }
          ],
          "scattergeo": [
           {
            "marker": {
             "colorbar": {
              "outlinewidth": 0,
              "ticks": ""
             }
            },
            "type": "scattergeo"
           }
          ],
          "scattergl": [
           {
            "marker": {
             "colorbar": {
              "outlinewidth": 0,
              "ticks": ""
             }
            },
            "type": "scattergl"
           }
          ],
          "scattermapbox": [
           {
            "marker": {
             "colorbar": {
              "outlinewidth": 0,
              "ticks": ""
             }
            },
            "type": "scattermapbox"
           }
          ],
          "scatterpolar": [
           {
            "marker": {
             "colorbar": {
              "outlinewidth": 0,
              "ticks": ""
             }
            },
            "type": "scatterpolar"
           }
          ],
          "scatterpolargl": [
           {
            "marker": {
             "colorbar": {
              "outlinewidth": 0,
              "ticks": ""
             }
            },
            "type": "scatterpolargl"
           }
          ],
          "scatterternary": [
           {
            "marker": {
             "colorbar": {
              "outlinewidth": 0,
              "ticks": ""
             }
            },
            "type": "scatterternary"
           }
          ],
          "surface": [
           {
            "colorbar": {
             "outlinewidth": 0,
             "ticks": ""
            },
            "colorscale": [
             [
              0,
              "#0d0887"
             ],
             [
              0.1111111111111111,
              "#46039f"
             ],
             [
              0.2222222222222222,
              "#7201a8"
             ],
             [
              0.3333333333333333,
              "#9c179e"
             ],
             [
              0.4444444444444444,
              "#bd3786"
             ],
             [
              0.5555555555555556,
              "#d8576b"
             ],
             [
              0.6666666666666666,
              "#ed7953"
             ],
             [
              0.7777777777777778,
              "#fb9f3a"
             ],
             [
              0.8888888888888888,
              "#fdca26"
             ],
             [
              1,
              "#f0f921"
             ]
            ],
            "type": "surface"
           }
          ],
          "table": [
           {
            "cells": {
             "fill": {
              "color": "#EBF0F8"
             },
             "line": {
              "color": "white"
             }
            },
            "header": {
             "fill": {
              "color": "#C8D4E3"
             },
             "line": {
              "color": "white"
             }
            },
            "type": "table"
           }
          ]
         },
         "layout": {
          "annotationdefaults": {
           "arrowcolor": "#2a3f5f",
           "arrowhead": 0,
           "arrowwidth": 1
          },
          "autotypenumbers": "strict",
          "coloraxis": {
           "colorbar": {
            "outlinewidth": 0,
            "ticks": ""
           }
          },
          "colorscale": {
           "diverging": [
            [
             0,
             "#8e0152"
            ],
            [
             0.1,
             "#c51b7d"
            ],
            [
             0.2,
             "#de77ae"
            ],
            [
             0.3,
             "#f1b6da"
            ],
            [
             0.4,
             "#fde0ef"
            ],
            [
             0.5,
             "#f7f7f7"
            ],
            [
             0.6,
             "#e6f5d0"
            ],
            [
             0.7,
             "#b8e186"
            ],
            [
             0.8,
             "#7fbc41"
            ],
            [
             0.9,
             "#4d9221"
            ],
            [
             1,
             "#276419"
            ]
           ],
           "sequential": [
            [
             0,
             "#0d0887"
            ],
            [
             0.1111111111111111,
             "#46039f"
            ],
            [
             0.2222222222222222,
             "#7201a8"
            ],
            [
             0.3333333333333333,
             "#9c179e"
            ],
            [
             0.4444444444444444,
             "#bd3786"
            ],
            [
             0.5555555555555556,
             "#d8576b"
            ],
            [
             0.6666666666666666,
             "#ed7953"
            ],
            [
             0.7777777777777778,
             "#fb9f3a"
            ],
            [
             0.8888888888888888,
             "#fdca26"
            ],
            [
             1,
             "#f0f921"
            ]
           ],
           "sequentialminus": [
            [
             0,
             "#0d0887"
            ],
            [
             0.1111111111111111,
             "#46039f"
            ],
            [
             0.2222222222222222,
             "#7201a8"
            ],
            [
             0.3333333333333333,
             "#9c179e"
            ],
            [
             0.4444444444444444,
             "#bd3786"
            ],
            [
             0.5555555555555556,
             "#d8576b"
            ],
            [
             0.6666666666666666,
             "#ed7953"
            ],
            [
             0.7777777777777778,
             "#fb9f3a"
            ],
            [
             0.8888888888888888,
             "#fdca26"
            ],
            [
             1,
             "#f0f921"
            ]
           ]
          },
          "colorway": [
           "#636efa",
           "#EF553B",
           "#00cc96",
           "#ab63fa",
           "#FFA15A",
           "#19d3f3",
           "#FF6692",
           "#B6E880",
           "#FF97FF",
           "#FECB52"
          ],
          "font": {
           "color": "#2a3f5f"
          },
          "geo": {
           "bgcolor": "white",
           "lakecolor": "white",
           "landcolor": "#E5ECF6",
           "showlakes": true,
           "showland": true,
           "subunitcolor": "white"
          },
          "hoverlabel": {
           "align": "left"
          },
          "hovermode": "closest",
          "mapbox": {
           "style": "light"
          },
          "paper_bgcolor": "white",
          "plot_bgcolor": "#E5ECF6",
          "polar": {
           "angularaxis": {
            "gridcolor": "white",
            "linecolor": "white",
            "ticks": ""
           },
           "bgcolor": "#E5ECF6",
           "radialaxis": {
            "gridcolor": "white",
            "linecolor": "white",
            "ticks": ""
           }
          },
          "scene": {
           "xaxis": {
            "backgroundcolor": "#E5ECF6",
            "gridcolor": "white",
            "gridwidth": 2,
            "linecolor": "white",
            "showbackground": true,
            "ticks": "",
            "zerolinecolor": "white"
           },
           "yaxis": {
            "backgroundcolor": "#E5ECF6",
            "gridcolor": "white",
            "gridwidth": 2,
            "linecolor": "white",
            "showbackground": true,
            "ticks": "",
            "zerolinecolor": "white"
           },
           "zaxis": {
            "backgroundcolor": "#E5ECF6",
            "gridcolor": "white",
            "gridwidth": 2,
            "linecolor": "white",
            "showbackground": true,
            "ticks": "",
            "zerolinecolor": "white"
           }
          },
          "shapedefaults": {
           "line": {
            "color": "#2a3f5f"
           }
          },
          "ternary": {
           "aaxis": {
            "gridcolor": "white",
            "linecolor": "white",
            "ticks": ""
           },
           "baxis": {
            "gridcolor": "white",
            "linecolor": "white",
            "ticks": ""
           },
           "bgcolor": "#E5ECF6",
           "caxis": {
            "gridcolor": "white",
            "linecolor": "white",
            "ticks": ""
           }
          },
          "title": {
           "x": 0.05
          },
          "xaxis": {
           "automargin": true,
           "gridcolor": "white",
           "linecolor": "white",
           "ticks": "",
           "title": {
            "standoff": 15
           },
           "zerolinecolor": "white",
           "zerolinewidth": 2
          },
          "yaxis": {
           "automargin": true,
           "gridcolor": "white",
           "linecolor": "white",
           "ticks": "",
           "title": {
            "standoff": 15
           },
           "zerolinecolor": "white",
           "zerolinewidth": 2
          }
         }
        },
        "title": {
         "text": "Average Rating of Movie per Year"
        },
        "xaxis": {
         "anchor": "y",
         "domain": [
          0,
          1
         ],
         "title": {
          "text": "Release Year"
         }
        },
        "yaxis": {
         "anchor": "x",
         "domain": [
          0,
          1
         ],
         "title": {
          "text": "Average Rating"
         }
        }
       }
      }
     },
     "metadata": {},
     "output_type": "display_data"
    }
   ],
   "source": [
    "#find average rating of per year and include how many data in each year\n",
    "id5_year = id5.groupby('releaseYear')['rating'].agg(['mean', 'count'])\n",
    "#reset index of id5_year\n",
    "id5_year = id5_year.reset_index()\n",
    "#make bubble chart of id5_year\n",
    "fig = px.scatter(id5_year, x='releaseYear', y='mean', size='count', color='count', hover_name='releaseYear', size_max=60, trendline=\"lowess\",trendline_options=dict(frac=0.1), trendline_color_override=\"red\")\n",
    "#title of the chart\n",
    "fig.update_layout(title_text='Average Rating of Movie per Year')\n",
    "#x axis name  \n",
    "fig.update_xaxes(title_text='Release Year')\n",
    "#y axis name\n",
    "fig.update_yaxes(title_text='Average Rating')\n",
    "#remove background\n",
    "fig.update_layout(plot_bgcolor='rgba(0,0,0,0)')\n",
    "fig.show()\n"
   ]
  },
  {
   "attachments": {},
   "cell_type": "markdown",
   "metadata": {},
   "source": [
    "On the Movies, gradually decreasing but after 2020, it is increasing again."
   ]
  },
  {
   "cell_type": "code",
   "execution_count": 19,
   "metadata": {},
   "outputs": [
    {
     "data": {
      "text/html": [
       "<div>\n",
       "<style scoped>\n",
       "    .dataframe tbody tr th:only-of-type {\n",
       "        vertical-align: middle;\n",
       "    }\n",
       "\n",
       "    .dataframe tbody tr th {\n",
       "        vertical-align: top;\n",
       "    }\n",
       "\n",
       "    .dataframe thead th {\n",
       "        text-align: right;\n",
       "    }\n",
       "</style>\n",
       "<table border=\"1\" class=\"dataframe\">\n",
       "  <thead>\n",
       "    <tr style=\"text-align: right;\">\n",
       "      <th></th>\n",
       "      <th>dataId</th>\n",
       "      <th>genre</th>\n",
       "      <th>contentType</th>\n",
       "      <th>title</th>\n",
       "      <th>length</th>\n",
       "      <th>releaseYear</th>\n",
       "      <th>endYear</th>\n",
       "      <th>votes</th>\n",
       "      <th>rating</th>\n",
       "      <th>gross</th>\n",
       "      <th>certificate</th>\n",
       "      <th>description</th>\n",
       "      <th>region</th>\n",
       "    </tr>\n",
       "  </thead>\n",
       "  <tbody>\n",
       "    <tr>\n",
       "      <th>113688</th>\n",
       "      <td>58539</td>\n",
       "      <td>Drama</td>\n",
       "      <td>tvSeries</td>\n",
       "      <td>Orgoglio</td>\n",
       "      <td>100</td>\n",
       "      <td>2004</td>\n",
       "      <td>2006</td>\n",
       "      <td>104</td>\n",
       "      <td>7.4</td>\n",
       "      <td>-1</td>\n",
       "      <td>Not Rated</td>\n",
       "      <td>1912. The dramatic love story between Anna Obr...</td>\n",
       "      <td>Italy</td>\n",
       "    </tr>\n",
       "    <tr>\n",
       "      <th>113692</th>\n",
       "      <td>58541</td>\n",
       "      <td>Animation</td>\n",
       "      <td>tvSeries</td>\n",
       "      <td>Willa's Wild Life</td>\n",
       "      <td>-1</td>\n",
       "      <td>2008</td>\n",
       "      <td>2011</td>\n",
       "      <td>104</td>\n",
       "      <td>7.9</td>\n",
       "      <td>-1</td>\n",
       "      <td>TV-Y7</td>\n",
       "      <td>A young girl's backyard is home to a variety o...</td>\n",
       "      <td>Canada</td>\n",
       "    </tr>\n",
       "    <tr>\n",
       "      <th>113701</th>\n",
       "      <td>58545</td>\n",
       "      <td>Animation</td>\n",
       "      <td>tvSeries</td>\n",
       "      <td>Super Chicken</td>\n",
       "      <td>-1</td>\n",
       "      <td>1967</td>\n",
       "      <td>1969</td>\n",
       "      <td>104</td>\n",
       "      <td>8.1</td>\n",
       "      <td>-1</td>\n",
       "      <td>Not Rated</td>\n",
       "      <td>Super Chicken is an animated cartoon segment t...</td>\n",
       "      <td>United States</td>\n",
       "    </tr>\n",
       "    <tr>\n",
       "      <th>113705</th>\n",
       "      <td>58547</td>\n",
       "      <td>Action</td>\n",
       "      <td>tvSeries</td>\n",
       "      <td>A Divisão</td>\n",
       "      <td>40</td>\n",
       "      <td>2019</td>\n",
       "      <td>2023</td>\n",
       "      <td>104</td>\n",
       "      <td>8.0</td>\n",
       "      <td>-1</td>\n",
       "      <td>Not Rated</td>\n",
       "      <td>In 1997, Rio de Janeiro was shaken by a wave o...</td>\n",
       "      <td>Brazil</td>\n",
       "    </tr>\n",
       "    <tr>\n",
       "      <th>113709</th>\n",
       "      <td>58549</td>\n",
       "      <td>Drama</td>\n",
       "      <td>tvSeries</td>\n",
       "      <td>Ki Kore Bolbo Tomay</td>\n",
       "      <td>22</td>\n",
       "      <td>2019</td>\n",
       "      <td>2021</td>\n",
       "      <td>104</td>\n",
       "      <td>7.8</td>\n",
       "      <td>-1</td>\n",
       "      <td>Not Rated</td>\n",
       "      <td>Ki Kore Bolbo Tomay is a Bengali drama series ...</td>\n",
       "      <td>India</td>\n",
       "    </tr>\n",
       "    <tr>\n",
       "      <th>...</th>\n",
       "      <td>...</td>\n",
       "      <td>...</td>\n",
       "      <td>...</td>\n",
       "      <td>...</td>\n",
       "      <td>...</td>\n",
       "      <td>...</td>\n",
       "      <td>...</td>\n",
       "      <td>...</td>\n",
       "      <td>...</td>\n",
       "      <td>...</td>\n",
       "      <td>...</td>\n",
       "      <td>...</td>\n",
       "      <td>...</td>\n",
       "    </tr>\n",
       "    <tr>\n",
       "      <th>279446</th>\n",
       "      <td>494</td>\n",
       "      <td>Comedy</td>\n",
       "      <td>tvSeries</td>\n",
       "      <td>My Name Is Earl</td>\n",
       "      <td>22</td>\n",
       "      <td>2005</td>\n",
       "      <td>2009</td>\n",
       "      <td>105347</td>\n",
       "      <td>7.8</td>\n",
       "      <td>-1</td>\n",
       "      <td>TV-14</td>\n",
       "      <td>A ne'er do well wins $100,000 in the lottery a...</td>\n",
       "      <td>United States</td>\n",
       "    </tr>\n",
       "    <tr>\n",
       "      <th>279450</th>\n",
       "      <td>496</td>\n",
       "      <td>Action</td>\n",
       "      <td>tvSeries</td>\n",
       "      <td>Titans</td>\n",
       "      <td>45</td>\n",
       "      <td>2018</td>\n",
       "      <td>2023</td>\n",
       "      <td>104123</td>\n",
       "      <td>7.5</td>\n",
       "      <td>-1</td>\n",
       "      <td>TV-MA</td>\n",
       "      <td>A team of young superheroes combat evil and ot...</td>\n",
       "      <td>United States</td>\n",
       "    </tr>\n",
       "    <tr>\n",
       "      <th>279453</th>\n",
       "      <td>497</td>\n",
       "      <td>Drama</td>\n",
       "      <td>tvSeries</td>\n",
       "      <td>The Man in the High Castle</td>\n",
       "      <td>60</td>\n",
       "      <td>2015</td>\n",
       "      <td>2019</td>\n",
       "      <td>103828</td>\n",
       "      <td>7.9</td>\n",
       "      <td>-1</td>\n",
       "      <td>TV-MA</td>\n",
       "      <td>In a dystopian America dominated by Nazi Germa...</td>\n",
       "      <td>United States</td>\n",
       "    </tr>\n",
       "    <tr>\n",
       "      <th>279462</th>\n",
       "      <td>498</td>\n",
       "      <td>Action</td>\n",
       "      <td>tvSeries</td>\n",
       "      <td>Justified</td>\n",
       "      <td>44</td>\n",
       "      <td>2010</td>\n",
       "      <td>2015</td>\n",
       "      <td>103427</td>\n",
       "      <td>8.6</td>\n",
       "      <td>-1</td>\n",
       "      <td>TV-MA</td>\n",
       "      <td>U.S. Marshal Raylan Givens is reassigned from ...</td>\n",
       "      <td>United States</td>\n",
       "    </tr>\n",
       "    <tr>\n",
       "      <th>279465</th>\n",
       "      <td>499</td>\n",
       "      <td>Comedy</td>\n",
       "      <td>tvSeries</td>\n",
       "      <td>Misfits</td>\n",
       "      <td>60</td>\n",
       "      <td>2009</td>\n",
       "      <td>2013</td>\n",
       "      <td>103121</td>\n",
       "      <td>8.2</td>\n",
       "      <td>-1</td>\n",
       "      <td>TV-MA</td>\n",
       "      <td>A group of young offenders doing community ser...</td>\n",
       "      <td>United Kingdom</td>\n",
       "    </tr>\n",
       "  </tbody>\n",
       "</table>\n",
       "<p>10269 rows × 13 columns</p>\n",
       "</div>"
      ],
      "text/plain": [
       "        dataId      genre contentType                       title length  \\\n",
       "113688   58539      Drama    tvSeries                    Orgoglio    100   \n",
       "113692   58541  Animation    tvSeries           Willa's Wild Life     -1   \n",
       "113701   58545  Animation    tvSeries               Super Chicken     -1   \n",
       "113705   58547     Action    tvSeries                   A Divisão     40   \n",
       "113709   58549      Drama    tvSeries         Ki Kore Bolbo Tomay     22   \n",
       "...        ...        ...         ...                         ...    ...   \n",
       "279446     494     Comedy    tvSeries             My Name Is Earl     22   \n",
       "279450     496     Action    tvSeries                      Titans     45   \n",
       "279453     497      Drama    tvSeries  The Man in the High Castle     60   \n",
       "279462     498     Action    tvSeries                   Justified     44   \n",
       "279465     499     Comedy    tvSeries                     Misfits     60   \n",
       "\n",
       "        releaseYear  endYear   votes  rating  gross certificate  \\\n",
       "113688         2004     2006     104     7.4     -1   Not Rated   \n",
       "113692         2008     2011     104     7.9     -1       TV-Y7   \n",
       "113701         1967     1969     104     8.1     -1   Not Rated   \n",
       "113705         2019     2023     104     8.0     -1   Not Rated   \n",
       "113709         2019     2021     104     7.8     -1   Not Rated   \n",
       "...             ...      ...     ...     ...    ...         ...   \n",
       "279446         2005     2009  105347     7.8     -1       TV-14   \n",
       "279450         2018     2023  104123     7.5     -1       TV-MA   \n",
       "279453         2015     2019  103828     7.9     -1       TV-MA   \n",
       "279462         2010     2015  103427     8.6     -1       TV-MA   \n",
       "279465         2009     2013  103121     8.2     -1       TV-MA   \n",
       "\n",
       "                                              description          region  \n",
       "113688  1912. The dramatic love story between Anna Obr...           Italy  \n",
       "113692  A young girl's backyard is home to a variety o...          Canada  \n",
       "113701  Super Chicken is an animated cartoon segment t...   United States  \n",
       "113705  In 1997, Rio de Janeiro was shaken by a wave o...          Brazil  \n",
       "113709  Ki Kore Bolbo Tomay is a Bengali drama series ...           India  \n",
       "...                                                   ...             ...  \n",
       "279446  A ne'er do well wins $100,000 in the lottery a...   United States  \n",
       "279450  A team of young superheroes combat evil and ot...   United States  \n",
       "279453  In a dystopian America dominated by Nazi Germa...   United States  \n",
       "279462  U.S. Marshal Raylan Givens is reassigned from ...   United States  \n",
       "279465  A group of young offenders doing community ser...  United Kingdom  \n",
       "\n",
       "[10269 rows x 13 columns]"
      ]
     },
     "execution_count": 19,
     "metadata": {},
     "output_type": "execute_result"
    }
   ],
   "source": [
    "#find all release year which is not -1\n",
    "id1 = id[id['releaseYear'] != -1]\n",
    "#gind all end year which is not -1\n",
    "id2 = id1[id1['endYear'] != -1]\n",
    "#only tvseries\n",
    "id3 = id2[id2['contentType'] == 'tvSeries']\n",
    "id3"
   ]
  },
  {
   "cell_type": "code",
   "execution_count": 21,
   "metadata": {},
   "outputs": [
    {
     "data": {
      "application/vnd.plotly.v1+json": {
       "config": {
        "plotlyServerURL": "https://plot.ly"
       },
       "data": [
        {
         "hovertemplate": "<b>%{hovertext}</b><br><br>releaseYear=%{x}<br>mean=%{y}<br>count=%{marker.color}<extra></extra>",
         "hovertext": [
          1940,
          1947,
          1948,
          1949,
          1950,
          1951,
          1952,
          1953,
          1954,
          1955,
          1956,
          1957,
          1958,
          1959,
          1960,
          1961,
          1962,
          1963,
          1964,
          1965,
          1966,
          1967,
          1968,
          1969,
          1970,
          1971,
          1972,
          1973,
          1974,
          1975,
          1976,
          1977,
          1978,
          1979,
          1980,
          1981,
          1982,
          1983,
          1984,
          1985,
          1986,
          1987,
          1988,
          1989,
          1990,
          1991,
          1992,
          1993,
          1994,
          1995,
          1996,
          1997,
          1998,
          1999,
          2000,
          2001,
          2002,
          2003,
          2004,
          2005,
          2006,
          2007,
          2008,
          2009,
          2010,
          2011,
          2012,
          2013,
          2014,
          2015,
          2016,
          2017,
          2018,
          2019,
          2020,
          2021,
          2022
         ],
         "legendgroup": "",
         "marker": {
          "color": [
           2,
           3,
           4,
           2,
           21,
           16,
           22,
           13,
           17,
           35,
           19,
           28,
           29,
           35,
           27,
           22,
           31,
           31,
           35,
           44,
           38,
           47,
           38,
           57,
           32,
           50,
           67,
           48,
           58,
           57,
           69,
           49,
           57,
           62,
           61,
           67,
           65,
           98,
           82,
           91,
           98,
           110,
           90,
           125,
           108,
           113,
           112,
           165,
           150,
           164,
           174,
           205,
           216,
           192,
           213,
           224,
           228,
           245,
           264,
           292,
           298,
           327,
           295,
           288,
           304,
           358,
           328,
           375,
           329,
           377,
           410,
           391,
           358,
           317,
           199,
           158,
           40
          ],
          "coloraxis": "coloraxis",
          "size": [
           2,
           3,
           4,
           2,
           21,
           16,
           22,
           13,
           17,
           35,
           19,
           28,
           29,
           35,
           27,
           22,
           31,
           31,
           35,
           44,
           38,
           47,
           38,
           57,
           32,
           50,
           67,
           48,
           58,
           57,
           69,
           49,
           57,
           62,
           61,
           67,
           65,
           98,
           82,
           91,
           98,
           110,
           90,
           125,
           108,
           113,
           112,
           165,
           150,
           164,
           174,
           205,
           216,
           192,
           213,
           224,
           228,
           245,
           264,
           292,
           298,
           327,
           295,
           288,
           304,
           358,
           328,
           375,
           329,
           377,
           410,
           391,
           358,
           317,
           199,
           158,
           40
          ],
          "sizemode": "area",
          "sizeref": 0.11388888888888889,
          "symbol": "circle"
         },
         "mode": "markers",
         "name": "",
         "orientation": "v",
         "showlegend": false,
         "type": "scatter",
         "x": [
          1940,
          1947,
          1948,
          1949,
          1950,
          1951,
          1952,
          1953,
          1954,
          1955,
          1956,
          1957,
          1958,
          1959,
          1960,
          1961,
          1962,
          1963,
          1964,
          1965,
          1966,
          1967,
          1968,
          1969,
          1970,
          1971,
          1972,
          1973,
          1974,
          1975,
          1976,
          1977,
          1978,
          1979,
          1980,
          1981,
          1982,
          1983,
          1984,
          1985,
          1986,
          1987,
          1988,
          1989,
          1990,
          1991,
          1992,
          1993,
          1994,
          1995,
          1996,
          1997,
          1998,
          1999,
          2000,
          2001,
          2002,
          2003,
          2004,
          2005,
          2006,
          2007,
          2008,
          2009,
          2010,
          2011,
          2012,
          2013,
          2014,
          2015,
          2016,
          2017,
          2018,
          2019,
          2020,
          2021,
          2022
         ],
         "xaxis": "x",
         "y": [
          8,
          7.866666666666667,
          7.775,
          7.5,
          7.495238095238095,
          7.75,
          7.709090909090909,
          7.884615384615385,
          7.4941176470588236,
          7.562857142857142,
          7.442105263157895,
          7.7,
          7.596551724137932,
          7.539999999999999,
          7.862962962962963,
          7.140909090909091,
          7.509677419354839,
          7.403225806451613,
          7.211428571428572,
          7.331818181818182,
          7.371052631578948,
          7.312765957446809,
          7.2894736842105265,
          7.424561403508772,
          7.290625,
          7.436,
          7.486567164179105,
          7.347916666666666,
          7.387931034482759,
          7.310526315789473,
          7.279710144927536,
          7.308163265306123,
          7.470175438596492,
          7.058064516129033,
          7.342622950819671,
          7.2746268656716415,
          7.2215384615384615,
          7.2785714285714285,
          7.20609756097561,
          7.148351648351649,
          7.337755102040816,
          7.382727272727273,
          7.384444444444445,
          7.2264,
          7.148148148148148,
          7.045132743362832,
          7.015178571428572,
          7.204242424242424,
          7.077333333333333,
          7.061585365853658,
          6.914942528735632,
          6.9087804878048775,
          6.941666666666667,
          6.9015625,
          6.904225352112675,
          6.908482142857143,
          6.841666666666667,
          6.840816326530613,
          6.803787878787879,
          6.840753424657534,
          6.6748322147651,
          6.699694189602447,
          6.733220338983051,
          6.691319444444444,
          6.922697368421052,
          6.746927374301676,
          6.817682926829268,
          6.966666666666667,
          6.919756838905775,
          7.004244031830239,
          7.0634146341463415,
          6.936828644501279,
          6.992737430167598,
          6.969716088328076,
          6.7974874371859295,
          6.75,
          7.1674999999999995
         ],
         "yaxis": "y"
        },
        {
         "hovertemplate": "<b>LOWESS trendline</b><br><br>releaseYear=%{x}<br>mean=%{y} <b>(trend)</b><extra></extra>",
         "legendgroup": "",
         "line": {
          "color": "red"
         },
         "marker": {
          "symbol": "circle"
         },
         "mode": "lines",
         "name": "",
         "showlegend": false,
         "type": "scatter",
         "x": [
          1940,
          1947,
          1948,
          1949,
          1950,
          1951,
          1952,
          1953,
          1954,
          1955,
          1956,
          1957,
          1958,
          1959,
          1960,
          1961,
          1962,
          1963,
          1964,
          1965,
          1966,
          1967,
          1968,
          1969,
          1970,
          1971,
          1972,
          1973,
          1974,
          1975,
          1976,
          1977,
          1978,
          1979,
          1980,
          1981,
          1982,
          1983,
          1984,
          1985,
          1986,
          1987,
          1988,
          1989,
          1990,
          1991,
          1992,
          1993,
          1994,
          1995,
          1996,
          1997,
          1998,
          1999,
          2000,
          2001,
          2002,
          2003,
          2004,
          2005,
          2006,
          2007,
          2008,
          2009,
          2010,
          2011,
          2012,
          2013,
          2014,
          2015,
          2016,
          2017,
          2018,
          2019,
          2020,
          2021,
          2022
         ],
         "xaxis": "x",
         "y": [
          8.004551629653045,
          7.8375922766636155,
          7.786193923395549,
          7.742430966810896,
          7.688986994489905,
          7.667929375630955,
          7.6733634243860305,
          7.622424367069709,
          7.564458356888584,
          7.525739013696344,
          7.561819758272787,
          7.573042716623663,
          7.584206563714502,
          7.5356909872241475,
          7.535943196168352,
          7.5071726398846,
          7.5166861719842295,
          7.407874438180123,
          7.361387356422549,
          7.332999845193915,
          7.328327311521681,
          7.333163115858445,
          7.337004726938402,
          7.347319405903463,
          7.3848841609241465,
          7.404420539006828,
          7.408815999360115,
          7.397208837440421,
          7.356507961124721,
          7.326032583137158,
          7.3198252254371425,
          7.353163121832597,
          7.365323332188351,
          7.363496194803151,
          7.341731053355173,
          7.287362449769154,
          7.260221509017458,
          7.233013963361443,
          7.2305143616384955,
          7.257684286368037,
          7.299595726281321,
          7.335619644088945,
          7.312053721507629,
          7.242932788279267,
          7.150868601551109,
          7.091949287917909,
          7.081974523957538,
          7.079854638096486,
          7.076078408136579,
          7.0262098978314835,
          6.971034780430985,
          6.934017093749671,
          6.916536804515,
          6.913868964942815,
          6.902038386073792,
          6.8827072107754805,
          6.861008924989285,
          6.837700591948655,
          6.813059852420672,
          6.7739380199815065,
          6.743196779005445,
          6.715739504165428,
          6.718601061055757,
          6.746612485531293,
          6.763057831117228,
          6.802503596857933,
          6.845610900596649,
          6.895980463214402,
          6.955619432014491,
          6.986026122697885,
          6.992854426117912,
          6.992933715052305,
          6.9620467369508265,
          6.909492632197164,
          6.834709896388891,
          6.7521534246366315,
          6.665048291486927
         ],
         "yaxis": "y"
        }
       ],
       "layout": {
        "coloraxis": {
         "colorbar": {
          "title": {
           "text": "count"
          }
         },
         "colorscale": [
          [
           0,
           "#0d0887"
          ],
          [
           0.1111111111111111,
           "#46039f"
          ],
          [
           0.2222222222222222,
           "#7201a8"
          ],
          [
           0.3333333333333333,
           "#9c179e"
          ],
          [
           0.4444444444444444,
           "#bd3786"
          ],
          [
           0.5555555555555556,
           "#d8576b"
          ],
          [
           0.6666666666666666,
           "#ed7953"
          ],
          [
           0.7777777777777778,
           "#fb9f3a"
          ],
          [
           0.8888888888888888,
           "#fdca26"
          ],
          [
           1,
           "#f0f921"
          ]
         ]
        },
        "legend": {
         "itemsizing": "constant",
         "tracegroupgap": 0
        },
        "margin": {
         "t": 60
        },
        "plot_bgcolor": "rgba(0,0,0,0)",
        "template": {
         "data": {
          "bar": [
           {
            "error_x": {
             "color": "#2a3f5f"
            },
            "error_y": {
             "color": "#2a3f5f"
            },
            "marker": {
             "line": {
              "color": "#E5ECF6",
              "width": 0.5
             },
             "pattern": {
              "fillmode": "overlay",
              "size": 10,
              "solidity": 0.2
             }
            },
            "type": "bar"
           }
          ],
          "barpolar": [
           {
            "marker": {
             "line": {
              "color": "#E5ECF6",
              "width": 0.5
             },
             "pattern": {
              "fillmode": "overlay",
              "size": 10,
              "solidity": 0.2
             }
            },
            "type": "barpolar"
           }
          ],
          "carpet": [
           {
            "aaxis": {
             "endlinecolor": "#2a3f5f",
             "gridcolor": "white",
             "linecolor": "white",
             "minorgridcolor": "white",
             "startlinecolor": "#2a3f5f"
            },
            "baxis": {
             "endlinecolor": "#2a3f5f",
             "gridcolor": "white",
             "linecolor": "white",
             "minorgridcolor": "white",
             "startlinecolor": "#2a3f5f"
            },
            "type": "carpet"
           }
          ],
          "choropleth": [
           {
            "colorbar": {
             "outlinewidth": 0,
             "ticks": ""
            },
            "type": "choropleth"
           }
          ],
          "contour": [
           {
            "colorbar": {
             "outlinewidth": 0,
             "ticks": ""
            },
            "colorscale": [
             [
              0,
              "#0d0887"
             ],
             [
              0.1111111111111111,
              "#46039f"
             ],
             [
              0.2222222222222222,
              "#7201a8"
             ],
             [
              0.3333333333333333,
              "#9c179e"
             ],
             [
              0.4444444444444444,
              "#bd3786"
             ],
             [
              0.5555555555555556,
              "#d8576b"
             ],
             [
              0.6666666666666666,
              "#ed7953"
             ],
             [
              0.7777777777777778,
              "#fb9f3a"
             ],
             [
              0.8888888888888888,
              "#fdca26"
             ],
             [
              1,
              "#f0f921"
             ]
            ],
            "type": "contour"
           }
          ],
          "contourcarpet": [
           {
            "colorbar": {
             "outlinewidth": 0,
             "ticks": ""
            },
            "type": "contourcarpet"
           }
          ],
          "heatmap": [
           {
            "colorbar": {
             "outlinewidth": 0,
             "ticks": ""
            },
            "colorscale": [
             [
              0,
              "#0d0887"
             ],
             [
              0.1111111111111111,
              "#46039f"
             ],
             [
              0.2222222222222222,
              "#7201a8"
             ],
             [
              0.3333333333333333,
              "#9c179e"
             ],
             [
              0.4444444444444444,
              "#bd3786"
             ],
             [
              0.5555555555555556,
              "#d8576b"
             ],
             [
              0.6666666666666666,
              "#ed7953"
             ],
             [
              0.7777777777777778,
              "#fb9f3a"
             ],
             [
              0.8888888888888888,
              "#fdca26"
             ],
             [
              1,
              "#f0f921"
             ]
            ],
            "type": "heatmap"
           }
          ],
          "heatmapgl": [
           {
            "colorbar": {
             "outlinewidth": 0,
             "ticks": ""
            },
            "colorscale": [
             [
              0,
              "#0d0887"
             ],
             [
              0.1111111111111111,
              "#46039f"
             ],
             [
              0.2222222222222222,
              "#7201a8"
             ],
             [
              0.3333333333333333,
              "#9c179e"
             ],
             [
              0.4444444444444444,
              "#bd3786"
             ],
             [
              0.5555555555555556,
              "#d8576b"
             ],
             [
              0.6666666666666666,
              "#ed7953"
             ],
             [
              0.7777777777777778,
              "#fb9f3a"
             ],
             [
              0.8888888888888888,
              "#fdca26"
             ],
             [
              1,
              "#f0f921"
             ]
            ],
            "type": "heatmapgl"
           }
          ],
          "histogram": [
           {
            "marker": {
             "pattern": {
              "fillmode": "overlay",
              "size": 10,
              "solidity": 0.2
             }
            },
            "type": "histogram"
           }
          ],
          "histogram2d": [
           {
            "colorbar": {
             "outlinewidth": 0,
             "ticks": ""
            },
            "colorscale": [
             [
              0,
              "#0d0887"
             ],
             [
              0.1111111111111111,
              "#46039f"
             ],
             [
              0.2222222222222222,
              "#7201a8"
             ],
             [
              0.3333333333333333,
              "#9c179e"
             ],
             [
              0.4444444444444444,
              "#bd3786"
             ],
             [
              0.5555555555555556,
              "#d8576b"
             ],
             [
              0.6666666666666666,
              "#ed7953"
             ],
             [
              0.7777777777777778,
              "#fb9f3a"
             ],
             [
              0.8888888888888888,
              "#fdca26"
             ],
             [
              1,
              "#f0f921"
             ]
            ],
            "type": "histogram2d"
           }
          ],
          "histogram2dcontour": [
           {
            "colorbar": {
             "outlinewidth": 0,
             "ticks": ""
            },
            "colorscale": [
             [
              0,
              "#0d0887"
             ],
             [
              0.1111111111111111,
              "#46039f"
             ],
             [
              0.2222222222222222,
              "#7201a8"
             ],
             [
              0.3333333333333333,
              "#9c179e"
             ],
             [
              0.4444444444444444,
              "#bd3786"
             ],
             [
              0.5555555555555556,
              "#d8576b"
             ],
             [
              0.6666666666666666,
              "#ed7953"
             ],
             [
              0.7777777777777778,
              "#fb9f3a"
             ],
             [
              0.8888888888888888,
              "#fdca26"
             ],
             [
              1,
              "#f0f921"
             ]
            ],
            "type": "histogram2dcontour"
           }
          ],
          "mesh3d": [
           {
            "colorbar": {
             "outlinewidth": 0,
             "ticks": ""
            },
            "type": "mesh3d"
           }
          ],
          "parcoords": [
           {
            "line": {
             "colorbar": {
              "outlinewidth": 0,
              "ticks": ""
             }
            },
            "type": "parcoords"
           }
          ],
          "pie": [
           {
            "automargin": true,
            "type": "pie"
           }
          ],
          "scatter": [
           {
            "fillpattern": {
             "fillmode": "overlay",
             "size": 10,
             "solidity": 0.2
            },
            "type": "scatter"
           }
          ],
          "scatter3d": [
           {
            "line": {
             "colorbar": {
              "outlinewidth": 0,
              "ticks": ""
             }
            },
            "marker": {
             "colorbar": {
              "outlinewidth": 0,
              "ticks": ""
             }
            },
            "type": "scatter3d"
           }
          ],
          "scattercarpet": [
           {
            "marker": {
             "colorbar": {
              "outlinewidth": 0,
              "ticks": ""
             }
            },
            "type": "scattercarpet"
           }
          ],
          "scattergeo": [
           {
            "marker": {
             "colorbar": {
              "outlinewidth": 0,
              "ticks": ""
             }
            },
            "type": "scattergeo"
           }
          ],
          "scattergl": [
           {
            "marker": {
             "colorbar": {
              "outlinewidth": 0,
              "ticks": ""
             }
            },
            "type": "scattergl"
           }
          ],
          "scattermapbox": [
           {
            "marker": {
             "colorbar": {
              "outlinewidth": 0,
              "ticks": ""
             }
            },
            "type": "scattermapbox"
           }
          ],
          "scatterpolar": [
           {
            "marker": {
             "colorbar": {
              "outlinewidth": 0,
              "ticks": ""
             }
            },
            "type": "scatterpolar"
           }
          ],
          "scatterpolargl": [
           {
            "marker": {
             "colorbar": {
              "outlinewidth": 0,
              "ticks": ""
             }
            },
            "type": "scatterpolargl"
           }
          ],
          "scatterternary": [
           {
            "marker": {
             "colorbar": {
              "outlinewidth": 0,
              "ticks": ""
             }
            },
            "type": "scatterternary"
           }
          ],
          "surface": [
           {
            "colorbar": {
             "outlinewidth": 0,
             "ticks": ""
            },
            "colorscale": [
             [
              0,
              "#0d0887"
             ],
             [
              0.1111111111111111,
              "#46039f"
             ],
             [
              0.2222222222222222,
              "#7201a8"
             ],
             [
              0.3333333333333333,
              "#9c179e"
             ],
             [
              0.4444444444444444,
              "#bd3786"
             ],
             [
              0.5555555555555556,
              "#d8576b"
             ],
             [
              0.6666666666666666,
              "#ed7953"
             ],
             [
              0.7777777777777778,
              "#fb9f3a"
             ],
             [
              0.8888888888888888,
              "#fdca26"
             ],
             [
              1,
              "#f0f921"
             ]
            ],
            "type": "surface"
           }
          ],
          "table": [
           {
            "cells": {
             "fill": {
              "color": "#EBF0F8"
             },
             "line": {
              "color": "white"
             }
            },
            "header": {
             "fill": {
              "color": "#C8D4E3"
             },
             "line": {
              "color": "white"
             }
            },
            "type": "table"
           }
          ]
         },
         "layout": {
          "annotationdefaults": {
           "arrowcolor": "#2a3f5f",
           "arrowhead": 0,
           "arrowwidth": 1
          },
          "autotypenumbers": "strict",
          "coloraxis": {
           "colorbar": {
            "outlinewidth": 0,
            "ticks": ""
           }
          },
          "colorscale": {
           "diverging": [
            [
             0,
             "#8e0152"
            ],
            [
             0.1,
             "#c51b7d"
            ],
            [
             0.2,
             "#de77ae"
            ],
            [
             0.3,
             "#f1b6da"
            ],
            [
             0.4,
             "#fde0ef"
            ],
            [
             0.5,
             "#f7f7f7"
            ],
            [
             0.6,
             "#e6f5d0"
            ],
            [
             0.7,
             "#b8e186"
            ],
            [
             0.8,
             "#7fbc41"
            ],
            [
             0.9,
             "#4d9221"
            ],
            [
             1,
             "#276419"
            ]
           ],
           "sequential": [
            [
             0,
             "#0d0887"
            ],
            [
             0.1111111111111111,
             "#46039f"
            ],
            [
             0.2222222222222222,
             "#7201a8"
            ],
            [
             0.3333333333333333,
             "#9c179e"
            ],
            [
             0.4444444444444444,
             "#bd3786"
            ],
            [
             0.5555555555555556,
             "#d8576b"
            ],
            [
             0.6666666666666666,
             "#ed7953"
            ],
            [
             0.7777777777777778,
             "#fb9f3a"
            ],
            [
             0.8888888888888888,
             "#fdca26"
            ],
            [
             1,
             "#f0f921"
            ]
           ],
           "sequentialminus": [
            [
             0,
             "#0d0887"
            ],
            [
             0.1111111111111111,
             "#46039f"
            ],
            [
             0.2222222222222222,
             "#7201a8"
            ],
            [
             0.3333333333333333,
             "#9c179e"
            ],
            [
             0.4444444444444444,
             "#bd3786"
            ],
            [
             0.5555555555555556,
             "#d8576b"
            ],
            [
             0.6666666666666666,
             "#ed7953"
            ],
            [
             0.7777777777777778,
             "#fb9f3a"
            ],
            [
             0.8888888888888888,
             "#fdca26"
            ],
            [
             1,
             "#f0f921"
            ]
           ]
          },
          "colorway": [
           "#636efa",
           "#EF553B",
           "#00cc96",
           "#ab63fa",
           "#FFA15A",
           "#19d3f3",
           "#FF6692",
           "#B6E880",
           "#FF97FF",
           "#FECB52"
          ],
          "font": {
           "color": "#2a3f5f"
          },
          "geo": {
           "bgcolor": "white",
           "lakecolor": "white",
           "landcolor": "#E5ECF6",
           "showlakes": true,
           "showland": true,
           "subunitcolor": "white"
          },
          "hoverlabel": {
           "align": "left"
          },
          "hovermode": "closest",
          "mapbox": {
           "style": "light"
          },
          "paper_bgcolor": "white",
          "plot_bgcolor": "#E5ECF6",
          "polar": {
           "angularaxis": {
            "gridcolor": "white",
            "linecolor": "white",
            "ticks": ""
           },
           "bgcolor": "#E5ECF6",
           "radialaxis": {
            "gridcolor": "white",
            "linecolor": "white",
            "ticks": ""
           }
          },
          "scene": {
           "xaxis": {
            "backgroundcolor": "#E5ECF6",
            "gridcolor": "white",
            "gridwidth": 2,
            "linecolor": "white",
            "showbackground": true,
            "ticks": "",
            "zerolinecolor": "white"
           },
           "yaxis": {
            "backgroundcolor": "#E5ECF6",
            "gridcolor": "white",
            "gridwidth": 2,
            "linecolor": "white",
            "showbackground": true,
            "ticks": "",
            "zerolinecolor": "white"
           },
           "zaxis": {
            "backgroundcolor": "#E5ECF6",
            "gridcolor": "white",
            "gridwidth": 2,
            "linecolor": "white",
            "showbackground": true,
            "ticks": "",
            "zerolinecolor": "white"
           }
          },
          "shapedefaults": {
           "line": {
            "color": "#2a3f5f"
           }
          },
          "ternary": {
           "aaxis": {
            "gridcolor": "white",
            "linecolor": "white",
            "ticks": ""
           },
           "baxis": {
            "gridcolor": "white",
            "linecolor": "white",
            "ticks": ""
           },
           "bgcolor": "#E5ECF6",
           "caxis": {
            "gridcolor": "white",
            "linecolor": "white",
            "ticks": ""
           }
          },
          "title": {
           "x": 0.05
          },
          "xaxis": {
           "automargin": true,
           "gridcolor": "white",
           "linecolor": "white",
           "ticks": "",
           "title": {
            "standoff": 15
           },
           "zerolinecolor": "white",
           "zerolinewidth": 2
          },
          "yaxis": {
           "automargin": true,
           "gridcolor": "white",
           "linecolor": "white",
           "ticks": "",
           "title": {
            "standoff": 15
           },
           "zerolinecolor": "white",
           "zerolinewidth": 2
          }
         }
        },
        "title": {
         "text": "Average Rating of TV Show per Year"
        },
        "xaxis": {
         "anchor": "y",
         "domain": [
          0,
          1
         ],
         "title": {
          "text": "Release Year"
         }
        },
        "yaxis": {
         "anchor": "x",
         "domain": [
          0,
          1
         ],
         "title": {
          "text": "Average Rating"
         }
        }
       }
      }
     },
     "metadata": {},
     "output_type": "display_data"
    }
   ],
   "source": [
    "#find average rating of per year and include how many data in each year\n",
    "id3_year = id3.groupby('releaseYear')['rating'].agg(['mean', 'count'])\n",
    "#reset index of id3_year\n",
    "id3_year = id3_year.reset_index()\n",
    "#make bubble chart of id3_year\n",
    "fig = px.scatter(id3_year, x='releaseYear', y='mean', size='count', color='count', hover_name='releaseYear', size_max=60, trendline=\"lowess\",trendline_options=dict(frac=0.1), trendline_color_override=\"red\")\n",
    "#title of the chart\n",
    "fig.update_layout(title_text='Average Rating of TV Show per Year')\n",
    "#x axis name\n",
    "fig.update_xaxes(title_text='Release Year')\n",
    "#y axis name\n",
    "fig.update_yaxes(title_text='Average Rating')\n",
    "#remove background\n",
    "fig.update_layout(plot_bgcolor='rgba(0,0,0,0)')\n",
    "fig.show()\n"
   ]
  },
  {
   "attachments": {},
   "cell_type": "markdown",
   "metadata": {},
   "source": [
    "Average rating in TV Show is gradually decreaseing.\n",
    "\n",
    "However, during 2010 to 2020, rating has been increased, but in 2021, 2022, collapsed.\n",
    "\n",
    "Maybe COVID made rating collapse."
   ]
  },
  {
   "cell_type": "code",
   "execution_count": 22,
   "metadata": {},
   "outputs": [
    {
     "data": {
      "application/vnd.plotly.v1+json": {
       "config": {
        "plotlyServerURL": "https://plot.ly"
       },
       "data": [
        {
         "hovertemplate": "<b>%{hovertext}</b><br><br>duration=%{x}<br>mean=%{y}<br>count=%{marker.color}<extra></extra>",
         "hovertext": [
          1,
          2,
          3,
          4,
          5,
          6,
          7,
          8,
          9,
          10,
          11,
          12,
          13,
          14,
          15,
          16,
          17,
          18,
          19,
          20,
          21,
          22,
          23,
          24,
          25,
          26,
          27,
          28,
          29,
          30,
          31,
          32,
          33,
          34,
          35,
          36,
          37,
          38,
          39,
          40,
          41,
          42,
          43,
          44,
          45,
          46,
          47,
          48,
          51,
          54,
          57,
          58,
          60,
          65,
          66
         ],
         "legendgroup": "",
         "marker": {
          "color": [
           3667,
           1942,
           1220,
           821,
           581,
           392,
           299,
           218,
           178,
           125,
           96,
           100,
           70,
           64,
           65,
           43,
           41,
           28,
           33,
           32,
           29,
           19,
           16,
           23,
           18,
           19,
           10,
           8,
           12,
           12,
           8,
           13,
           5,
           5,
           7,
           6,
           6,
           2,
           2,
           2,
           4,
           5,
           1,
           3,
           2,
           3,
           2,
           3,
           1,
           2,
           2,
           1,
           1,
           1,
           1
          ],
          "coloraxis": "coloraxis",
          "size": [
           3667,
           1942,
           1220,
           821,
           581,
           392,
           299,
           218,
           178,
           125,
           96,
           100,
           70,
           64,
           65,
           43,
           41,
           28,
           33,
           32,
           29,
           19,
           16,
           23,
           18,
           19,
           10,
           8,
           12,
           12,
           8,
           13,
           5,
           5,
           7,
           6,
           6,
           2,
           2,
           2,
           4,
           5,
           1,
           3,
           2,
           3,
           2,
           3,
           1,
           2,
           2,
           1,
           1,
           1,
           1
          ],
          "sizemode": "area",
          "sizeref": 1.0186111111111111,
          "symbol": "circle"
         },
         "mode": "markers",
         "name": "",
         "orientation": "v",
         "showlegend": false,
         "type": "scatter",
         "x": [
          1,
          2,
          3,
          4,
          5,
          6,
          7,
          8,
          9,
          10,
          11,
          12,
          13,
          14,
          15,
          16,
          17,
          18,
          19,
          20,
          21,
          22,
          23,
          24,
          25,
          26,
          27,
          28,
          29,
          30,
          31,
          32,
          33,
          34,
          35,
          36,
          37,
          38,
          39,
          40,
          41,
          42,
          43,
          44,
          45,
          46,
          47,
          48,
          51,
          54,
          57,
          58,
          60,
          65,
          66
         ],
         "xaxis": "x",
         "y": [
          6.921270793564221,
          6.926622039134912,
          7.036065573770492,
          7.06163215590743,
          7.182960413080895,
          7.2125,
          7.117056856187291,
          7.142660550458715,
          6.972471910112359,
          7.1496,
          6.770833333333333,
          6.837000000000001,
          7.067142857142857,
          6.821875,
          7.258461538461539,
          6.823255813953488,
          6.882926829268293,
          6.764285714285714,
          6.942424242424242,
          6.909375,
          6.4206896551724135,
          7.326315789473684,
          7.11875,
          6.756521739130435,
          6.35,
          7.389473684210526,
          6.93,
          7.5375,
          7.133333333333333,
          6.958333333333333,
          6.6625,
          6.523076923076923,
          7.9799999999999995,
          6.1,
          6.8999999999999995,
          7.033333333333334,
          7.466666666666666,
          6.15,
          6.15,
          7.5,
          6.8,
          7.24,
          8.4,
          6.633333333333333,
          7.4,
          7.266666666666667,
          7.6499999999999995,
          7.433333333333333,
          7.5,
          7.15,
          7.05,
          6.9,
          8.9,
          8.1,
          7
         ],
         "yaxis": "y"
        },
        {
         "hovertemplate": "<b>LOWESS trendline</b><br><br>duration=%{x}<br>mean=%{y} <b>(trend)</b><extra></extra>",
         "legendgroup": "",
         "line": {
          "color": "red"
         },
         "marker": {
          "symbol": "circle"
         },
         "mode": "lines",
         "name": "",
         "showlegend": false,
         "type": "scatter",
         "x": [
          1,
          2,
          3,
          4,
          5,
          6,
          7,
          8,
          9,
          10,
          11,
          12,
          13,
          14,
          15,
          16,
          17,
          18,
          19,
          20,
          21,
          22,
          23,
          24,
          25,
          26,
          27,
          28,
          29,
          30,
          31,
          32,
          33,
          34,
          35,
          36,
          37,
          38,
          39,
          40,
          41,
          42,
          43,
          44,
          45,
          46,
          47,
          48,
          51,
          54,
          57,
          58,
          60,
          65,
          66
         ],
         "xaxis": "x",
         "y": [
          6.9061906187808,
          6.959165817758126,
          7.012070019475475,
          7.089057692869829,
          7.156701366323883,
          7.176686582101255,
          7.15162831047571,
          7.086939405021547,
          7.070506242725829,
          6.985031954566431,
          6.898694967944884,
          6.882141370736893,
          6.931998888807804,
          7.011682117163485,
          6.980356127066758,
          6.956341366874405,
          6.833253102091878,
          6.850150532962948,
          6.882819222178646,
          6.862393177645133,
          7.04902142687104,
          7.152449992242705,
          7.081196842961031,
          6.750844070458686,
          6.831633779597286,
          6.847916101759001,
          7.087041973691722,
          7.202297960016166,
          7.189028779329092,
          6.923879300993745,
          6.707436714615432,
          6.52307692307692,
          6.311538461538461,
          6.099999999999947,
          6.691733161182734,
          7.0333333333332915,
          6.591666666666667,
          6.150000000000046,
          6.149999999999997,
          6.475,
          6.800000000000059,
          7.239999999999999,
          6.9366666666666665,
          6.633333333333331,
          7.132168975554191,
          7.41062818662369,
          7.455917142522617,
          7.495809463693356,
          7.398613418773006,
          7.2194445157505225,
          7.0039360927238725,
          6.94829887336261,
          7.281727968690472,
          7.532987278785574,
          7.3286887763641335
         ],
         "yaxis": "y"
        }
       ],
       "layout": {
        "coloraxis": {
         "colorbar": {
          "title": {
           "text": "count"
          }
         },
         "colorscale": [
          [
           0,
           "#0d0887"
          ],
          [
           0.1111111111111111,
           "#46039f"
          ],
          [
           0.2222222222222222,
           "#7201a8"
          ],
          [
           0.3333333333333333,
           "#9c179e"
          ],
          [
           0.4444444444444444,
           "#bd3786"
          ],
          [
           0.5555555555555556,
           "#d8576b"
          ],
          [
           0.6666666666666666,
           "#ed7953"
          ],
          [
           0.7777777777777778,
           "#fb9f3a"
          ],
          [
           0.8888888888888888,
           "#fdca26"
          ],
          [
           1,
           "#f0f921"
          ]
         ]
        },
        "legend": {
         "itemsizing": "constant",
         "tracegroupgap": 0
        },
        "margin": {
         "t": 60
        },
        "plot_bgcolor": "rgba(0,0,0,0)",
        "template": {
         "data": {
          "bar": [
           {
            "error_x": {
             "color": "#2a3f5f"
            },
            "error_y": {
             "color": "#2a3f5f"
            },
            "marker": {
             "line": {
              "color": "#E5ECF6",
              "width": 0.5
             },
             "pattern": {
              "fillmode": "overlay",
              "size": 10,
              "solidity": 0.2
             }
            },
            "type": "bar"
           }
          ],
          "barpolar": [
           {
            "marker": {
             "line": {
              "color": "#E5ECF6",
              "width": 0.5
             },
             "pattern": {
              "fillmode": "overlay",
              "size": 10,
              "solidity": 0.2
             }
            },
            "type": "barpolar"
           }
          ],
          "carpet": [
           {
            "aaxis": {
             "endlinecolor": "#2a3f5f",
             "gridcolor": "white",
             "linecolor": "white",
             "minorgridcolor": "white",
             "startlinecolor": "#2a3f5f"
            },
            "baxis": {
             "endlinecolor": "#2a3f5f",
             "gridcolor": "white",
             "linecolor": "white",
             "minorgridcolor": "white",
             "startlinecolor": "#2a3f5f"
            },
            "type": "carpet"
           }
          ],
          "choropleth": [
           {
            "colorbar": {
             "outlinewidth": 0,
             "ticks": ""
            },
            "type": "choropleth"
           }
          ],
          "contour": [
           {
            "colorbar": {
             "outlinewidth": 0,
             "ticks": ""
            },
            "colorscale": [
             [
              0,
              "#0d0887"
             ],
             [
              0.1111111111111111,
              "#46039f"
             ],
             [
              0.2222222222222222,
              "#7201a8"
             ],
             [
              0.3333333333333333,
              "#9c179e"
             ],
             [
              0.4444444444444444,
              "#bd3786"
             ],
             [
              0.5555555555555556,
              "#d8576b"
             ],
             [
              0.6666666666666666,
              "#ed7953"
             ],
             [
              0.7777777777777778,
              "#fb9f3a"
             ],
             [
              0.8888888888888888,
              "#fdca26"
             ],
             [
              1,
              "#f0f921"
             ]
            ],
            "type": "contour"
           }
          ],
          "contourcarpet": [
           {
            "colorbar": {
             "outlinewidth": 0,
             "ticks": ""
            },
            "type": "contourcarpet"
           }
          ],
          "heatmap": [
           {
            "colorbar": {
             "outlinewidth": 0,
             "ticks": ""
            },
            "colorscale": [
             [
              0,
              "#0d0887"
             ],
             [
              0.1111111111111111,
              "#46039f"
             ],
             [
              0.2222222222222222,
              "#7201a8"
             ],
             [
              0.3333333333333333,
              "#9c179e"
             ],
             [
              0.4444444444444444,
              "#bd3786"
             ],
             [
              0.5555555555555556,
              "#d8576b"
             ],
             [
              0.6666666666666666,
              "#ed7953"
             ],
             [
              0.7777777777777778,
              "#fb9f3a"
             ],
             [
              0.8888888888888888,
              "#fdca26"
             ],
             [
              1,
              "#f0f921"
             ]
            ],
            "type": "heatmap"
           }
          ],
          "heatmapgl": [
           {
            "colorbar": {
             "outlinewidth": 0,
             "ticks": ""
            },
            "colorscale": [
             [
              0,
              "#0d0887"
             ],
             [
              0.1111111111111111,
              "#46039f"
             ],
             [
              0.2222222222222222,
              "#7201a8"
             ],
             [
              0.3333333333333333,
              "#9c179e"
             ],
             [
              0.4444444444444444,
              "#bd3786"
             ],
             [
              0.5555555555555556,
              "#d8576b"
             ],
             [
              0.6666666666666666,
              "#ed7953"
             ],
             [
              0.7777777777777778,
              "#fb9f3a"
             ],
             [
              0.8888888888888888,
              "#fdca26"
             ],
             [
              1,
              "#f0f921"
             ]
            ],
            "type": "heatmapgl"
           }
          ],
          "histogram": [
           {
            "marker": {
             "pattern": {
              "fillmode": "overlay",
              "size": 10,
              "solidity": 0.2
             }
            },
            "type": "histogram"
           }
          ],
          "histogram2d": [
           {
            "colorbar": {
             "outlinewidth": 0,
             "ticks": ""
            },
            "colorscale": [
             [
              0,
              "#0d0887"
             ],
             [
              0.1111111111111111,
              "#46039f"
             ],
             [
              0.2222222222222222,
              "#7201a8"
             ],
             [
              0.3333333333333333,
              "#9c179e"
             ],
             [
              0.4444444444444444,
              "#bd3786"
             ],
             [
              0.5555555555555556,
              "#d8576b"
             ],
             [
              0.6666666666666666,
              "#ed7953"
             ],
             [
              0.7777777777777778,
              "#fb9f3a"
             ],
             [
              0.8888888888888888,
              "#fdca26"
             ],
             [
              1,
              "#f0f921"
             ]
            ],
            "type": "histogram2d"
           }
          ],
          "histogram2dcontour": [
           {
            "colorbar": {
             "outlinewidth": 0,
             "ticks": ""
            },
            "colorscale": [
             [
              0,
              "#0d0887"
             ],
             [
              0.1111111111111111,
              "#46039f"
             ],
             [
              0.2222222222222222,
              "#7201a8"
             ],
             [
              0.3333333333333333,
              "#9c179e"
             ],
             [
              0.4444444444444444,
              "#bd3786"
             ],
             [
              0.5555555555555556,
              "#d8576b"
             ],
             [
              0.6666666666666666,
              "#ed7953"
             ],
             [
              0.7777777777777778,
              "#fb9f3a"
             ],
             [
              0.8888888888888888,
              "#fdca26"
             ],
             [
              1,
              "#f0f921"
             ]
            ],
            "type": "histogram2dcontour"
           }
          ],
          "mesh3d": [
           {
            "colorbar": {
             "outlinewidth": 0,
             "ticks": ""
            },
            "type": "mesh3d"
           }
          ],
          "parcoords": [
           {
            "line": {
             "colorbar": {
              "outlinewidth": 0,
              "ticks": ""
             }
            },
            "type": "parcoords"
           }
          ],
          "pie": [
           {
            "automargin": true,
            "type": "pie"
           }
          ],
          "scatter": [
           {
            "fillpattern": {
             "fillmode": "overlay",
             "size": 10,
             "solidity": 0.2
            },
            "type": "scatter"
           }
          ],
          "scatter3d": [
           {
            "line": {
             "colorbar": {
              "outlinewidth": 0,
              "ticks": ""
             }
            },
            "marker": {
             "colorbar": {
              "outlinewidth": 0,
              "ticks": ""
             }
            },
            "type": "scatter3d"
           }
          ],
          "scattercarpet": [
           {
            "marker": {
             "colorbar": {
              "outlinewidth": 0,
              "ticks": ""
             }
            },
            "type": "scattercarpet"
           }
          ],
          "scattergeo": [
           {
            "marker": {
             "colorbar": {
              "outlinewidth": 0,
              "ticks": ""
             }
            },
            "type": "scattergeo"
           }
          ],
          "scattergl": [
           {
            "marker": {
             "colorbar": {
              "outlinewidth": 0,
              "ticks": ""
             }
            },
            "type": "scattergl"
           }
          ],
          "scattermapbox": [
           {
            "marker": {
             "colorbar": {
              "outlinewidth": 0,
              "ticks": ""
             }
            },
            "type": "scattermapbox"
           }
          ],
          "scatterpolar": [
           {
            "marker": {
             "colorbar": {
              "outlinewidth": 0,
              "ticks": ""
             }
            },
            "type": "scatterpolar"
           }
          ],
          "scatterpolargl": [
           {
            "marker": {
             "colorbar": {
              "outlinewidth": 0,
              "ticks": ""
             }
            },
            "type": "scatterpolargl"
           }
          ],
          "scatterternary": [
           {
            "marker": {
             "colorbar": {
              "outlinewidth": 0,
              "ticks": ""
             }
            },
            "type": "scatterternary"
           }
          ],
          "surface": [
           {
            "colorbar": {
             "outlinewidth": 0,
             "ticks": ""
            },
            "colorscale": [
             [
              0,
              "#0d0887"
             ],
             [
              0.1111111111111111,
              "#46039f"
             ],
             [
              0.2222222222222222,
              "#7201a8"
             ],
             [
              0.3333333333333333,
              "#9c179e"
             ],
             [
              0.4444444444444444,
              "#bd3786"
             ],
             [
              0.5555555555555556,
              "#d8576b"
             ],
             [
              0.6666666666666666,
              "#ed7953"
             ],
             [
              0.7777777777777778,
              "#fb9f3a"
             ],
             [
              0.8888888888888888,
              "#fdca26"
             ],
             [
              1,
              "#f0f921"
             ]
            ],
            "type": "surface"
           }
          ],
          "table": [
           {
            "cells": {
             "fill": {
              "color": "#EBF0F8"
             },
             "line": {
              "color": "white"
             }
            },
            "header": {
             "fill": {
              "color": "#C8D4E3"
             },
             "line": {
              "color": "white"
             }
            },
            "type": "table"
           }
          ]
         },
         "layout": {
          "annotationdefaults": {
           "arrowcolor": "#2a3f5f",
           "arrowhead": 0,
           "arrowwidth": 1
          },
          "autotypenumbers": "strict",
          "coloraxis": {
           "colorbar": {
            "outlinewidth": 0,
            "ticks": ""
           }
          },
          "colorscale": {
           "diverging": [
            [
             0,
             "#8e0152"
            ],
            [
             0.1,
             "#c51b7d"
            ],
            [
             0.2,
             "#de77ae"
            ],
            [
             0.3,
             "#f1b6da"
            ],
            [
             0.4,
             "#fde0ef"
            ],
            [
             0.5,
             "#f7f7f7"
            ],
            [
             0.6,
             "#e6f5d0"
            ],
            [
             0.7,
             "#b8e186"
            ],
            [
             0.8,
             "#7fbc41"
            ],
            [
             0.9,
             "#4d9221"
            ],
            [
             1,
             "#276419"
            ]
           ],
           "sequential": [
            [
             0,
             "#0d0887"
            ],
            [
             0.1111111111111111,
             "#46039f"
            ],
            [
             0.2222222222222222,
             "#7201a8"
            ],
            [
             0.3333333333333333,
             "#9c179e"
            ],
            [
             0.4444444444444444,
             "#bd3786"
            ],
            [
             0.5555555555555556,
             "#d8576b"
            ],
            [
             0.6666666666666666,
             "#ed7953"
            ],
            [
             0.7777777777777778,
             "#fb9f3a"
            ],
            [
             0.8888888888888888,
             "#fdca26"
            ],
            [
             1,
             "#f0f921"
            ]
           ],
           "sequentialminus": [
            [
             0,
             "#0d0887"
            ],
            [
             0.1111111111111111,
             "#46039f"
            ],
            [
             0.2222222222222222,
             "#7201a8"
            ],
            [
             0.3333333333333333,
             "#9c179e"
            ],
            [
             0.4444444444444444,
             "#bd3786"
            ],
            [
             0.5555555555555556,
             "#d8576b"
            ],
            [
             0.6666666666666666,
             "#ed7953"
            ],
            [
             0.7777777777777778,
             "#fb9f3a"
            ],
            [
             0.8888888888888888,
             "#fdca26"
            ],
            [
             1,
             "#f0f921"
            ]
           ]
          },
          "colorway": [
           "#636efa",
           "#EF553B",
           "#00cc96",
           "#ab63fa",
           "#FFA15A",
           "#19d3f3",
           "#FF6692",
           "#B6E880",
           "#FF97FF",
           "#FECB52"
          ],
          "font": {
           "color": "#2a3f5f"
          },
          "geo": {
           "bgcolor": "white",
           "lakecolor": "white",
           "landcolor": "#E5ECF6",
           "showlakes": true,
           "showland": true,
           "subunitcolor": "white"
          },
          "hoverlabel": {
           "align": "left"
          },
          "hovermode": "closest",
          "mapbox": {
           "style": "light"
          },
          "paper_bgcolor": "white",
          "plot_bgcolor": "#E5ECF6",
          "polar": {
           "angularaxis": {
            "gridcolor": "white",
            "linecolor": "white",
            "ticks": ""
           },
           "bgcolor": "#E5ECF6",
           "radialaxis": {
            "gridcolor": "white",
            "linecolor": "white",
            "ticks": ""
           }
          },
          "scene": {
           "xaxis": {
            "backgroundcolor": "#E5ECF6",
            "gridcolor": "white",
            "gridwidth": 2,
            "linecolor": "white",
            "showbackground": true,
            "ticks": "",
            "zerolinecolor": "white"
           },
           "yaxis": {
            "backgroundcolor": "#E5ECF6",
            "gridcolor": "white",
            "gridwidth": 2,
            "linecolor": "white",
            "showbackground": true,
            "ticks": "",
            "zerolinecolor": "white"
           },
           "zaxis": {
            "backgroundcolor": "#E5ECF6",
            "gridcolor": "white",
            "gridwidth": 2,
            "linecolor": "white",
            "showbackground": true,
            "ticks": "",
            "zerolinecolor": "white"
           }
          },
          "shapedefaults": {
           "line": {
            "color": "#2a3f5f"
           }
          },
          "ternary": {
           "aaxis": {
            "gridcolor": "white",
            "linecolor": "white",
            "ticks": ""
           },
           "baxis": {
            "gridcolor": "white",
            "linecolor": "white",
            "ticks": ""
           },
           "bgcolor": "#E5ECF6",
           "caxis": {
            "gridcolor": "white",
            "linecolor": "white",
            "ticks": ""
           }
          },
          "title": {
           "x": 0.05
          },
          "xaxis": {
           "automargin": true,
           "gridcolor": "white",
           "linecolor": "white",
           "ticks": "",
           "title": {
            "standoff": 15
           },
           "zerolinecolor": "white",
           "zerolinewidth": 2
          },
          "yaxis": {
           "automargin": true,
           "gridcolor": "white",
           "linecolor": "white",
           "ticks": "",
           "title": {
            "standoff": 15
           },
           "zerolinecolor": "white",
           "zerolinewidth": 2
          }
         }
        },
        "title": {
         "text": "Average Rating by Duration of TV Show"
        },
        "xaxis": {
         "anchor": "y",
         "domain": [
          0,
          1
         ],
         "title": {
          "text": "Duration (Year)"
         }
        },
        "yaxis": {
         "anchor": "x",
         "domain": [
          0,
          1
         ],
         "title": {
          "text": "Average Rating"
         }
        }
       }
      }
     },
     "metadata": {},
     "output_type": "display_data"
    }
   ],
   "source": [
    "#make new column 'duration' by subtracting endYear from releaseYear\n",
    "id3['duration'] = id3['endYear'] - id3['releaseYear']\n",
    "id3\n",
    "#decending order of duration\n",
    "id3.sort_values(by='duration', ascending=False)\n",
    "#find average rating of per duration and include how many data in each duration\n",
    "id3_durat = id3.groupby('duration')['rating'].agg(['mean', 'count'])\n",
    "#reset index of id3_durat\n",
    "id3_durat = id3_durat.reset_index()\n",
    "#make bubble chart of id3_durattrendline\n",
    "fig = px.scatter(id3_durat, x='duration', y='mean', size='count', color='count', hover_name='duration', size_max=60, trendline=\"lowess\",trendline_options=dict(frac=0.1), trendline_color_override=\"red\")\n",
    "#title of the chart\n",
    "fig.update_layout(title='Average Rating by Duration of TV Show')\n",
    "#x axis name\n",
    "fig.update_xaxes(title_text='Duration (Year)')\n",
    "#y axis name\n",
    "fig.update_yaxes(title_text='Average Rating')\n",
    "#remove background\n",
    "fig.update_layout(plot_bgcolor='rgba(0,0,0,0)')\n",
    "fig.show()\n"
   ]
  },
  {
   "attachments": {},
   "cell_type": "markdown",
   "metadata": {},
   "source": [
    "Duration makes better on their rating?\n",
    "\n",
    "Until year 6, it kinda makes it better but after that, does not have relevance.\n",
    "\n",
    "But for TV Shows, to success in their rating, it is good to make until 5-6 year, since it has best possibility to have best average rating"
   ]
  }
 ],
 "metadata": {
  "kernelspec": {
   "display_name": "Python 3",
   "language": "python",
   "name": "python3"
  },
  "language_info": {
   "codemirror_mode": {
    "name": "ipython",
    "version": 3
   },
   "file_extension": ".py",
   "mimetype": "text/x-python",
   "name": "python",
   "nbconvert_exporter": "python",
   "pygments_lexer": "ipython3",
   "version": "3.11.2"
  },
  "orig_nbformat": 4
 },
 "nbformat": 4,
 "nbformat_minor": 2
}
